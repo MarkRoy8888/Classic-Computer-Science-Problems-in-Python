{
 "cells": [
  {
   "cell_type": "code",
   "execution_count": 1,
   "metadata": {},
   "outputs": [
    {
     "name": "stdout",
     "output_type": "stream",
     "text": [
      "Enter a legal square (0-8): 4\n",
      "Computer move is 0\n",
      "O| | \n",
      "-----\n",
      " |X| \n",
      "-----\n",
      " | | \n",
      "Enter a legal square (0-8): 0\n",
      "Enter a legal square (0-8): 3\n",
      "Computer move is 5\n",
      "O| | \n",
      "-----\n",
      "X|X|O\n",
      "-----\n",
      " | | \n",
      "Enter a legal square (0-8): 2\n",
      "Computer move is 6\n",
      "O| |X\n",
      "-----\n",
      "X|X|O\n",
      "-----\n",
      "O| | \n",
      "Enter a legal square (0-8): 8\n",
      "Computer move is 1\n",
      "O|O|X\n",
      "-----\n",
      "X|X|O\n",
      "-----\n",
      "O| |X\n",
      "Enter a legal square (0-8): 7\n",
      "Draw!\n"
     ]
    }
   ],
   "source": [
    "from minimax import find_best_move\n",
    "from tictactoe import TTTBoard\n",
    "from board import Move, Board\n",
    "\n",
    "board: Board = TTTBoard()\n",
    "\n",
    "# a functin that asks the user to input a move\n",
    "def get_player_move() -> Move:\n",
    "    # initialise Move to a negative number\n",
    "    player_move: Move = Move(-1)\n",
    "    # as for a move. condition will satisfy as Move(-1)\n",
    "    # is not a legal move\n",
    "    while player_move not in board.legal_moves:\n",
    "        play: int = int(input(\"Enter a legal square (0-8): \"))\n",
    "        player_move = Move(play)\n",
    "    return player_move\n",
    "\n",
    "\n",
    "if __name__ == \"__main__\":\n",
    "    # main game loop\n",
    "    while True:\n",
    "        # human player plays first\n",
    "        human_move: Move = get_player_move()\n",
    "        # create a board using the move\n",
    "        board = board.move(human_move)\n",
    "        if board.is_win:\n",
    "            print(\"Human wins!\")\n",
    "            break\n",
    "        elif board.is_draw:\n",
    "            print(\"Draw!\")\n",
    "            break\n",
    "        # run the find_best_move function\n",
    "        computer_move: Move = find_best_move(board)\n",
    "        print(f\"Computer move is {computer_move}\")\n",
    "        board = board.move(computer_move)\n",
    "        print(board)\n",
    "        if board.is_win:\n",
    "            print(\"Computer wins!\")\n",
    "        elif board.is_draw:\n",
    "            print(\"Draw!\")\n",
    "            break\n"
   ]
  },
  {
   "cell_type": "markdown",
   "metadata": {},
   "source": [
    "\"Because the default __max_depth__ of __find_best_move()__ is 8, the AI will always see to the very end of the game. (The maximum number of moves in tic-tac-toe is nine, and the AI goes second.)\""
   ]
  }
 ],
 "metadata": {
  "kernelspec": {
   "display_name": "Python 3",
   "language": "python",
   "name": "python3"
  },
  "language_info": {
   "codemirror_mode": {
    "name": "ipython",
    "version": 3
   },
   "file_extension": ".py",
   "mimetype": "text/x-python",
   "name": "python",
   "nbconvert_exporter": "python",
   "pygments_lexer": "ipython3",
   "version": "3.7.6"
  }
 },
 "nbformat": 4,
 "nbformat_minor": 2
}
