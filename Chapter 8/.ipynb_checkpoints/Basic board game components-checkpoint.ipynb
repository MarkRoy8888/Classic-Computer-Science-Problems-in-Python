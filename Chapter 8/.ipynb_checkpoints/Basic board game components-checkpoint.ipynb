{
 "cells": [
  {
   "cell_type": "markdown",
   "metadata": {},
   "source": [
    "In many board games, you have a zero sum situation with perfect information. There are also clear definitions of success and failures. The goal is to create an artificial opponent that can play these games with great skill.\n",
    "\n",
    "To start off with, like in previous chapters, we create generic classes that define all the state of our search algorithm.\n",
    "\n",
    "- The __Move__ type will represent a move in a game. You can have an integer that represents the square or column where a piece should be placed.\n",
    "- __Piece__ is a base class for a board game. It has a property called __opposite__ which indicates who is next after a given turn.\n",
    "- __Because tic-tac-toe and Connect Four only have one kind of piece, the Piece class can double as a turn indicator in this chapter. For a more complex game, like chess, that has different kinds of pieces, turns can be indicated by an integer or a Boolean. Alternatively, just the “color” attribute of a more complex Piece type could be used to indicate turn.__\n",
    "- The __Board__ abstract base class is the maintainer of the state. \n",
    "\n",
    "For each game, we need to address four questions:\n",
    "1. Whose turn is it?\n",
    "2. What legal moves can be played in the current position?\n",
    "3. Is the game won?\n",
    "4. Is the game drawn?\n",
    "\n",
    "We also want to take the following actions:\n",
    "- Make a move to go from the current position to a new position.\n",
    "- Evaluate the position to see which player has an advantage.\n",
    "\n",
    "To go into board.py:"
   ]
  },
  {
   "cell_type": "code",
   "execution_count": null,
   "metadata": {},
   "outputs": [],
   "source": [
    "from __future__ import annotations\n",
    "from typing import NewType, List\n",
    "from abc import ABC, abstractmethod\n",
    "\n",
    "Move = NewType(\"Move\", int)\n",
    "\n",
    "\n",
    "class Piece:\n",
    "    @property\n",
    "    def opposite(self) -> Piece:\n",
    "        raise NotImplementedError(\"Should be implemented by subclass\")\n",
    "\n",
    "\n",
    "class Board(ABC):\n",
    "    @property\n",
    "    @abstractmethod\n",
    "    def turn(self) -> Piece:\n",
    "        ...\n",
    "\n",
    "    @abstractmethod\n",
    "    def move(self, location: Move) -> Board:\n",
    "        ...\n",
    "\n",
    "    @property\n",
    "    @abstractmethod\n",
    "    def legal_moves(self) -> List[Move]:\n",
    "        ...\n",
    "\n",
    "    @property\n",
    "    @abstractmethod\n",
    "    def is_win(self) -> bool:\n",
    "        ...\n",
    "\n",
    "    @property\n",
    "    def is_draw(self) -> bool:\n",
    "        return (not self.is_win) and (len(self.legal_moves) == 0)\n",
    "\n",
    "    @abstractmethod\n",
    "    def evaluate(self, player: Piece) -> float:\n",
    "        ...\n"
   ]
  }
 ],
 "metadata": {
  "kernelspec": {
   "display_name": "Python 3",
   "language": "python",
   "name": "python3"
  },
  "language_info": {
   "codemirror_mode": {
    "name": "ipython",
    "version": 3
   },
   "file_extension": ".py",
   "mimetype": "text/x-python",
   "name": "python",
   "nbconvert_exporter": "python",
   "pygments_lexer": "ipython3",
   "version": "3.7.6"
  }
 },
 "nbformat": 4,
 "nbformat_minor": 2
}
