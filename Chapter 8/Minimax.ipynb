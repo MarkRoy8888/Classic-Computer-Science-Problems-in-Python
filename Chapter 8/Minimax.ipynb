{
 "cells": [
  {
   "cell_type": "markdown",
   "metadata": {},
   "source": [
    "- Minimax is a class algorithm to find the best move in a 2 player, zero-sum game with perfect information.\n",
    "- Typically implemented using a recursive function with one player designated the maximising player and the other the minimising player.\n",
    "\n",
    "\" The maximizing player aims to find the move that will lead to maximal gains. However, the maximizing player must account for moves by the minimizing player. After each attempt to maximize the gains of the maximizing player, minima is called recursively to find the opponent's reply that minimizes the maximizing player's gains. THis continues back and forth (maximizing, minimizing, and so on) until a base case in the recursive function is reached. The base case is a terminal position (a win or a draw) or a maximal search depth. The base case is a terminal position (a win or a draw) or a maximal search depth.\"\n",
    "\n",
    "- The __evaluate()__ method of the __TTTboard__ class evaluates the best possible plays by both sides and returns 1 for a win of the maximising player, -1 for a loss and 0 for a draw.\n",
    "\n",
    "A video that explains the \"bubble up\" the decision tree process: https://www.youtube.com/watch?v=EI6vb82I9-o\n",
    "\n",
    "- For games that have too deep a search space like chess, minimax is stopped after a certain depth. Then the evaluation function is used to score the state of the game.\n",
    "\n",
    "The minimax function - to go into minimax.py:"
   ]
  },
  {
   "cell_type": "code",
   "execution_count": null,
   "metadata": {},
   "outputs": [],
   "source": [
    "from __future__ import annotations\n",
    "from board import Piece, Board, Move\n",
    "\n",
    "# find the best possible outcome for original player\n",
    "def minimax(\n",
    "    board: Board, maximizing: bool, original_player: Piece, max_depth: int = 8\n",
    ") -> float:\n",
    "    # Base case - terminal position or maximum depth reached\n",
    "    if board.is_win or board.is_draw or max_depth == 0:\n",
    "        return board.evaluate(original_player)\n",
    "\n",
    "    # recursive case - maximise your gains or minimise the opponet's gains\n",
    "    if maximizing:\n",
    "        best_eval: float = float(\n",
    "            \"-inf\"\n",
    "        )  # arbitarily low starting point, negative infinity\n",
    "        # Recursion step. Each move is also a board\n",
    "        # maximising changed to False because of switching turn\n",
    "        for move in board.legal_moves:\n",
    "            result: float = minimax(\n",
    "                board.move(move), False, original_player, max_depth - 1\n",
    "            )\n",
    "            # compare if the result is better than the current\n",
    "            # value of best_eval, if so update best_eval\n",
    "            best_eval = max(result, best_eval)\n",
    "        return best_eval\n",
    "    else:  # minimising\n",
    "        worst_eval: float = float(\"inf\")  # arbitarily high starting point, infinity\n",
    "        for move in board.legal_moves:\n",
    "            result = minimax(board.move(move), True, original_player, max_depth - 1)\n",
    "            # compare if the result is lower than the current\n",
    "            # value of worst_eval, if so update worst_eval\n",
    "            worst_eval = min(result, worst_eval)\n",
    "        return worst_eval\n"
   ]
  },
  {
   "cell_type": "markdown",
   "metadata": {},
   "source": [
    "The __minimax()__ function solves the game but cannot find the best move for a given position, nor does it tell us what is the best first move.\n",
    "\n",
    "\"...we will create a helper function, find_best_move(), that loops through calls to __minimax()__ for each legal move in a position to find the move that evaluates to the highest value. You can think of __find_best_move()__ as the first maximizing call to __minimax()__, but with us keeping track of those initial moves.\"\n",
    "\n",
    "To go into minimax.py:"
   ]
  },
  {
   "cell_type": "code",
   "execution_count": null,
   "metadata": {},
   "outputs": [],
   "source": [
    "# Find the best possible move in the current position\n",
    "# Looking up to max_depth ahead\n",
    "def find_best_move(board: Board, max_depth: int = 8) -> Move:\n",
    "    # initialise values to negative numbers\n",
    "    best_eval: float = float(\"-inf\")\n",
    "    best_move: Move = Move(-1)\n",
    "    # go through the possible moves and update not only the best_eval\n",
    "    # but also the best_move\n",
    "    for move in board.legal_moves:\n",
    "        result: float = minimax(board.move(move), False, board.turn, max_depth)\n",
    "        if result > best_eval:\n",
    "            best_eval = result\n",
    "            best_move = move\n",
    "    return best_move"
   ]
  }
 ],
 "metadata": {
  "kernelspec": {
   "display_name": "Python 3",
   "language": "python",
   "name": "python3"
  },
  "language_info": {
   "codemirror_mode": {
    "name": "ipython",
    "version": 3
   },
   "file_extension": ".py",
   "mimetype": "text/x-python",
   "name": "python",
   "nbconvert_exporter": "python",
   "pygments_lexer": "ipython3",
   "version": "3.7.6"
  }
 },
 "nbformat": 4,
 "nbformat_minor": 2
}
