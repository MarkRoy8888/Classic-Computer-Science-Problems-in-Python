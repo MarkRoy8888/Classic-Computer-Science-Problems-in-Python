{
 "cells": [
  {
   "cell_type": "markdown",
   "metadata": {},
   "source": [
    "- The __TTTPiece__ has the property __Opposite__ that returns another __TTTPiece__ that represents the change of turn after each move.\n",
    "\n",
    "- We will use an integer to represent the square on the board where a piece is place. __Move__ was defined as an integer in __board.py__:\n",
    "\n",
    "0|1|2\n",
    "-----\n",
    "3|4|5\n",
    "-----\n",
    "6|7|8\n",
    "-----\n"
   ]
  },
  {
   "cell_type": "code",
   "execution_count": 1,
   "metadata": {},
   "outputs": [],
   "source": [
    "from __future__ import annotations\n",
    "from typing import List\n",
    "from enum import Enum\n",
    "\n",
    "# defined in board.py\n",
    "from board import Piece, Board, Move\n",
    "\n",
    "# a subclass of Piece but also an enum\n",
    "class TTTPiece(Piece, Enum):\n",
    "    X = 'X'\n",
    "    O = 'O'\n",
    "    E = ' ' # stand-in for empty\n",
    "    \n",
    "    @property\n",
    "    def opposite(self) -> TTTPiece:\n",
    "        if self == TTTPiece.X:\n",
    "            return TTTPiece.O\n",
    "        elif self == TTTPiece.O:\n",
    "            return TTTPiece.X\n",
    "        else:\n",
    "            return TTTPiece.E\n",
    "    \n",
    "    def __str__(self) -> str:\n",
    "        return self.value"
   ]
  },
  {
   "cell_type": "markdown",
   "metadata": {},
   "source": [
    "The __TTTBoard__ will keep track of 2 states: the position and whose turn it is.\n",
    "\n",
    "- The default board is an empty board.\n",
    "- Start with X.\n",
    "- We have 2 __.turn__ to ensure all Board subclasses to keep track whose turn it is. There is no clear and obvious way in Python to specify in an abstract base class that subclasses must include a particular instance variable, but there is such a mechanism for properties.\n",
    "\n",
    "\n",
    "- Our __TTTBoard__ has an informally immutable data structure. Every time a move needs to be played, a new __TTTBoard__ with the position changed to accomodate the move will be generated. This will keep the positions of a board stable when potential moves are being analysed by the algorithm."
   ]
  },
  {
   "cell_type": "code",
   "execution_count": null,
   "metadata": {},
   "outputs": [],
   "source": [
    "class TTTBoard(Board):\n",
    "    def __init__(self, position: List[TTTPiece] = [TTTPiece.E]* 9, turn:\n",
    "                TTTPiece = TTTPiece.X) -> None:\n",
    "            self.position: List[TTTPiece] = position\n",
    "            self._turn: TTTPiece = turn\n",
    "    \n",
    "    @property\n",
    "    def turn(self) -> Piece:\n",
    "        return self._turn\n",
    "    \n",
    "    def move(self, location: Move) -> Board:\n",
    "        temp_position: List[TTTPiece] = self.position.copy()\n",
    "        temp_position:[location] = self._turn\n",
    "        return TTTBoard(temp_position, self._turn.opposite)\n",
    "    \n",
    "    @property\n",
    "    def legal_moves(self) -> List[Move]:\n",
    "        # list of new boards that can be generated based on current empty positions\n",
    "        return [Move(l) for l in range(len(self.position)) if self.position[l] == TTTPiece.E]\n",
    "    \n",
    "    # If all of a row’s, column’s, or diagonal’s squares are not empty, and they \n",
    "    # contain the same piece, the game has been won.\n",
    "    @property\n",
    "    def is_win(self) -> bool:\n",
    "        # three row, three column, and then two diagonal checks\n",
    "        return self.position[0] == self.position[1] and self.position[0] == self.position[2] and self.position[0] != TTTPiece.E or \\\n",
    "        self.position[3] == self.position[4] and self.position[3] == self.position[5] and self.position[3] != TTTPiece.E or \\\n",
    "        self.position[6] == self.position[7] and self.position[6] == self.position[8] and self.position[6] != TTTPiece.E or \\\n",
    "        self.position[0] == self.position[3] and self.position[0] == self.position[6] and self.position[0] != TTTPiece.E or \\\n",
    "        self.position[1] == self.position[4] and self.position[1] == self.position[7] and self.position[1] != TTTPiece.E or \\\n",
    "        self.position[2] == self.position[5] and self.position[2] == self.position[8] and self.position[2] != TTTPiece.E or \\\n",
    "        self.position[0] == self.position[4] and self.position[0] == self.position[8] and self.position[0] != TTTPiece.E or \\\n",
    "        self.position[2] == self.position[4] and self.position[2] == self.position[6] and self.position[2] != TTTPiece.E\n",
    "    \n",
    "    # a way to evaluate the current position\n",
    "    def evaluate(self, player: Piece) -> float:\n",
    "        if self.is_win and self.turn == player:\n",
    "            return -1\n",
    "        elif self.is_win and self.turn != player:\n",
    "            return 1\n",
    "        else:\n",
    "            return 0\n",
    "        \n",
    "    # a pretty printing for the board\n",
    "    def __repr__(self) -> str:\n",
    "        return f\"\"\"{self.position[0]}|{self.position[1]}|{self.position[2]}\n",
    "-----\n",
    "{self.position[3]}|{self.position[4]}|{self.position[5]}\n",
    "-----\n",
    "{self.position[6]}|{self.position[7]}|{self.position[8]}\"\"\""
   ]
  },
  {
   "cell_type": "markdown",
   "metadata": {},
   "source": [
    "__All of the code in this notebook goes into tictactoe.py__"
   ]
  },
  {
   "cell_type": "code",
   "execution_count": null,
   "metadata": {},
   "outputs": [],
   "source": []
  }
 ],
 "metadata": {
  "kernelspec": {
   "display_name": "Python 3",
   "language": "python",
   "name": "python3"
  },
  "language_info": {
   "codemirror_mode": {
    "name": "ipython",
    "version": 3
   },
   "file_extension": ".py",
   "mimetype": "text/x-python",
   "name": "python",
   "nbconvert_exporter": "python",
   "pygments_lexer": "ipython3",
   "version": "3.7.6"
  }
 },
 "nbformat": 4,
 "nbformat_minor": 2
}
