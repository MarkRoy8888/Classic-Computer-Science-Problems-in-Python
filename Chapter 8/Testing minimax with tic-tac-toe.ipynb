{
 "cells": [
  {
   "cell_type": "markdown",
   "metadata": {},
   "source": [
    "We are going to use the __unittest__ module in python to test our board, tictactoe and minimax scripts.\n",
    "\n",
    "This is a great tutorial on the unittest module by Corey Schafer: https://www.youtube.com/watch?v=6tNS--WetLI\n",
    "\n",
    "To go into tictactoe_test.py\n",
    "\n",
    "__Note__"
   ]
  },
  {
   "cell_type": "code",
   "execution_count": 1,
   "metadata": {},
   "outputs": [
    {
     "name": "stderr",
     "output_type": "stream",
     "text": [
      "...\n",
      "----------------------------------------------------------------------\n",
      "Ran 3 tests in 0.020s\n",
      "\n",
      "OK\n"
     ]
    }
   ],
   "source": [
    "import unittest\n",
    "from typing import List\n",
    "\n",
    "# import our scripts\n",
    "from minimax import find_best_move\n",
    "from tictactoe import TTTPiece, TTTBoard\n",
    "from board import Move\n",
    "\n",
    "\n",
    "class TTTMinimaxTestCase(unittest.TestCase):\n",
    "    # all test methods must begin with \"test_\"\n",
    "    def test_easy_position(self):\n",
    "        # win in 1 move\n",
    "        to_win_easy_position: List[TTTPiece] = [\n",
    "            TTTPiece.X,TTTPiece.O,TTTPiece.X,\n",
    "            TTTPiece.X,TTTPiece.E,TTTPiece.O,\n",
    "            TTTPiece.E,TTTPiece.E,TTTPiece.O,\n",
    "        ]\n",
    "        # pass in the current positions and turn to the TTTBoard\n",
    "        test_board1: TTTBoard = TTTBoard(to_win_easy_position, TTTPiece.X)\n",
    "        # use find_best_move function to find the best move\n",
    "        answer1: Move = find_best_move(test_board1)\n",
    "        # the winning move should be Sq 6, the bottom left sq\n",
    "        self.assertEqual(answer1, 6)\n",
    "\n",
    "    def test_block_position(self):\n",
    "        # must block O's to win\n",
    "        to_block_position: List[TTTPiece] = [\n",
    "            TTTPiece.X,TTTPiece.E,TTTPiece.E,\n",
    "            TTTPiece.E,TTTPiece.E,TTTPiece.O,\n",
    "            TTTPiece.E,TTTPiece.X,TTTPiece.O,\n",
    "        ]\n",
    "        test_board2: TTTBoard = TTTBoard(to_block_position, TTTPiece.X)\n",
    "        answer2: Move = find_best_move(test_board2)\n",
    "        # the best move is to block at Sq 2, the top right sq\n",
    "        self.assertEqual(answer2, 2)\n",
    "\n",
    "    def test_hard_position(self):\n",
    "        # find the best move to win 2 moves\n",
    "        to_win_hard_position: List[TTTPiece] = [\n",
    "            TTTPiece.X,TTTPiece.E,TTTPiece.E,\n",
    "            TTTPiece.E,TTTPiece.E,TTTPiece.O,\n",
    "            TTTPiece.O,TTTPiece.X,TTTPiece.E,\n",
    "        ]\n",
    "        test_board3: TTTBoard = TTTBoard(to_win_hard_position, TTTPiece.X)\n",
    "        answer3: Move = find_best_move(test_board3)\n",
    "        self.assertEqual(answer3, 1)\n",
    "\n",
    "'''\n",
    "if __name__ == \"__main__\":\n",
    "    unittest.main()\n",
    "'''\n",
    "\n",
    "# modified for running on Jupyter Notebook:\n",
    "if __name__ == '__main__':\n",
    "    unittest.main(argv=['first-arg-is-ignored'], exit=False)"
   ]
  }
 ],
 "metadata": {
  "kernelspec": {
   "display_name": "Python 3",
   "language": "python",
   "name": "python3"
  },
  "language_info": {
   "codemirror_mode": {
    "name": "ipython",
    "version": 3
   },
   "file_extension": ".py",
   "mimetype": "text/x-python",
   "name": "python",
   "nbconvert_exporter": "python",
   "pygments_lexer": "ipython3",
   "version": "3.7.6"
  }
 },
 "nbformat": 4,
 "nbformat_minor": 2
}
