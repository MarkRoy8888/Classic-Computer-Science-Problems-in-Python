{
 "cells": [
  {
   "cell_type": "markdown",
   "metadata": {},
   "source": [
    "We have 3 \"towers\", Towers A to C. You have 3 discs on Tower A, Discs 1 to 3 with 1 the widest, followed by 2 and then 3.\n",
    "\n",
    "Our goal is to move the discs from Tower A to Tower C with the following rules:\n",
    "    - Only one disc can be moved at a time.\n",
    "    - The top most disc of any tower is the only one available for moving.\n",
    "    - A wider disc can never be on top of a narrower disc.\n",
    "    \n",
    "We can model the moving of disc with a data structure called stack. It is a data container that follows a Last-in-First-Out (LIFO) rule. To push is to add a new item to a stack and to pop is to remove and return the last item you added to the stack."
   ]
  },
  {
   "cell_type": "code",
   "execution_count": 1,
   "metadata": {},
   "outputs": [],
   "source": [
    "from typing import TypeVar, Generic, List\n",
    "\n",
    "T = TypeVar('T')\n",
    "\n",
    "class Stack(Generic[T]):\n",
    "    \n",
    "    def __init__(self) -> None:\n",
    "        self._container: List[T] = []\n",
    "    \n",
    "    def push(self, item: T) -> None:\n",
    "        self._container.append(item)\n",
    "        \n",
    "    def pop(self) -> None:\n",
    "        # using the .pop() of a list\n",
    "        return self._container.pop()\n",
    "    \n",
    "    def __repr__(self) -> str:\n",
    "        return repr(self._container)"
   ]
  },
  {
   "cell_type": "markdown",
   "metadata": {},
   "source": [
    "Defining our towers:"
   ]
  },
  {
   "cell_type": "code",
   "execution_count": 2,
   "metadata": {},
   "outputs": [],
   "source": [
    "num_discs: int = 3\n",
    "\n",
    "tower_a: Stack[int] = Stack()\n",
    "tower_b: Stack[int] = Stack()\n",
    "tower_c: Stack[int] = Stack()\n",
    "\n",
    "for i in range(1, num_discs + 1):\n",
    "    tower_a.push(i)"
   ]
  },
  {
   "cell_type": "markdown",
   "metadata": {},
   "source": [
    "The solution is a recursion.\n",
    "1. Move the upper n-1 discs from Tower A to B (the temporary tower), using C as the in-between.\n",
    "2. Move the single lowest disc from A to C.\n",
    "3. Move the n-1 discs from Tower B to C, using A as the in-between.\n",
    "\n",
    "This recursive algorithm works for not only 3 discs but any number of discs."
   ]
  },
  {
   "cell_type": "code",
   "execution_count": 3,
   "metadata": {},
   "outputs": [],
   "source": [
    "def hanoi(begin: Stack[int], end: Stack[int], temp: Stack[int], n: int) -> None:\n",
    "    if n == 1:\n",
    "        end.push(begin.pop())\n",
    "    else:\n",
    "        hanoi(begin, temp, end, n - 1)\n",
    "        hanoi(begin, end, temp, 1)\n",
    "        hanoi(temp, end, begin, n - 1)"
   ]
  },
  {
   "cell_type": "code",
   "execution_count": 4,
   "metadata": {},
   "outputs": [
    {
     "name": "stdout",
     "output_type": "stream",
     "text": [
      "[] \n",
      "\n",
      "[] \n",
      "\n",
      "[1, 2, 3]\n"
     ]
    }
   ],
   "source": [
    "hanoi(tower_a, tower_c, tower_b, num_discs)\n",
    "print(tower_a,\"\\n\")\n",
    "print(tower_b,\"\\n\")\n",
    "print(tower_c)"
   ]
  },
  {
   "cell_type": "markdown",
   "metadata": {},
   "source": [
    "Note: As n (no. of discs) increases, the number of times the hanoi() function goes through itself recursively increases exponentially."
   ]
  }
 ],
 "metadata": {
  "kernelspec": {
   "display_name": "Python 3",
   "language": "python",
   "name": "python3"
  },
  "language_info": {
   "codemirror_mode": {
    "name": "ipython",
    "version": 3
   },
   "file_extension": ".py",
   "mimetype": "text/x-python",
   "name": "python",
   "nbconvert_exporter": "python",
   "pygments_lexer": "ipython3",
   "version": "3.7.6"
  }
 },
 "nbformat": 4,
 "nbformat_minor": 2
}
