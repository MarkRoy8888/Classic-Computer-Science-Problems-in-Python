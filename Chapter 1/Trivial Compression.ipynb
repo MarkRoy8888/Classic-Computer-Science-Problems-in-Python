{
 "cells": [
  {
   "cell_type": "markdown",
   "metadata": {},
   "source": [
    "Storing DNA nucleotides as a bit string instead of a __str__:\n",
    "\n",
    "A bit string is an arbitary-length sequence of 1s and 0s.\n",
    "\n",
    "Below we have a simple class that let you compress DNA values 'A', 'C', 'G', and 'T' to 2 bits of binary values at a time.\n",
    "\n",
    "\n",
    "From the book:\n",
    "\n",
    "\"Note that _compress() starts with an underscore. Python has no concept of truly private methods or variables. ( All variables and methods can be accessed through reflection; there's no strict enforcement of privacy.) A leading underscore is used as a convention to indicate that the implementation of a method should not be relied on by actors outside of the class...\""
   ]
  },
  {
   "cell_type": "code",
   "execution_count": 1,
   "metadata": {},
   "outputs": [],
   "source": [
    "class CompressedGene:\n",
    "    def __init__(self, gene: str) -> None:\n",
    "        self._compress(gene)\n",
    "    \n",
    "    def _compress(self, gene: str) -> None:\n",
    "        self.bit_string: int = 1 # start with sentinel\n",
    "        for nucleotid in gene.upper():\n",
    "            self.bit_string <<= 2 # shift left two bits\n",
    "            if nucleotid == 'A': # change the last 2 bits to 00\n",
    "                self.bit_string |= 0b00\n",
    "            elif nucleotid == 'C': # change the last 2 bits to 01\n",
    "                self.bit_string |= 0b01\n",
    "            elif nucleotid == 'G': # change last 2 bits to 10\n",
    "                self.bit_string |= 0b10\n",
    "            elif nucleotid == 'T': # change last 2 bits to 11\n",
    "                self.bit_string |= 0b11\n",
    "            else:\n",
    "                raise ValueError(f'Invalid Nucleotide: {nucleotide}')\n",
    "    \n",
    "    def decompress(self) -> str:\n",
    "        gene: str = ''\n",
    "        for i in range(0, self.bit_string.bit_length() -1, 2):\n",
    "            # -1 is to exclude the sentinel value of 1 at the end\n",
    "            bits: int = self.bit_string >> i & 0b11 \n",
    "                # get 2 relevant bits. you start with 0.\n",
    "            if bits == 0b00:\n",
    "                gene += 'A'\n",
    "            elif bits == 0b01:\n",
    "                gene += 'C'\n",
    "            elif bits == 0b10:\n",
    "                gene += 'G'\n",
    "            elif bits == 0b11:\n",
    "                gene += 'T'\n",
    "            else:\n",
    "                raise ValueError(f'Invalid bits: {bits}')\n",
    "        return gene[::-1] # [::-1] reverses string by slicing backward\n",
    "    \n",
    "    def __str__(self) -> str: # string representation for pretty printing\n",
    "        return self.decompress()"
   ]
  },
  {
   "cell_type": "code",
   "execution_count": 4,
   "metadata": {},
   "outputs": [
    {
     "name": "stdout",
     "output_type": "stream",
     "text": [
      "original is 239 bytes\n",
      "compressed is 76 bytes\n",
      "TAGGGATTAACCGTTATATATATATACATGATACATAGTAGGGATTAACCGTTATATATATATACATGATACATAGTAGGGATTAACCGTTATATATATATACATGATACATAGTAGGGATTAACCGTTATATATATATACATGATACATAGTAGGGATTAACCGTTATATATATATACATGATACATAG\n",
      "original and decompressed are the same: True\n"
     ]
    }
   ],
   "source": [
    "from sys import getsizeof \n",
    "original: str = \"TAGGGATTAACCGTTATATATATATACATGATACATAG\" * 5\n",
    "print(\"original is {} bytes\".format(getsizeof(original)))\n",
    "compressed: CompressedGene = CompressedGene(original)\n",
    "print(\"compressed is {} bytes\".format(getsizeof(compressed.bit_string)))\n",
    "print(compressed)\n",
    "print(\"original and decompressed are the same: {}\".format(original == compressed.decompress()))"
   ]
  },
  {
   "cell_type": "markdown",
   "metadata": {},
   "source": []
  }
 ],
 "metadata": {
  "kernelspec": {
   "display_name": "Python 3",
   "language": "python",
   "name": "python3"
  },
  "language_info": {
   "codemirror_mode": {
    "name": "ipython",
    "version": 3
   },
   "file_extension": ".py",
   "mimetype": "text/x-python",
   "name": "python",
   "nbconvert_exporter": "python",
   "pygments_lexer": "ipython3",
   "version": "3.7.9"
  }
 },
 "nbformat": 4,
 "nbformat_minor": 2
}
