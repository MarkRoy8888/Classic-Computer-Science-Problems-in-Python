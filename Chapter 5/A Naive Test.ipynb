{
 "cells": [
  {
   "cell_type": "markdown",
   "metadata": {},
   "source": [
    "Let's try to maximise the equation $6x$ – $x^2$ + $4y$ – $y^2$\n",
    "\n",
    "Note: quick explanation about deepcopy https://www.youtube.com/watch?v=j5hlstC2pjI"
   ]
  },
  {
   "cell_type": "code",
   "execution_count": 1,
   "metadata": {},
   "outputs": [],
   "source": [
    "from __future__ import annotations\n",
    "from typing import Tuple, List\n",
    "from chromosome import Chromosome\n",
    "from genetic_algorithm import GeneticAlgorithm\n",
    "from random import randrange, random\n",
    "from copy import deepcopy\n",
    "\n",
    "class SimpleEquation(Chromosome):\n",
    "    def __init__(self, x: int, y: int) -> None:\n",
    "        self.x: int = x\n",
    "        self.y: int = y\n",
    "            \n",
    "    def fitness(self) -> float: # 6x - x^2 + 4y - y^2\n",
    "        return 6 * self.x - self.x * self.x + 4 * self.y - self.y * self.y\n",
    "    \n",
    "    @classmethod\n",
    "    def random_instance(cls) -> SimpleEquation:\n",
    "        return SimpleEquation(randrange(100), randrange(100))\n",
    "    \n",
    "    def crossover(self, other: SimpleEquation) -> Tuple[SimpleEquation,\n",
    "                                                       SimpleEquation]:\n",
    "        # make the child of self a copy of self updating self.y equal to other.y\n",
    "        child1: SimpleEquation = deepcopy(self)\n",
    "        child2: SimpleEquation = deepcopy(other)\n",
    "        child1.y = other.y\n",
    "        child2.y = self.y\n",
    "        return child1, child2\n",
    "    \n",
    "    def mutate(self) -> None:\n",
    "        if random() > 0.5: # mutate x\n",
    "            if random() > 0.5:\n",
    "                self.x += 1\n",
    "            else:\n",
    "                self.x -= 1\n",
    "        else: #otherwise mutate y\n",
    "            if random() > 0.5:\n",
    "                self.y += 1\n",
    "            else:\n",
    "                self.y -= 1\n",
    "    \n",
    "    def __str__(self) -> str:\n",
    "        return f'X: {self.x} Y: {self.y} Fitness: {self.fitness()}'"
   ]
  },
  {
   "cell_type": "markdown",
   "metadata": {},
   "source": [
    "Running the algorithm"
   ]
  },
  {
   "cell_type": "code",
   "execution_count": 2,
   "metadata": {},
   "outputs": [
    {
     "name": "stdout",
     "output_type": "stream",
     "text": [
      "Generation 0 Best -667 Avg                   -5998.4\n",
      "Generation 1 Best -40 Avg                   -1961.75\n",
      "Generation 2 Best -27 Avg                   -572.9\n",
      "Generation 3 Best -27 Avg                   -261.05\n",
      "Generation 4 Best -27 Avg                   -32.7\n",
      "Generation 5 Best -27 Avg                   -28.3\n",
      "Generation 6 Best -24 Avg                   -28.15\n",
      "Generation 7 Best -24 Avg                   -28\n",
      "Generation 8 Best -24 Avg                   -26.6\n",
      "Generation 9 Best -23 Avg                   -24.3\n",
      "Generation 10 Best -23 Avg                   -23.2\n",
      "Generation 11 Best -23 Avg                   -23.05\n",
      "Generation 12 Best -23 Avg                   -23.05\n",
      "Generation 13 Best -23 Avg                   -23.8\n",
      "Generation 14 Best -12 Avg                   -24.55\n",
      "Generation 15 Best -12 Avg                   -21.35\n",
      "Generation 16 Best -12 Avg                   -15.9\n",
      "Generation 17 Best -3 Avg                   -13.2\n",
      "Generation 18 Best -3 Avg                   -11.2\n",
      "Generation 19 Best -3 Avg                   -8.85\n",
      "Generation 20 Best -3 Avg                   -4.35\n",
      "Generation 21 Best 4 Avg                   -2.8\n",
      "Generation 22 Best 4 Avg                   -1.95\n",
      "Generation 23 Best 8 Avg                   0.3\n",
      "Generation 24 Best 9 Avg                   5.8\n",
      "Generation 25 Best 9 Avg                   7.25\n",
      "Generation 26 Best 9 Avg                   8.5\n",
      "Generation 27 Best 9 Avg                   8.9\n",
      "Generation 28 Best 12 Avg                   8.8\n",
      "Generation 29 Best 12 Avg                   9.55\n",
      "Generation 30 Best 12 Avg                   10.85\n",
      "Generation 31 Best 12 Avg                   12\n",
      "Generation 32 Best 12 Avg                   12\n",
      "X: 3 Y: 2 Fitness: 13\n"
     ]
    }
   ],
   "source": [
    "initial_population: List[SimpleEquation] = [SimpleEquation.random_instance() for _ in range(20)]\n",
    "    \n",
    "ga: GeneticAlgorithm[SimpleEquation] = GeneticAlgorithm(initial_population=initial_population,\n",
    "    threshold=13.0, max_generations = 100, mutation_chance = 0.1, crossover_chance = 0.7)\n",
    "\n",
    "result: SimpleEquation = ga.run()\n",
    "print(result)"
   ]
  },
  {
   "cell_type": "code",
   "execution_count": 3,
   "metadata": {},
   "outputs": [
    {
     "name": "stdout",
     "output_type": "stream",
     "text": [
      "X: 3 Y: 2 Fitness: 13\n"
     ]
    }
   ],
   "source": [
    "print(result)"
   ]
  }
 ],
 "metadata": {
  "kernelspec": {
   "display_name": "Python 3",
   "language": "python",
   "name": "python3"
  },
  "language_info": {
   "codemirror_mode": {
    "name": "ipython",
    "version": 3
   },
   "file_extension": ".py",
   "mimetype": "text/x-python",
   "name": "python",
   "nbconvert_exporter": "python",
   "pygments_lexer": "ipython3",
   "version": "3.7.6"
  }
 },
 "nbformat": 4,
 "nbformat_minor": 2
}
