{
 "cells": [
  {
   "cell_type": "markdown",
   "metadata": {},
   "source": [
    "- We will use the indices of a list of the letters to represent the digits. e.g. if 'S' is 2 then lst[2] = 'S'.\n",
    "- There are only 8 letters so we will have 2 blank spots in our list."
   ]
  },
  {
   "cell_type": "code",
   "execution_count": 1,
   "metadata": {},
   "outputs": [],
   "source": [
    "# import modules \n",
    "from __future__ import annotations\n",
    "from typing import Tuple, List\n",
    "from chromosome import Chromosome\n",
    "from genetic_algorithm import GeneticAlgorithm\n",
    "from random import shuffle, sample\n",
    "from copy import deepcopy"
   ]
  },
  {
   "cell_type": "markdown",
   "metadata": {},
   "source": [
    "- we will use 1 / (difference) + 1 because the genetic algorithm tries to maximise the fitness value: \n",
    "\n",
    "if highest.fitness() > best.fitness(): best = highest\n",
    "\n",
    "- \"__crossover()__ selects two random indices in the letters lists of both chromosomes and swaps letters so that we end up with one letter from the first chromosome in the same place in the second chromosome, and vice versa. It performs these swaps in children so that the placement of letters in the two children ends up being a combination of the parents. __mutate()__ swaps two random locations in the letters list. \""
   ]
  },
  {
   "cell_type": "code",
   "execution_count": 2,
   "metadata": {},
   "outputs": [],
   "source": [
    "# define class\n",
    "# a subclass of Chromosome\n",
    "class SendMoreMoney2(Chromosome):\n",
    "    def __init__(self, letters: List[str]) -> None:\n",
    "        self.letters: List[str] = letters\n",
    "    \n",
    "    def fitness(self) -> float:\n",
    "        s: int = self.letters.index('S')\n",
    "        e: int = self.letters.index('E')\n",
    "        n: int = self.letters.index('N')\n",
    "        d: int = self.letters.index('D')\n",
    "        m: int = self.letters.index('M')\n",
    "        o: int = self.letters.index('O')\n",
    "        r: int = self.letters.index('R')\n",
    "        y: int = self.letters.index('Y')\n",
    "        send: int = s * 1000 + e * 100 + n * 10 + d\n",
    "        more: int = m * 1000 + o * 100 + r * 10 + e\n",
    "        money: int = m * 10000 + o * 1000 + n * 100  + e * 10 + y\n",
    "        difference: int = abs(money - (send + more))\n",
    "        return 1 / (difference + 1)\n",
    "    \n",
    "    @classmethod\n",
    "    def random_instance(cls) -> SendMoreMoney2:\n",
    "        letters = list('SENDMORY')\n",
    "        letters.append(' ')\n",
    "        letters.append(' ')\n",
    "        shuffle(letters)\n",
    "        return SendMoreMoney2(letters)\n",
    "        \n",
    "    def crossover(self, other: SendMoreMoney2) -> Tuple[SendMoreMoney2, SendMoreMoney2]:\n",
    "        child1: SendMoreMoney2 = deepcopy(self)\n",
    "        child2: SendMoreMoney2 = deepcopy(other)\n",
    "        # select 2 random indexes to crossover\n",
    "        idx1, idx2 = sample(range(len(self.letters)), k = 2)\n",
    "        # pick the letters using the index from the 2 chromosomes\n",
    "        l1, l2 = child1.letters[idx1], child2.letters[idx2]\n",
    "        # letter from child1 will have index of the letter in child2\n",
    "        # also replace the letter in child1, idx2 with l2\n",
    "        child1.letters[child1.letters.index(l2)], child1.letters[idx2] = child1.letters[idx2], l2\n",
    "        child2.letters[child2.letters.index(l1)], child2.letters[idx1] = child2.letters[idx1], l1\n",
    "        return child1, child2\n",
    "    \n",
    "    def mutate(self) -> None: # swap two letter's locations\n",
    "        idx1, idx2 = sample(range(len(self.letters)), k = 2)\n",
    "        self.letters[idx1], self.letters[idx2] = self.letters[idx2], self.letters[idx1]\n",
    "        \n",
    "    def __str__(self) -> str:\n",
    "        s: int = self.letters.index('S')\n",
    "        e: int = self.letters.index('E')\n",
    "        n: int = self.letters.index('N')\n",
    "        d: int = self.letters.index('D')\n",
    "        m: int = self.letters.index('M')\n",
    "        o: int = self.letters.index('O')\n",
    "        r: int = self.letters.index('R')\n",
    "        y: int = self.letters.index('Y')\n",
    "        send: int = s * 1000 + e * 100 + n * 10 + d\n",
    "        more: int = m * 1000 + o * 100 + r * 10 + e\n",
    "        money: int = m * 10000 + o * 1000 + n * 100 + e * 10 + y\n",
    "        difference: int = abs(money - (send + more))\n",
    "        return f'{send} + {more} = {money} Difference: {difference}'"
   ]
  },
  {
   "cell_type": "code",
   "execution_count": 3,
   "metadata": {},
   "outputs": [
    {
     "data": {
      "text/plain": [
       "['S', 'E', 'N', 'D', 'M', 'O', 'R', 'Y', ' ', ' ']"
      ]
     },
     "execution_count": 3,
     "metadata": {},
     "output_type": "execute_result"
    }
   ],
   "source": [
    "letters = list('SENDMORY')\n",
    "letters.append(' ')\n",
    "letters.append(' ')\n",
    "letters"
   ]
  },
  {
   "cell_type": "markdown",
   "metadata": {},
   "source": [
    "Run the algorithm:"
   ]
  },
  {
   "cell_type": "code",
   "execution_count": 4,
   "metadata": {},
   "outputs": [
    {
     "name": "stdout",
     "output_type": "stream",
     "text": [
      "Generation 0 Best 0.043478260869565216 Avg                   0.00013727370633777138\n",
      "7429 + 814 = 8243 Difference: 0\n"
     ]
    }
   ],
   "source": [
    "initial_population: List[SendMoreMoney2] = [SendMoreMoney2.random_instance() for _ in range(1000)]\n",
    "\n",
    "ga: GeneticAlgorithm[SendMoreMoney2] = GeneticAlgorithm(initial_population=initial_population,\n",
    "                                        threshold=1.0, max_generations = 1000,\n",
    "                                        mutation_chance = 0.2, crossover_chance = 0.7, \n",
    "                                        selection_type=GeneticAlgorithm.SelectionType.ROULETTE)\n",
    "result: SendMoreMoney2 = ga.run()\n",
    "print(result)"
   ]
  },
  {
   "cell_type": "code",
   "execution_count": 5,
   "metadata": {},
   "outputs": [
    {
     "name": "stdout",
     "output_type": "stream",
     "text": [
      "Generation 0 Best 0.03125 Avg                   0.00019587968315830197\n",
      "Generation 1 Best 0.5 Avg                   0.007886380289637122\n",
      "6419 + 724 = 7143 Difference: 0\n"
     ]
    }
   ],
   "source": [
    "initial_population: List[SendMoreMoney2] = [SendMoreMoney2.random_instance() for _ in range(1000)]\n",
    "\n",
    "ga: GeneticAlgorithm[SendMoreMoney2] = GeneticAlgorithm(initial_population=initial_population,\n",
    "                                        threshold=1.0, max_generations = 1000,\n",
    "                                        mutation_chance = 0.2, crossover_chance = 0.7, \n",
    "                                        selection_type=GeneticAlgorithm.SelectionType.ROULETTE)\n",
    "result: SendMoreMoney2 = ga.run()\n",
    "print(result)"
   ]
  },
  {
   "cell_type": "markdown",
   "metadata": {},
   "source": [
    "Here M is allowed to be zero so we have more than one solution.\n",
    "\n",
    "To fix this we may have to add additional fitness criteria. \n",
    "\n",
    "e.g. make the fitness method return both the difference and  the value of __money__. If the value of __money__ is <1000 or >20000 then it fails the fitness test. This would require modifying the __.run()__ method in __GeneticAlgorithm__ in __genetic_algorithm.py__ "
   ]
  }
 ],
 "metadata": {
  "kernelspec": {
   "display_name": "Python 3",
   "language": "python",
   "name": "python3"
  },
  "language_info": {
   "codemirror_mode": {
    "name": "ipython",
    "version": 3
   },
   "file_extension": ".py",
   "mimetype": "text/x-python",
   "name": "python",
   "nbconvert_exporter": "python",
   "pygments_lexer": "ipython3",
   "version": "3.7.6"
  }
 },
 "nbformat": 4,
 "nbformat_minor": 2
}
