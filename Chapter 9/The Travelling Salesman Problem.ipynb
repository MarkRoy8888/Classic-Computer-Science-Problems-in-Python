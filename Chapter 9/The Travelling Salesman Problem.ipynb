{
 "cells": [
  {
   "cell_type": "markdown",
   "metadata": {},
   "source": [
    "- You have a salesman who must travel to each city in a list exactly once and returning to his starting city. There is direct connection from every city to every other city. The salesman can visit in any order. The goal is to find the shortest path.\n",
    "\n",
    "- We cannot use the minimum spanning tree because the MST finds the shortest way to connect all of the cities but it does not provide the shortest path for visiting all of them exactly once.\n",
    "\n",
    "- This problem is known as an NP-hard problem: non-deterministic polynomial hard problem - no polynomial time alogrithm exists and the time required to solve increases exceptionally as the number of cities increases.\n",
    "\n",
    "\n",
    "\n",
    "### The naive approach\n",
    "\n",
    "- The naive approach is O(n!).\n",
    "- Try every possible route."
   ]
  },
  {
   "cell_type": "code",
   "execution_count": 1,
   "metadata": {},
   "outputs": [],
   "source": [
    "from typing import Dict, List, Iterable, Tuple\n",
    "from itertools import permutations\n",
    "\n",
    "vt_distances: Dict[str, Dict[str, int]] = {\n",
    "    'Rutland':\n",
    "        {'Burlington': 67,\n",
    "         'White River Junction': 46,\n",
    "         'Bennington': 55,\n",
    "         'Brattleboro': 75},\n",
    "    'Burlington':\n",
    "        {'Rutland': 67,\n",
    "         'White River Junction': 91,\n",
    "         'Bennington': 122,\n",
    "         'Brattleboro': 153},\n",
    "    'White River Junction':\n",
    "        {'Rutland': 46,\n",
    "         'Burlington': 91,\n",
    "         'Bennington': 98,\n",
    "         'Brattleboro': 65},\n",
    "    'Bennington':\n",
    "        {'Rutland': 55,\n",
    "         'Burlington': 122,\n",
    "         'White River Junction': 98,\n",
    "         'Brattleboro': 40},\n",
    "    'Brattleboro':\n",
    "        {'Rutland': 75,\n",
    "         'Burlington': 153,\n",
    "         'White River Junction': 65,\n",
    "         'Bennington': 40}\n",
    "}"
   ]
  },
  {
   "cell_type": "markdown",
   "metadata": {},
   "source": [
    "__itertools.permutations__ takes an iterable and returns an iterator that has the permutations, with each item being a tuple. Be careful with city_permutations because its items can only be returned once."
   ]
  },
  {
   "cell_type": "code",
   "execution_count": 2,
   "metadata": {},
   "outputs": [
    {
     "name": "stdout",
     "output_type": "stream",
     "text": [
      "dict_keys(['Rutland', 'Burlington', 'White River Junction', 'Bennington', 'Brattleboro'])\n",
      "\n",
      "\n"
     ]
    }
   ],
   "source": [
    "vt_cities: Iterable[str] = vt_distances.keys()\n",
    "print(vt_cities)\n",
    "print('\\n')\n",
    "\n",
    "city_permutations: Iterable[Tuple[str,...]] = permutations(vt_cities)\n"
   ]
  },
  {
   "cell_type": "markdown",
   "metadata": {},
   "source": [
    "To get the actual path, we need to add the first city to each of the tuple because the salesman must return to the same city he started in."
   ]
  },
  {
   "cell_type": "code",
   "execution_count": 3,
   "metadata": {},
   "outputs": [],
   "source": [
    "tsp_paths: List[Tuple[str,...]] = [c + (c[0],) for c in city_permutations]"
   ]
  },
  {
   "cell_type": "markdown",
   "metadata": {},
   "source": [
    "Brute force in action:"
   ]
  },
  {
   "cell_type": "code",
   "execution_count": 4,
   "metadata": {},
   "outputs": [
    {
     "name": "stdout",
     "output_type": "stream",
     "text": [
      "The shortest path is ('Rutland', 'Burlington', 'White River Junction', 'Brattleboro', 'Bennington', 'Rutland') in 318 miles.\n"
     ]
    }
   ],
   "source": [
    "best_path: Tuple[str,...] = tuple()\n",
    "\n",
    "min_distance: int = 99999999 # arbitarily high number\n",
    "for path in tsp_paths:\n",
    "    distance: int = 0\n",
    "    last: str = path[0]\n",
    "    for next in path[1:]:\n",
    "        distance += vt_distances[last][next]\n",
    "        last = next\n",
    "    if distance < min_distance:\n",
    "        min_distance = distance\n",
    "        best_path = path\n",
    "print(f'The shortest path is {best_path} in {min_distance} miles.')"
   ]
  },
  {
   "cell_type": "markdown",
   "metadata": {},
   "source": [
    "\"In the real world, the naive approach to the Traveling Salesman Problem is seldom used. Most algorithms for instances of the problem with a large number of cities are approximations. They try to solve the problem for a near-optimal solution. The near-optimal solution may be within a small known band of the perfect solution. (For example, perhaps they will be no more than 5% less efficient.)\n",
    "\n",
    "Two techniques that have already appeared in this book have been used to attempt the Traveling Salesman Problem on large data sets. Dynamic programming, which we used in the knapsack problem earlier in this chapter, is one approach. Another is genetic algorithms, as described in chapter 5. Many journal articles have been published attributing genetic algorithms to near-optimal solutions for the traveling salesman with large numbers of cities.\""
   ]
  }
 ],
 "metadata": {
  "kernelspec": {
   "display_name": "Python 3",
   "language": "python",
   "name": "python3"
  },
  "language_info": {
   "codemirror_mode": {
    "name": "ipython",
    "version": 3
   },
   "file_extension": ".py",
   "mimetype": "text/x-python",
   "name": "python",
   "nbconvert_exporter": "python",
   "pygments_lexer": "ipython3",
   "version": "3.7.6"
  }
 },
 "nbformat": 4,
 "nbformat_minor": 2
}
