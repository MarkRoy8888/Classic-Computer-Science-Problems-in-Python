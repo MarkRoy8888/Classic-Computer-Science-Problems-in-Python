{
 "cells": [
  {
   "cell_type": "markdown",
   "metadata": {},
   "source": [
    "- We have a thief who has a weight carrying capacity.\n",
    "- The thief should take items that have the highest value to weight ratio.\n",
    "- But: the thief cannot take part of an item (e.g. 1/3 of a TV).\n",
    "\n",
    "Here is a good alternative explanation of the knapsack problem by Geekforgeeks: https://www.geeksforgeeks.org/0-1-knapsack-problem-dp-10/\n",
    "\n",
    "First we define a NamedTuple to hold our items:"
   ]
  },
  {
   "cell_type": "code",
   "execution_count": 1,
   "metadata": {},
   "outputs": [],
   "source": [
    "from typing import NamedTuple, List\n",
    "\n",
    "class Item(NamedTuple):\n",
    "    name: str\n",
    "    weight: int\n",
    "    value: float"
   ]
  },
  {
   "cell_type": "markdown",
   "metadata": {},
   "source": [
    "We want to avoid the brute-force approach which would lead to 2^N possible subsets to be evaluated. This is ok for small number of items but untenable for a large number.\n",
    "\n",
    "### Dynamice Programming:\n",
    "This is similar to memorisation in Chapter 1. We solve one subproblem of the larger problem at a time, storing each result, and utilise these stored results to solve the larger problem. As long as the capaciy of the knapsack is considered in discrete steps, the problem can be solved with dynamic programming."
   ]
  },
  {
   "cell_type": "code",
   "execution_count": 2,
   "metadata": {},
   "outputs": [],
   "source": [
    "def knapsack(items: List[Item], max_capacity: int) -> List[Item]:\n",
    "    # build up dynamic programming table\n",
    "    # initialise the values to 0.0\n",
    "    table: List[List[float]] = [[0.0 for _ in range(max_capacity + 1)] for _ in range(len(items) + 1)]\n",
    "    for i, item in enumerate(items):\n",
    "        for capacity in range(1, max_capacity + 1):\n",
    "            # get value of not adding the item\n",
    "            previous_items_value: float = table[i][capacity]\n",
    "            if capacity >= item.weight: # item fits in knapsack\n",
    "                # get value of item adding the item\n",
    "                value_freeing_weight_for_item: float = table[i][capacity - item.weight]\n",
    "                # only take if taking the item gets you a higher value\n",
    "                table[i + 1][capacity] = max(value_freeing_weight_for_item + \n",
    "                                            item.value, previous_items_value)\n",
    "            else: # no room for this item\n",
    "                table[i + 1][capacity] = previous_items_value\n",
    "    # figure out solution from table (list of list)\n",
    "    solution: List[Item] = []\n",
    "    capacity = max_capacity\n",
    "    # loop through the table for list of items\n",
    "    for i in range(len(items), 0, -1): # work backwards\n",
    "        # was this item used/ taken already?\n",
    "        if table[i - 1][capacity] != table[i][capacity]:\n",
    "            solution.append(items[i - 1])\n",
    "            # reduce capacity by item weight\n",
    "            capacity -= items[i - 1].weight\n",
    "    return solution"
   ]
  },
  {
   "cell_type": "markdown",
   "metadata": {},
   "source": [
    "\"The inner loop of the first part of this function will execute N * C times, where N is the number of items and C is the maximum capacity of the knapsack. Therefore, the algorithm performs in O(N * C) time, a significant improvement over the brute-force approach for a large number of items. For instance, for the 11 items that follow, a brute-force algorithm would need to examine 2^11 or 2,048 combinations. The preceding dynamic programming function will execute 825 times, because the maximum capacity of the knapsack in question is 75 arbitrary units (11 * 75). This difference would grow exponentially with more items.\"\n",
    "\n",
    "Running the algorithm:"
   ]
  },
  {
   "cell_type": "code",
   "execution_count": 3,
   "metadata": {},
   "outputs": [
    {
     "name": "stdout",
     "output_type": "stream",
     "text": [
      "[Item(name='painting', weight=10, value=1000), Item(name='jewelry', weight=1, value=4000), Item(name='clothing', weight=20, value=800), Item(name='laptop', weight=3, value=1000), Item(name='stereo', weight=35, value=400), Item(name='candlesticks', weight=2, value=300)]\n"
     ]
    }
   ],
   "source": [
    "items: List[Item] = [Item('television', 50, 500),\n",
    "                         Item('candlesticks', 2, 300),\n",
    "                         Item('stereo', 35, 400),\n",
    "                         Item('laptop', 3, 1000),\n",
    "                         Item('food', 15, 50),\n",
    "                         Item('clothing', 20, 800),\n",
    "                         Item('jewelry', 1, 4000),\n",
    "                         Item('books', 100, 300),\n",
    "                         Item('printer', 18, 30),\n",
    "                         Item('refrigerator', 200, 700),\n",
    "                         Item('painting', 10, 1000)]\n",
    "print(knapsack(items, 75))"
   ]
  }
 ],
 "metadata": {
  "kernelspec": {
   "display_name": "Python 3",
   "language": "python",
   "name": "python3"
  },
  "language_info": {
   "codemirror_mode": {
    "name": "ipython",
    "version": 3
   },
   "file_extension": ".py",
   "mimetype": "text/x-python",
   "name": "python",
   "nbconvert_exporter": "python",
   "pygments_lexer": "ipython3",
   "version": "3.7.6"
  }
 },
 "nbformat": 4,
 "nbformat_minor": 2
}
