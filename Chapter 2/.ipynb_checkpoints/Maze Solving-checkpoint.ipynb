{
 "cells": [
  {
   "cell_type": "markdown",
   "metadata": {},
   "source": [
    "Let's first define our maze:\n",
    "\n",
    "Note: an enum is a data type that lets you value code unique items with the unique item being the __name__ and the value called __value__\n",
    "https://www.youtube.com/watch?v=MO-I8Sun_jw\n",
    "\n",
    "Our maze is a 10 x 10 2d grid of __Cell__ 's. A __Cell__ is an enum with str values where ' ' represents an empty space and 'X' will represent a blocked space and so forth. It will be represented as lists of cell columns in a list of rows."
   ]
  },
  {
   "cell_type": "code",
   "execution_count": 1,
   "metadata": {},
   "outputs": [],
   "source": [
    "from enum import Enum\n",
    "from typing import List, NamedTuple, Callable, Optional\n",
    "import random\n",
    "from math import sqrt\n",
    "from generic_search import dfs, node_to_path, Node\n",
    "\n",
    "class Cell(str, Enum):\n",
    "    EMPTY = ' '\n",
    "    BLOCKED = 'X'\n",
    "    START = 'S'\n",
    "    GOAL = 'G'\n",
    "    PATH = '*'\n",
    "\n",
    "class MazeLocation(NamedTuple):\n",
    "    row: int\n",
    "    column: int"
   ]
  },
  {
   "cell_type": "markdown",
   "metadata": {},
   "source": [
    "### Generating a random maze"
   ]
  },
  {
   "cell_type": "code",
   "execution_count": 2,
   "metadata": {},
   "outputs": [],
   "source": [
    "class Maze:\n",
    "    def __init__(self, rows: int = 10, columns: int = 10, sparseness: float = 0.2, \\\n",
    "                start: MazeLocation = MazeLocation(0,0), goal: MazeLocation = MazeLocation(9,9)) -> None:\n",
    "        #initialise basic instance variables\n",
    "        self._rows: int = rows\n",
    "        self._columns: int = columns\n",
    "        self.start: MazeLocation = start\n",
    "        self.goal: MazeLocation = goal\n",
    "        # fill the grid with empty cells\n",
    "        self._grid: List[List[Cell]] = [[Cell.EMPTY for col in range(columns)]\n",
    "                                        for row in range(rows)]\n",
    "            \n",
    "        # populate the grid with bloacked cells - method defined below\n",
    "        # you run this random fill first so your start and goal won't\n",
    "        # get over written\n",
    "        self._randomly_fill(rows, columns,sparseness)\n",
    "        \n",
    "        # fill the start and goal locations in\n",
    "        self._grid[start.row][start.column] = Cell.START\n",
    "        self._grid[goal.row][goal.column] = Cell.GOAL\n",
    "        \n",
    "    def _randomly_fill(self, rows: int, columns: int, sparseness: float):\n",
    "        for row in range(rows):\n",
    "            for column in range(columns):\n",
    "                if random.uniform(0,1.0) < sparseness:\n",
    "                    self._grid[row][column] = Cell.BLOCKED\n",
    "    \n",
    "    # a way to print the maze\n",
    "    def __str__(self) -> str:\n",
    "        output: str = ''\n",
    "        for row in self._grid:\n",
    "            output += ''.join([col.value for col in row]) + '\\n'\n",
    "        return output\n",
    "    \n",
    "    # create a method to check if we have reached the goal cell\n",
    "    def goal_test(self, ml: MazeLocation) -> bool:\n",
    "        return ml == self.goal\n",
    "    \n",
    "    # create a method that checks the cells/locations around it\n",
    "    def successors(self, ml: MazeLocation) -> List[MazeLocation]:\n",
    "        locations: List[MazeLocation] = []\n",
    "            \n",
    "        # restriction on downward movement    \n",
    "        if ml.row + 1 < self._rows and self._grid[ml.row + 1][ml.column] != Cell.BLOCKED:\n",
    "            locations.append(MazeLocation(ml.row + 1, ml.column))\n",
    "            \n",
    "        # restriction on upward movement    \n",
    "        if ml.row - 1 >= 0 and self._grid[ml.row - 1][ml.column] != Cell.BLOCKED:\n",
    "            locations.append(MazeLocation(ml.row - 1, ml.column))\n",
    "        \n",
    "        # restriction on movement to the right\n",
    "        if ml.column + 1 < self._columns and self._grid[ml.row][ml.column + 1] != Cell.BLOCKED:\n",
    "            locations.append(MazeLocation(ml.row, ml.column + 1))\n",
    "        \n",
    "        # restriction on movement to the left\n",
    "        if ml.column - 1 >= 0 and self._grid[ml.row][ml.column - 1] != Cell.BLOCKED:\n",
    "            locations.append(MazeLocation(ml.row, ml.column - 1))\n",
    "        \n",
    "        return locations"
   ]
  },
  {
   "cell_type": "code",
   "execution_count": 3,
   "metadata": {},
   "outputs": [
    {
     "name": "stdout",
     "output_type": "stream",
     "text": [
      "SXX  X    \n",
      "          \n",
      "    X  X X\n",
      "XX       X\n",
      "     XX  X\n",
      "     X  X \n",
      "X     X  X\n",
      " X        \n",
      "X   X    X\n",
      "     X X G\n",
      "\n"
     ]
    }
   ],
   "source": [
    "maze: Maze = Maze()\n",
    "print(maze)"
   ]
  },
  {
   "cell_type": "markdown",
   "metadata": {},
   "source": [
    "### Depth-first Search\n",
    "\"A depth-first search (DFS) is what its name suggests: a search that goes as deeply as it can before backtracking to its last decision point if it reaches a dead end. We’ll implement a generic depth-first search that can solve our maze problem.\"\n",
    "\n",
    "The algorithm relies on the stack data structure stack. So we add the stack class to our generic_search.py file:"
   ]
  },
  {
   "cell_type": "code",
   "execution_count": 4,
   "metadata": {},
   "outputs": [
    {
     "data": {
      "text/plain": [
       "'\\nclass Stack(Generic[T]):\\n    def __init__(self) -> None:\\n        self._container: List[T] = []\\n\\n    @property\\n    def empty(self) -> bool:\\n        return not self._container  # not is true for empty container\\n\\n    def push(self, item: T) -> None:\\n        self._container.append(item)\\n\\n    def pop(self) -> T:\\n        return self._container.pop()  # LIFO\\n\\n    def __repr__(self) -> str:\\n        return repr(self._container)\\n'"
      ]
     },
     "execution_count": 4,
     "metadata": {},
     "output_type": "execute_result"
    }
   ],
   "source": [
    "'''\n",
    "class Stack(Generic[T]):\n",
    "    def __init__(self) -> None:\n",
    "        self._container: List[T] = []\n",
    "\n",
    "    @property\n",
    "    def empty(self) -> bool:\n",
    "        return not self._container  # not is true for empty container\n",
    "\n",
    "    def push(self, item: T) -> None:\n",
    "        self._container.append(item)\n",
    "\n",
    "    def pop(self) -> T:\n",
    "        return self._container.pop()  # LIFO\n",
    "\n",
    "    def __repr__(self) -> str:\n",
    "        return repr(self._container)\n",
    "'''"
   ]
  },
  {
   "cell_type": "markdown",
   "metadata": {},
   "source": [
    "We also want a class that tracks our states/locations. In the case of our maze-solving problem, those states are of type __MazeLocation__. \"We’ll call the Node that a state came from its parent. We will also define our Node class as having cost and heuristic properties and with __ lt __ () implemented, so we can reuse it later in the A* algorithm. \""
   ]
  },
  {
   "cell_type": "code",
   "execution_count": 5,
   "metadata": {},
   "outputs": [
    {
     "data": {
      "text/plain": [
       "'\\nclass Node(Generic[T]):\\n    def __init__(self, state: T, parent: Optional[Node], cost: float = 0.0,\\n     heuristic: float = 0.0) -> None:\\n        self.state: T = state\\n        self.parent: Optional[Node] = parent\\n        self.cost: float = cost\\n        self.heuristic: float = heuristic\\n\\n    def __lt__(self, other: Node) -> bool:\\n        return (self.cost + self.heuristic) < (other.cost + other.heuristic)\\n'"
      ]
     },
     "execution_count": 5,
     "metadata": {},
     "output_type": "execute_result"
    }
   ],
   "source": [
    "'''\n",
    "class Node(Generic[T]):\n",
    "    def __init__(self, state: T, parent: Optional[Node], cost: float = 0.0,\n",
    "     heuristic: float = 0.0) -> None:\n",
    "        self.state: T = state\n",
    "        self.parent: Optional[Node] = parent\n",
    "        self.cost: float = cost\n",
    "        self.heuristic: float = heuristic\n",
    "\n",
    "    def __lt__(self, other: Node) -> bool:\n",
    "        return (self.cost + self.heuristic) < (other.cost + other.heuristic)\n",
    "'''"
   ]
  },
  {
   "cell_type": "markdown",
   "metadata": {},
   "source": [
    "\"An in-progress depth-first search needs to keep track of two data structures: the stack of states (or “places”) that we are considering searching, which we will call the frontier; and the set of states that we have already searched, which we will call explored. As long as there are more states to visit in the frontier, DFS will keep checking whether they are the goal (if a state is the goal, DFS will stop and return it) and adding their successors to the frontier. It will also mark each state that has already been searched as explored, so that the search does not get caught in a circle, reaching states that have prior visited states as successors. If the frontier is empty, it means there is nowhere left to search.\""
   ]
  },
  {
   "cell_type": "code",
   "execution_count": 6,
   "metadata": {},
   "outputs": [
    {
     "data": {
      "text/plain": [
       "\"\\ndef dfs(initial: T, goal_test: Callable[[T], bool], successors: Callable[[T],\\n     List[T]]) -> Optional[Node[T]]:\\n    # frontier is where we've yet to go\\n    frontier: Stack[Node[T]] = Stack()\\n    frontier.push(Node(initial, None))\\n    \\n    # explored is where we've been\\n    explored: Set[T] = {initial}\\n\\n    # keep going while there is more to explore\\n    while not frontier.empty:\\n        current_node: Node[T] = frontier.pop()\\n        current_state: T = current_node.state\\n        # if we found the goal, we're done\\n        if goal_test(current_state):\\n            return current_node\\n        \\n        # check where we can go next and haven't explored\\n        for child in successors(current_state):\\n            if child in explored:  # skip children we already explored\\n                continue\\n            explored.add(child)\\n            frontier.push(Node(child, current_node))\\n    return None  # went through everything and never found goal\\n\""
      ]
     },
     "execution_count": 6,
     "metadata": {},
     "output_type": "execute_result"
    }
   ],
   "source": [
    "'''\n",
    "def dfs(initial: T, goal_test: Callable[[T], bool], successors: Callable[[T],\n",
    "     List[T]]) -> Optional[Node[T]]:\n",
    "    # frontier is where we've yet to go\n",
    "    frontier: Stack[Node[T]] = Stack()\n",
    "    frontier.push(Node(initial, None))\n",
    "    \n",
    "    # explored is where we've been\n",
    "    explored: Set[T] = {initial}\n",
    "\n",
    "    # keep going while there is more to explore\n",
    "    while not frontier.empty:\n",
    "        current_node: Node[T] = frontier.pop()\n",
    "        current_state: T = current_node.state\n",
    "        # if we found the goal, we're done\n",
    "        if goal_test(current_state):\n",
    "            return current_node\n",
    "        \n",
    "        # check where we can go next and haven't explored\n",
    "        for child in successors(current_state):\n",
    "            if child in explored:  # skip children we already explored\n",
    "                continue\n",
    "            explored.add(child)\n",
    "            frontier.push(Node(child, current_node))\n",
    "    return None  # went through everything and never found goal\n",
    "'''"
   ]
  },
  {
   "cell_type": "markdown",
   "metadata": {},
   "source": [
    "\"If dfs() is successful, it returns the Node encapsulating the goal state. The path from the start to the goal can be reconstructed by working backward from this Node and its priors using the parent property. \""
   ]
  },
  {
   "cell_type": "code",
   "execution_count": 7,
   "metadata": {},
   "outputs": [
    {
     "data": {
      "text/plain": [
       "'\\ndef node_to_path(node: Node[T]) -> List[T]:\\n    path: List[T] = [node.state]\\n    # work backwards from end to front\\n    while node.parent is not None:\\n        node = node.parent\\n        path.append(node.state)\\n    path.reverse()\\n    return path\\n'"
      ]
     },
     "execution_count": 7,
     "metadata": {},
     "output_type": "execute_result"
    }
   ],
   "source": [
    "'''\n",
    "def node_to_path(node: Node[T]) -> List[T]:\n",
    "    path: List[T] = [node.state]\n",
    "    # work backwards from end to front\n",
    "    while node.parent is not None:\n",
    "        node = node.parent\n",
    "        path.append(node.state)\n",
    "    path.reverse()\n",
    "    return path\n",
    "'''"
   ]
  },
  {
   "cell_type": "markdown",
   "metadata": {},
   "source": [
    "Creating Extra methods to the Maze class that let us mark our path and clearing it."
   ]
  },
  {
   "cell_type": "code",
   "execution_count": 8,
   "metadata": {},
   "outputs": [],
   "source": [
    "class Maze:\n",
    "    def __init__(self, rows: int = 10, columns: int = 10, sparseness: float = 0.2, \\\n",
    "                start: MazeLocation = MazeLocation(0,0), goal: MazeLocation = MazeLocation(9,9)) -> None:\n",
    "        #initialise basic instance variables\n",
    "        self._rows: int = rows\n",
    "        self._columns: int = columns\n",
    "        self.start: MazeLocation = start\n",
    "        self.goal: MazeLocation = goal\n",
    "        # fill the grid with empty cells\n",
    "        self._grid: List[List[Cell]] = [[Cell.EMPTY for col in range(columns)]\n",
    "                                        for row in range(rows)]\n",
    "            \n",
    "        # populate the grid with bloacked cells - method defined below\n",
    "        # you run this random fill first so your start and goal won't\n",
    "        # get over written\n",
    "        self._randomly_fill(rows, columns,sparseness)\n",
    "        \n",
    "        # fill the start and goal locations in\n",
    "        self._grid[start.row][start.column] = Cell.START\n",
    "        self._grid[goal.row][goal.column] = Cell.GOAL\n",
    "        \n",
    "    def _randomly_fill(self, rows: int, columns: int, sparseness: float):\n",
    "        for row in range(rows):\n",
    "            for column in range(columns):\n",
    "                if random.uniform(0,1.0) < sparseness:\n",
    "                    self._grid[row][column] = Cell.BLOCKED\n",
    "    \n",
    "    # a way to print the maze\n",
    "    def __str__(self) -> str:\n",
    "        output: str = ''\n",
    "        for row in self._grid:\n",
    "            output += ''.join([col.value for col in row]) + '\\n'\n",
    "        return output\n",
    "    \n",
    "    # create a method to check if we have reached the goal cell\n",
    "    def goal_test(self, ml: MazeLocation) -> bool:\n",
    "        return ml == self.goal\n",
    "    \n",
    "    # create a method that checks the cells/locations around it\n",
    "    def successors(self, ml: MazeLocation) -> List[MazeLocation]:\n",
    "        locations: List[MazeLocation] = []\n",
    "            \n",
    "        # restriction on downward movement    \n",
    "        if ml.row + 1 < self._rows and self._grid[ml.row + 1][ml.column] != Cell.BLOCKED:\n",
    "            locations.append(MazeLocation(ml.row + 1, ml.column))\n",
    "            \n",
    "        # restriction on upward movement    \n",
    "        if ml.row - 1 >= 0 and self._grid[ml.row - 1][ml.column] != Cell.BLOCKED:\n",
    "            locations.append(MazeLocation(ml.row - 1, ml.column))\n",
    "        \n",
    "        # restriction on movement to the right\n",
    "        if ml.column + 1 < self._columns and self._grid[ml.row][ml.column + 1] != Cell.BLOCKED:\n",
    "            locations.append(MazeLocation(ml.row, ml.column + 1))\n",
    "        \n",
    "        # restriction on movement to the left\n",
    "        if ml.column - 1 >= 0 and self._grid[ml.row][ml.column - 1] != Cell.BLOCKED:\n",
    "            locations.append(MazeLocation(ml.row, ml.column - 1))\n",
    "        return locations        \n",
    "        \n",
    "##########new################\n",
    "    def mark(self, path: List[MazeLocation]):\n",
    "        for maze_location in path:\n",
    "            self._grid[maze_location.row][maze_location.column] = Cell.PATH\n",
    "        self._grid[self.start.row][self.start.column] = Cell.START\n",
    "        self._grid[self.goal.row][self.goal.column] = Cell.GOAL\n",
    "        \n",
    "    def clear(self, path: List[MazeLocation]):\n",
    "        for maze_location in path:\n",
    "            self._grid[maze_location.row][maze_location.column] = Cell.EMPTY\n",
    "        self._grid[self.start.row][self.start.column] = Cell.START\n",
    "        self._grid[self.goal.row][self.goal.column] = Cell.GOAL\n",
    "##########new################\n"
   ]
  },
  {
   "cell_type": "code",
   "execution_count": 9,
   "metadata": {},
   "outputs": [
    {
     "name": "stdout",
     "output_type": "stream",
     "text": [
      "SX   X    \n",
      "       X  \n",
      "   X   X  \n",
      "X X     X \n",
      "          \n",
      "   X XX   \n",
      " X  X  X  \n",
      "X  XX XXX \n",
      "X     X   \n",
      "     X X G\n",
      "\n",
      "-----------------------\n",
      "SX   X****\n",
      "*******X *\n",
      "   X   X *\n",
      "X X     X*\n",
      "        **\n",
      "   X XX * \n",
      " X  X  X**\n",
      "X  XX XXX*\n",
      "X     X  *\n",
      "     X X G\n",
      "\n"
     ]
    }
   ],
   "source": [
    "# Test DFS\n",
    "m: Maze = Maze()\n",
    "print(m)\n",
    "print('-----------------------')\n",
    "solution1: Optional[Node[MazeLocation]] = dfs(m.start, m.goal_test,\n",
    "     m.successors)\n",
    "if solution1 is None:\n",
    "    print('No solution found using depth-first search!')\n",
    "else:\n",
    "    path1: List[MazeLocation] = node_to_path(solution1)\n",
    "    m.mark(path1)\n",
    "    print(m)\n",
    "    \n",
    "    m.clear(path1)"
   ]
  },
  {
   "cell_type": "markdown",
   "metadata": {},
   "source": [
    "### Breath-first search\n",
    "\n",
    "A breath-first search "
   ]
  }
 ],
 "metadata": {
  "kernelspec": {
   "display_name": "Python 3",
   "language": "python",
   "name": "python3"
  },
  "language_info": {
   "codemirror_mode": {
    "name": "ipython",
    "version": 3
   },
   "file_extension": ".py",
   "mimetype": "text/x-python",
   "name": "python",
   "nbconvert_exporter": "python",
   "pygments_lexer": "ipython3",
   "version": "3.7.6"
  }
 },
 "nbformat": 4,
 "nbformat_minor": 2
}
