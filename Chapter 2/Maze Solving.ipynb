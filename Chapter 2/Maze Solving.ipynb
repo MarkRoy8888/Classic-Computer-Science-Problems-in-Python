{
 "cells": [
  {
   "cell_type": "markdown",
   "metadata": {},
   "source": [
    "Let's first define our maze:\n",
    "\n",
    "Note: an enum is a data type that lets you value code unique items with the unique item being the __name__ and the value called __value__\n",
    "https://www.youtube.com/watch?v=MO-I8Sun_jw\n",
    "\n",
    "Our maze is a 10 x 10 2d grid of __Cell__ 's. A __Cell__ is an enum with str values where ' ' represents an empty space and 'X' will represent a blocked space and so forth. It will be represented as lists of cell columns in a list of rows."
   ]
  },
  {
   "cell_type": "code",
   "execution_count": 1,
   "metadata": {},
   "outputs": [],
   "source": [
    "from enum import Enum\n",
    "from typing import List, NamedTuple, Callable, Optional\n",
    "import random\n",
    "from math import sqrt\n",
    "from generic_search import dfs, node_to_path, Node, bfs, astar\n",
    "\n",
    "class Cell(str, Enum):\n",
    "    EMPTY = ' '\n",
    "    BLOCKED = 'X'\n",
    "    START = 'S'\n",
    "    GOAL = 'G'\n",
    "    PATH = '*'\n",
    "\n",
    "class MazeLocation(NamedTuple):\n",
    "    row: int\n",
    "    column: int"
   ]
  },
  {
   "cell_type": "markdown",
   "metadata": {},
   "source": [
    "### Generating a random maze"
   ]
  },
  {
   "cell_type": "code",
   "execution_count": 2,
   "metadata": {},
   "outputs": [],
   "source": [
    "class Maze:\n",
    "    def __init__(self, rows: int = 10, columns: int = 10, sparseness: float = 0.2, \\\n",
    "                start: MazeLocation = MazeLocation(0,0), goal: MazeLocation = MazeLocation(9,9)) -> None:\n",
    "        #initialise basic instance variables\n",
    "        self._rows: int = rows\n",
    "        self._columns: int = columns\n",
    "        self.start: MazeLocation = start\n",
    "        self.goal: MazeLocation = goal\n",
    "        # fill the grid with empty cells\n",
    "        self._grid: List[List[Cell]] = [[Cell.EMPTY for col in range(columns)]\n",
    "                                        for row in range(rows)]\n",
    "            \n",
    "        # populate the grid with bloacked cells - method defined below\n",
    "        # you run this random fill first so your start and goal won't\n",
    "        # get over written\n",
    "        self._randomly_fill(rows, columns,sparseness)\n",
    "        \n",
    "        # fill the start and goal locations in\n",
    "        self._grid[start.row][start.column] = Cell.START\n",
    "        self._grid[goal.row][goal.column] = Cell.GOAL\n",
    "        \n",
    "    def _randomly_fill(self, rows: int, columns: int, sparseness: float):\n",
    "        for row in range(rows):\n",
    "            for column in range(columns):\n",
    "                if random.uniform(0,1.0) < sparseness:\n",
    "                    self._grid[row][column] = Cell.BLOCKED\n",
    "    \n",
    "    # a way to print the maze\n",
    "    def __str__(self) -> str:\n",
    "        output: str = ''\n",
    "        for row in self._grid:\n",
    "            output += ''.join([col.value for col in row]) + '\\n'\n",
    "        return output\n",
    "    \n",
    "    # create a method to check if we have reached the goal cell\n",
    "    def goal_test(self, ml: MazeLocation) -> bool:\n",
    "        return ml == self.goal\n",
    "    \n",
    "    # create a method that checks the cells/locations around it\n",
    "    def successors(self, ml: MazeLocation) -> List[MazeLocation]:\n",
    "        locations: List[MazeLocation] = []\n",
    "            \n",
    "        # restriction on downward movement    \n",
    "        if ml.row + 1 < self._rows and self._grid[ml.row + 1][ml.column] != Cell.BLOCKED:\n",
    "            locations.append(MazeLocation(ml.row + 1, ml.column))\n",
    "            \n",
    "        # restriction on upward movement    \n",
    "        if ml.row - 1 >= 0 and self._grid[ml.row - 1][ml.column] != Cell.BLOCKED:\n",
    "            locations.append(MazeLocation(ml.row - 1, ml.column))\n",
    "        \n",
    "        # restriction on movement to the right\n",
    "        if ml.column + 1 < self._columns and self._grid[ml.row][ml.column + 1] != Cell.BLOCKED:\n",
    "            locations.append(MazeLocation(ml.row, ml.column + 1))\n",
    "        \n",
    "        # restriction on movement to the left\n",
    "        if ml.column - 1 >= 0 and self._grid[ml.row][ml.column - 1] != Cell.BLOCKED:\n",
    "            locations.append(MazeLocation(ml.row, ml.column - 1))\n",
    "        \n",
    "        return locations"
   ]
  },
  {
   "cell_type": "code",
   "execution_count": 3,
   "metadata": {},
   "outputs": [
    {
     "name": "stdout",
     "output_type": "stream",
     "text": [
      "S X   X X \n",
      "XX   X  X \n",
      "          \n",
      "  X       \n",
      "   XX  X X\n",
      "          \n",
      "   X  X   \n",
      "  XXX  XX \n",
      "          \n",
      " X  XX   G\n",
      "\n"
     ]
    }
   ],
   "source": [
    "maze: Maze = Maze()\n",
    "print(maze)"
   ]
  },
  {
   "cell_type": "markdown",
   "metadata": {},
   "source": [
    "### Depth-first Search\n",
    "\"A depth-first search (DFS) is what its name suggests: a search that goes as deeply as it can before backtracking to its last decision point if it reaches a dead end. We’ll implement a generic depth-first search that can solve our maze problem.\"\n",
    "\n",
    "The algorithm relies on the stack data structure stack. So we add the stack class to our generic_search.py file:"
   ]
  },
  {
   "cell_type": "code",
   "execution_count": 4,
   "metadata": {},
   "outputs": [
    {
     "data": {
      "text/plain": [
       "'\\nclass Stack(Generic[T]):\\n    def __init__(self) -> None:\\n        self._container: List[T] = []\\n\\n    @property\\n    def empty(self) -> bool:\\n        return not self._container  # not is true for empty container\\n\\n    def push(self, item: T) -> None:\\n        self._container.append(item)\\n\\n    def pop(self) -> T:\\n        return self._container.pop()  # LIFO\\n\\n    def __repr__(self) -> str:\\n        return repr(self._container)\\n'"
      ]
     },
     "execution_count": 4,
     "metadata": {},
     "output_type": "execute_result"
    }
   ],
   "source": [
    "'''\n",
    "class Stack(Generic[T]):\n",
    "    def __init__(self) -> None:\n",
    "        self._container: List[T] = []\n",
    "\n",
    "    @property\n",
    "    def empty(self) -> bool:\n",
    "        return not self._container  # not is true for empty container\n",
    "\n",
    "    def push(self, item: T) -> None:\n",
    "        self._container.append(item)\n",
    "\n",
    "    def pop(self) -> T:\n",
    "        return self._container.pop()  # LIFO\n",
    "\n",
    "    def __repr__(self) -> str:\n",
    "        return repr(self._container)\n",
    "'''"
   ]
  },
  {
   "cell_type": "markdown",
   "metadata": {},
   "source": [
    "We also want a class that tracks our states/locations. In the case of our maze-solving problem, those states are of type __MazeLocation__. \"We’ll call the Node that a state came from its parent. We will also define our Node class as having cost and heuristic properties and with __ lt __ () implemented, so we can reuse it later in the A* algorithm. \"\n",
    "\n",
    "This Node Class let us save each cell/coordinate with a list a attributes:\n",
    "- State: whether it is a blank, start or goal.\n",
    "- parent: the previous node\n",
    "\n",
    "These are useful for tracing the path from the goal back to the start."
   ]
  },
  {
   "cell_type": "code",
   "execution_count": 5,
   "metadata": {},
   "outputs": [
    {
     "data": {
      "text/plain": [
       "'\\nclass Node(Generic[T]):\\n    def __init__(self, state: T, parent: Optional[Node], cost: float = 0.0,\\n     heuristic: float = 0.0) -> None:\\n        self.state: T = state\\n        self.parent: Optional[Node] = parent\\n        self.cost: float = cost\\n        self.heuristic: float = heuristic\\n\\n    def __lt__(self, other: Node) -> bool:\\n        return (self.cost + self.heuristic) < (other.cost + other.heuristic)\\n'"
      ]
     },
     "execution_count": 5,
     "metadata": {},
     "output_type": "execute_result"
    }
   ],
   "source": [
    "'''\n",
    "class Node(Generic[T]):\n",
    "    def __init__(self, state: T, parent: Optional[Node], cost: float = 0.0,\n",
    "     heuristic: float = 0.0) -> None:\n",
    "        self.state: T = state\n",
    "        self.parent: Optional[Node] = parent\n",
    "        self.cost: float = cost\n",
    "        self.heuristic: float = heuristic\n",
    "\n",
    "    def __lt__(self, other: Node) -> bool:\n",
    "        return (self.cost + self.heuristic) < (other.cost + other.heuristic)\n",
    "'''"
   ]
  },
  {
   "cell_type": "markdown",
   "metadata": {},
   "source": [
    "\"An in-progress depth-first search needs to keep track of two data structures: the stack of states (or “places”) that we are considering searching, which we will call the frontier; and the set of states that we have already searched, which we will call explored. As long as there are more states to visit in the frontier, DFS will keep checking whether they are the goal (if a state is the goal, DFS will stop and return it) and adding their successors to the frontier. It will also mark each state that has already been searched as explored, so that the search does not get caught in a circle, reaching states that have prior visited states as successors. If the frontier is empty, it means there is nowhere left to search.\""
   ]
  },
  {
   "cell_type": "code",
   "execution_count": 6,
   "metadata": {},
   "outputs": [
    {
     "data": {
      "text/plain": [
       "\"\\ndef dfs(initial: T, goal_test: Callable[[T], bool], successors: Callable[[T],\\n     List[T]]) -> Optional[Node[T]]:\\n    # frontier is where we've yet to go\\n    frontier: Stack[Node[T]] = Stack()\\n    frontier.push(Node(initial, None))\\n    \\n    # explored is where we've been\\n    explored: Set[T] = {initial}\\n\\n    # keep going while there is more to explore\\n    while not frontier.empty:\\n        current_node: Node[T] = frontier.pop()\\n        current_state: T = current_node.state\\n        # if we found the goal, we're done\\n        if goal_test(current_state):\\n            return current_node\\n        \\n        # check where we can go next and haven't explored\\n        for child in successors(current_state):\\n            if child in explored:  # skip children we already explored\\n                continue\\n            explored.add(child)\\n            frontier.push(Node(child, current_node))\\n    return None  # went through everything and never found goal\\n\""
      ]
     },
     "execution_count": 6,
     "metadata": {},
     "output_type": "execute_result"
    }
   ],
   "source": [
    "'''\n",
    "def dfs(initial: T, goal_test: Callable[[T], bool], successors: Callable[[T],\n",
    "     List[T]]) -> Optional[Node[T]]:\n",
    "    # frontier is where we've yet to go\n",
    "    frontier: Stack[Node[T]] = Stack()\n",
    "    frontier.push(Node(initial, None))\n",
    "    \n",
    "    # explored is where we've been\n",
    "    explored: Set[T] = {initial}\n",
    "\n",
    "    # keep going while there is more to explore\n",
    "    while not frontier.empty:\n",
    "        current_node: Node[T] = frontier.pop()\n",
    "        current_state: T = current_node.state\n",
    "        # if we found the goal, we're done\n",
    "        if goal_test(current_state):\n",
    "            return current_node\n",
    "        \n",
    "        # check where we can go next and haven't explored\n",
    "        for child in successors(current_state):\n",
    "            if child in explored:  # skip children we already explored\n",
    "                continue\n",
    "            explored.add(child)\n",
    "            frontier.push(Node(child, current_node))\n",
    "    return None  # went through everything and never found goal\n",
    "'''"
   ]
  },
  {
   "cell_type": "markdown",
   "metadata": {},
   "source": [
    "\"If dfs() is successful, it returns the Node encapsulating the goal state. The path from the start to the goal can be reconstructed by working backward from this Node and its priors using the parent property. \""
   ]
  },
  {
   "cell_type": "code",
   "execution_count": 7,
   "metadata": {},
   "outputs": [
    {
     "data": {
      "text/plain": [
       "'\\ndef node_to_path(node: Node[T]) -> List[T]:\\n    path: List[T] = [node.state]\\n    # work backwards from end to front\\n    while node.parent is not None:\\n        node = node.parent\\n        path.append(node.state)\\n    path.reverse()\\n    return path\\n'"
      ]
     },
     "execution_count": 7,
     "metadata": {},
     "output_type": "execute_result"
    }
   ],
   "source": [
    "'''\n",
    "def node_to_path(node: Node[T]) -> List[T]:\n",
    "    path: List[T] = [node.state]\n",
    "    # work backwards from end to front\n",
    "    while node.parent is not None:\n",
    "        node = node.parent\n",
    "        path.append(node.state)\n",
    "    path.reverse()\n",
    "    return path\n",
    "'''"
   ]
  },
  {
   "cell_type": "markdown",
   "metadata": {},
   "source": [
    "Creating Extra methods to the Maze class that let us mark our path and clearing it."
   ]
  },
  {
   "cell_type": "code",
   "execution_count": 8,
   "metadata": {},
   "outputs": [],
   "source": [
    "class Maze:\n",
    "    def __init__(self, rows: int = 10, columns: int = 10, sparseness: float = 0.2, \\\n",
    "                start: MazeLocation = MazeLocation(0,0), goal: MazeLocation = MazeLocation(9,9)) -> None:\n",
    "        #initialise basic instance variables\n",
    "        self._rows: int = rows\n",
    "        self._columns: int = columns\n",
    "        self.start: MazeLocation = start\n",
    "        self.goal: MazeLocation = goal\n",
    "        # fill the grid with empty cells\n",
    "        self._grid: List[List[Cell]] = [[Cell.EMPTY for col in range(columns)]\n",
    "                                        for row in range(rows)]\n",
    "            \n",
    "        # populate the grid with bloacked cells - method defined below\n",
    "        # you run this random fill first so your start and goal won't\n",
    "        # get over written\n",
    "        self._randomly_fill(rows, columns,sparseness)\n",
    "        \n",
    "        # fill the start and goal locations in\n",
    "        self._grid[start.row][start.column] = Cell.START\n",
    "        self._grid[goal.row][goal.column] = Cell.GOAL\n",
    "        \n",
    "    def _randomly_fill(self, rows: int, columns: int, sparseness: float):\n",
    "        for row in range(rows):\n",
    "            for column in range(columns):\n",
    "                if random.uniform(0,1.0) < sparseness:\n",
    "                    self._grid[row][column] = Cell.BLOCKED\n",
    "    \n",
    "    # a way to print the maze\n",
    "    def __str__(self) -> str:\n",
    "        output: str = ''\n",
    "        for row in self._grid:\n",
    "            output += ''.join([col.value for col in row]) + '\\n'\n",
    "        return output\n",
    "    \n",
    "    # create a method to check if we have reached the goal cell\n",
    "    def goal_test(self, ml: MazeLocation) -> bool:\n",
    "        return ml == self.goal\n",
    "    \n",
    "    # create a method that checks the cells/locations around it\n",
    "    def successors(self, ml: MazeLocation) -> List[MazeLocation]:\n",
    "        locations: List[MazeLocation] = []\n",
    "            \n",
    "        # restriction on downward movement    \n",
    "        if ml.row + 1 < self._rows and self._grid[ml.row + 1][ml.column] != Cell.BLOCKED:\n",
    "            locations.append(MazeLocation(ml.row + 1, ml.column))\n",
    "            \n",
    "        # restriction on upward movement    \n",
    "        if ml.row - 1 >= 0 and self._grid[ml.row - 1][ml.column] != Cell.BLOCKED:\n",
    "            locations.append(MazeLocation(ml.row - 1, ml.column))\n",
    "        \n",
    "        # restriction on movement to the right\n",
    "        if ml.column + 1 < self._columns and self._grid[ml.row][ml.column + 1] != Cell.BLOCKED:\n",
    "            locations.append(MazeLocation(ml.row, ml.column + 1))\n",
    "        \n",
    "        # restriction on movement to the left\n",
    "        if ml.column - 1 >= 0 and self._grid[ml.row][ml.column - 1] != Cell.BLOCKED:\n",
    "            locations.append(MazeLocation(ml.row, ml.column - 1))\n",
    "        return locations        \n",
    "        \n",
    "##########new################\n",
    "    def mark(self, path: List[MazeLocation]):\n",
    "        for maze_location in path:\n",
    "            self._grid[maze_location.row][maze_location.column] = Cell.PATH\n",
    "        self._grid[self.start.row][self.start.column] = Cell.START\n",
    "        self._grid[self.goal.row][self.goal.column] = Cell.GOAL\n",
    "        \n",
    "    def clear(self, path: List[MazeLocation]):\n",
    "        for maze_location in path:\n",
    "            self._grid[maze_location.row][maze_location.column] = Cell.EMPTY\n",
    "        self._grid[self.start.row][self.start.column] = Cell.START\n",
    "        self._grid[self.goal.row][self.goal.column] = Cell.GOAL\n",
    "##########new################\n"
   ]
  },
  {
   "cell_type": "code",
   "execution_count": 9,
   "metadata": {},
   "outputs": [
    {
     "name": "stdout",
     "output_type": "stream",
     "text": [
      "S   X     \n",
      "      X   \n",
      "   X      \n",
      " X  XX    \n",
      "   X      \n",
      "     X    \n",
      "     X    \n",
      " X   X   X\n",
      "  X    X  \n",
      "X X      G\n",
      "\n",
      "-----------------------\n",
      "S***X*****\n",
      "   ***X  *\n",
      "   X  ****\n",
      " X  XX*   \n",
      "   X***   \n",
      "  ***X    \n",
      "  *  X    \n",
      " X***X***X\n",
      "  X ***X**\n",
      "X X      G\n",
      "\n"
     ]
    }
   ],
   "source": [
    "# Test DFS\n",
    "m: Maze = Maze()\n",
    "print(m)\n",
    "print('-----------------------')\n",
    "solution1: Optional[Node[MazeLocation]] = dfs(m.start, m.goal_test,\n",
    "     m.successors)\n",
    "if solution1 is None:\n",
    "    print('No solution found using depth-first search!')\n",
    "else:\n",
    "    path1: List[MazeLocation] = node_to_path(solution1)\n",
    "    m.mark(path1)\n",
    "    print(m)\n",
    "    \n",
    "    m.clear(path1)"
   ]
  },
  {
   "cell_type": "markdown",
   "metadata": {},
   "source": [
    "### Breath-first search\n",
    "\n",
    "A breath-first search finds the shortest path but takes way longer than a depth-first search.\n",
    "\n",
    "To implement BFS, we add a Queue class to our generic_search.py. The data structure know as a queue works on a FIFO basis. We are going to use an efficient python data type called __deque__. __deque__ is a list-like container with fast appends and pops on either end.\n",
    "\n",
    "Popping from the left on a __deque__ is an O(1) operation, whereas it is an O(n) operation on a __list__. In the case of the __list__, after popping from the left, every subsequent element must be moved one to the left, making it inefficient. "
   ]
  },
  {
   "cell_type": "code",
   "execution_count": 10,
   "metadata": {},
   "outputs": [
    {
     "data": {
      "text/plain": [
       "'\\nclass Queue(Generic[T]):\\n    def __init__(self) -> None:\\n        self._container: Deque[T] = Deque()\\n    \\n    @property\\n    def empty(self) -> bool:\\n        return not self._container # not is true for empty container\\n    \\n    def push(self, item: T) -> None:\\n        self._container.append(item)\\n    \\n    def pop(self) -> T:\\n        return self._container.popleft() # FIFO\\n    \\n    def __repr__(self) -> str:\\n        return repr(self.container)\\n'"
      ]
     },
     "execution_count": 10,
     "metadata": {},
     "output_type": "execute_result"
    }
   ],
   "source": [
    "'''\n",
    "class Queue(Generic[T]):\n",
    "    def __init__(self) -> None:\n",
    "        self._container: Deque[T] = Deque()\n",
    "    \n",
    "    @property\n",
    "    def empty(self) -> bool:\n",
    "        return not self._container # not is true for empty container\n",
    "    \n",
    "    def push(self, item: T) -> None:\n",
    "        self._container.append(item)\n",
    "    \n",
    "    def pop(self) -> T:\n",
    "        return self._container.popleft() # FIFO\n",
    "    \n",
    "    def __repr__(self) -> str:\n",
    "        return repr(self.container)\n",
    "'''"
   ]
  },
  {
   "cell_type": "markdown",
   "metadata": {},
   "source": [
    "BFS:"
   ]
  },
  {
   "cell_type": "code",
   "execution_count": 11,
   "metadata": {},
   "outputs": [
    {
     "data": {
      "text/plain": [
       "\"\\ndef bfs(initial: T, goal_test: Callable[[T], bool],        successors: Callable[[T], List[T]]) -> Optional[Node[T]]:\\n    # frontier is where we've yet to go\\n    frontier: Queue[Node[T]] = Queue()\\n    \\n    # add the starting point to the queue frontier\\n    frontier.push(Node(initial,None))\\n    \\n    # explored is where we've been\\n    explored: Set[T] = {initial}\\n        \\n    # keep going while there is more to explore\\n    while not frontier.empty:\\n        # get the first in the queue to explore\\n        current_node: Node[T] = frontier.pop()\\n        # check whether the node is blank, X, S or G\\n        current_state: T = current_code.state\\n        \\n        # remember goal_test is a method in the class maze\\n        # if current state is equal the goal, we're done\\n        if goal_test(current_state):\\n            return current_node\\n        \\n        # check where we can go next and haven't explored\\n        # remember successors is a method in the class maze\\n        for child in successors(current_state):\\n            if child in explored:# skip children we already explored\\n                continue\\n            # add the new child to the set explored\\n            explored.add(child)\\n            \\n            # add the new child to the queue frontier\\n            frontier.push(Node(child, current_node))\\n    return None # gone through everything and never found goal\\n\""
      ]
     },
     "execution_count": 11,
     "metadata": {},
     "output_type": "execute_result"
    }
   ],
   "source": [
    "'''\n",
    "def bfs(initial: T, goal_test: Callable[[T], bool],\\\n",
    "        successors: Callable[[T], List[T]]) -> Optional[Node[T]]:\n",
    "    # frontier is where we've yet to go\n",
    "    frontier: Queue[Node[T]] = Queue()\n",
    "    \n",
    "    # add the starting point to the queue frontier\n",
    "    frontier.push(Node(initial,None))\n",
    "    \n",
    "    # explored is where we've been\n",
    "    explored: Set[T] = {initial}\n",
    "        \n",
    "    # keep going while there is more to explore\n",
    "    while not frontier.empty:\n",
    "        # get the first in the queue to explore\n",
    "        current_node: Node[T] = frontier.pop()\n",
    "        # check whether the node is blank, X, S or G\n",
    "        current_state: T = current_code.state\n",
    "        \n",
    "        # remember goal_test is a method in the class maze\n",
    "        # if current state is equal the goal, we're done\n",
    "        if goal_test(current_state):\n",
    "            return current_node\n",
    "        \n",
    "        # check where we can go next and haven't explored\n",
    "        # remember successors is a method in the class maze\n",
    "        for child in successors(current_state):\n",
    "            if child in explored:# skip children we already explored\n",
    "                continue\n",
    "            # add the new child to the set explored\n",
    "            explored.add(child)\n",
    "            \n",
    "            # add the new child to the queue frontier\n",
    "            frontier.push(Node(child, current_node))\n",
    "    return None # gone through everything and never found goal\n",
    "'''"
   ]
  },
  {
   "cell_type": "markdown",
   "metadata": {},
   "source": [
    "Testing BFS:"
   ]
  },
  {
   "cell_type": "code",
   "execution_count": 12,
   "metadata": {},
   "outputs": [
    {
     "name": "stdout",
     "output_type": "stream",
     "text": [
      "S   X     \n",
      "*     X   \n",
      "*  X      \n",
      "*X  XX    \n",
      "*  X      \n",
      "*    X    \n",
      "***  X    \n",
      " X** X   X\n",
      "  X*   X  \n",
      "X X******G\n",
      "\n"
     ]
    }
   ],
   "source": [
    "solution2: Optional[Node[MazeLocation]] = bfs(m.start, m.goal_test, m.successors)\n",
    "if solution2 is None:\n",
    "    print('No solution found using breadth-first search!')\n",
    "else:\n",
    "    path2: List[MazeLocation] = node_to_path(solution2)\n",
    "    m.mark(path2)\n",
    "    print(m)\n",
    "    m.clear(path2)"
   ]
  },
  {
   "cell_type": "markdown",
   "metadata": {},
   "source": [
    "Here's another demo of the BFS algorithm: https://www.youtube.com/watch?v=hettiSrJjM4"
   ]
  },
  {
   "cell_type": "markdown",
   "metadata": {},
   "source": [
    "### A* Search\n",
    "\n",
    "An A* search uses a combination of a cost function and a heuristic function to focus its search on pathways most likely to get to the goal quickly.\n",
    "\n",
    "\"The cost function, g(n), examines the cost to get to a particular state. In the case of our maze, this would be how many previous steps we had to go through to get to the state in question. The heuristic function, h(n), gives an estimate of the cost to get from the state in question to the goal state. It can be proved that if h(n) is an admissible heuristic, then the final path found will be optimal. An admissible heuristic is one that never overestimates the cost to reach the goal. On a two-dimensional plane, one example is a straight-line distance heuristic, because a straight line is always the shortest path.\"\n",
    "\n",
    "\"The total cost for any state being considered is f(n), which is simply the combination of g(n) and h(n). In fact, f(n) = g(n) + h(n). \"\n",
    "\n",
    "The goal is to minimise total cost.\n",
    "\n",
    "To pick the state with the lowest cost, an A* search algorithm uses a priority queue as a data structure. A priority queue is a queue that is always ordered. For more explanation on priority queue and heaps refer to these two videos:\n",
    "https://www.youtube.com/watch?v=wptevk0bshY\n",
    "https://www.youtube.com/watch?v=nXp7lg2SVQo\n",
    "\n",
    "Python’s standard library contains __heappush()__ and __heappop()__ functions that will take a list and maintain it as a binary heap. We will create a PriorityQueue class using these two functions and add it to __generic_search.py__."
   ]
  },
  {
   "cell_type": "code",
   "execution_count": 13,
   "metadata": {},
   "outputs": [
    {
     "data": {
      "text/plain": [
       "'\\nclass PriorityQueue(Generic[T]):\\n    def __init__(self) -> None:\\n        \\n        # create a list as an empty container\\n        self._container: List[T] = []\\n    \\n    @property\\n    def empty(self) -> bool:\\n        return not self._container # true when container is empty\\n    \\n    def push(self, item: T) -> None:\\n        heappush(self._container, item)\\n    \\n    def pop(self) -> T:\\n        return heappop(self._container)\\n    \\n    def __repr__(self) -> str:\\n        return repr(self._container)\\n        \\n'"
      ]
     },
     "execution_count": 13,
     "metadata": {},
     "output_type": "execute_result"
    }
   ],
   "source": [
    "'''\n",
    "class PriorityQueue(Generic[T]):\n",
    "    def __init__(self) -> None:\n",
    "        \n",
    "        # create a list as an empty container\n",
    "        self._container: List[T] = []\n",
    "    \n",
    "    @property\n",
    "    def empty(self) -> bool:\n",
    "        return not self._container # true when container is empty\n",
    "    \n",
    "    def push(self, item: T) -> None:\n",
    "        heappush(self._container, item)\n",
    "    \n",
    "    def pop(self) -> T:\n",
    "        return heappop(self._container)\n",
    "    \n",
    "    def __repr__(self) -> str:\n",
    "        return repr(self._container)\n",
    "        \n",
    "'''"
   ]
  },
  {
   "cell_type": "markdown",
   "metadata": {},
   "source": [
    "#### Heuristics\n",
    "\n",
    "A heuristic is an intuition for solving a problem.\n",
    "\n",
    "\"Heuristics that calculate smaller values end up leading to a search through more states, whereas heuristics closer to the exact real distance (but not over it, which would make them inadmissible) lead to a search through fewer states. Therefore, ideal heuristics come as close to the real distance as possible without ever going over it.\"\n",
    "\n",
    "#### Euclidean Distance\n",
    "\n",
    "d = sqrt[(x1-x2)^2 + (y1-y2)^2]\n"
   ]
  },
  {
   "cell_type": "code",
   "execution_count": 14,
   "metadata": {},
   "outputs": [],
   "source": [
    "def euclidean_distance(goal: MazeLocation) -> Callable[[MazeLocation], float]:\n",
    "    def distance(ml: MazeLocation) -> float:\n",
    "        xdist: int = ml.column - goal.column\n",
    "        ydist: int = ml.row - goal.row\n",
    "        return sqrt(xdist**2 + ydist**2)\n",
    "    return distance"
   ]
  },
  {
   "cell_type": "markdown",
   "metadata": {},
   "source": [
    "#### Manhattan Distance\n",
    "\n",
    "The Manhattan distance is the difference between two rows and summing it with the difference between two columns."
   ]
  },
  {
   "cell_type": "code",
   "execution_count": 15,
   "metadata": {},
   "outputs": [],
   "source": [
    "def manhattan_distance(goal: MazeLocation) -> Callable[[MazeLocation], float]:\n",
    "    def distance(ml: MazeLocation) -> float:\n",
    "        xdist: int = abs(ml.column - goal.column)\n",
    "        ydist: int = abs(ml.row - goal.row)\n",
    "        return (xdist + ydist)\n",
    "    return distance"
   ]
  },
  {
   "cell_type": "markdown",
   "metadata": {},
   "source": [
    "\"Because this heuristic more accurately follows the actuality of navigating our mazes (moving vertically and horizontally instead of in diagonal straight lines), it comes closer to the actual distance between any maze location and the goal than Euclidean distance does. Therefore, when an A* search is coupled with Manhattan distance, it will result in searching through fewer states than when an A* search is coupled with Euclidean distance for our mazes. Solution paths will still be optimal, because Manhattan distance is admissible (never overestimates distance) for mazes in which only four directions of movement are allowed.\"\n",
    "\n",
    "#### The A* algorithm\n",
    "\n",
    "We modify the BFS to get our A* search algorithm:\n",
    "\n",
    "- Make the frontier queue pop nodes with the lowest f(n).\n",
    "- Change the explored set to a dictionary, which would let us keep track of the lowest cost (g(n)) of each node we may visit. We may visit a node twice because of heuristic.\n",
    "- Consider every step has a cost of 1.\n",
    "- Add a heuristic function"
   ]
  },
  {
   "cell_type": "code",
   "execution_count": 16,
   "metadata": {},
   "outputs": [
    {
     "data": {
      "text/plain": [
       "\"\\ndef astar(initial: T, goal_test: Callable[[T], bool], successors: Callable[[T], List[T]],\\n         heuristic: Callable[[T], float]) -> Optional[Node[T]]:\\n    \\n    # frontier is a priority queue containing nodes we would consider\\n    frontier: PriorityQueue[Node[T]]= PriorityQueue()\\n    \\n    # push the first node, start to the frontier\\n    frontier.push(Node(initial, None, 0.0, heuristic(initial)))\\n    \\n    # explored is where we've been. Make the cost 0 for starting node/cell\\n    explored: Dict[T, float] = {initial: 0.0}\\n        \\n    while not frontier.empty:\\n        # consider the node at the front of the queue\\n        current_node: Node[T] = frontier.pop()\\n        \\n        # consider the state of this popped node\\n        current_state: T = current_node.state\\n        \\n        # testing for end of maze\\n        if goal_test(current_state):\\n            return current_node\\n        \\n        # check where we can go next and haven't explored\\n        for child in successors(current_state):\\n            new_cost: float = current_node.cost + 1\\n                # 1 assumes a grid, need a cost function for more sophisticated apps\\n                \\n                # add or update node-cost pair to explored\\n                # the dunder method Node.__lt__() let us compare cost+heuristc with cost\\n            if child not in explored or explored[child] > new_cost:\\n                explored[child] = new_cost\\n                \\n                # push the child into frontier, with all its parent, cost and heuristic details\\n                frontier.push(Node(child, current_node, new_cost, heuristic(child)))\\n    return None # went through everything and never found goal\\n\""
      ]
     },
     "execution_count": 16,
     "metadata": {},
     "output_type": "execute_result"
    }
   ],
   "source": [
    "'''\n",
    "def astar(initial: T, goal_test: Callable[[T], bool], successors: Callable[[T], List[T]],\n",
    "         heuristic: Callable[[T], float]) -> Optional[Node[T]]:\n",
    "    \n",
    "    # frontier is a priority queue containing nodes we would consider\n",
    "    frontier: PriorityQueue[Node[T]]= PriorityQueue()\n",
    "    \n",
    "    # push the first node, start to the frontier\n",
    "    frontier.push(Node(initial, None, 0.0, heuristic(initial)))\n",
    "    \n",
    "    # explored is where we've been. Make the cost 0 for starting node/cell\n",
    "    explored: Dict[T, float] = {initial: 0.0}\n",
    "        \n",
    "    while not frontier.empty:\n",
    "        # consider the node at the front of the queue\n",
    "        current_node: Node[T] = frontier.pop()\n",
    "        \n",
    "        # consider the state of this popped node\n",
    "        current_state: T = current_node.state\n",
    "        \n",
    "        # testing for end of maze\n",
    "        if goal_test(current_state):\n",
    "            return current_node\n",
    "        \n",
    "        # check where we can go next and haven't explored\n",
    "        for child in successors(current_state):\n",
    "            new_cost: float = current_node.cost + 1\n",
    "                # 1 assumes a grid, need a cost function for more sophisticated apps\n",
    "                \n",
    "                # add or update node-cost pair to explored\n",
    "\n",
    "            if child not in explored or explored[child] > new_cost:\n",
    "                try:\n",
    "                    print(\"explored child: \", explored[child], \"new cost: \", new_cost)\n",
    "                except:\n",
    "                    print(\"child not in explored, new cost is \", new_cost)      \n",
    "                explored[child] = new_cost\n",
    "              \n",
    "                # push the child into frontier, with all its parent, cost and heuristic details\n",
    "                frontier.push(Node(child, current_node, new_cost, heuristic(child)))\n",
    "    return None # went through everything and never found goal\n",
    "'''\n"
   ]
  },
  {
   "cell_type": "markdown",
   "metadata": {},
   "source": [
    "#### Testing A*"
   ]
  },
  {
   "cell_type": "code",
   "execution_count": 17,
   "metadata": {},
   "outputs": [
    {
     "name": "stdout",
     "output_type": "stream",
     "text": [
      "child not in explored, new cost is  1.0\n",
      "child not in explored, new cost is  1.0\n",
      "child not in explored, new cost is  2.0\n",
      "child not in explored, new cost is  2.0\n",
      "child not in explored, new cost is  2.0\n",
      "child not in explored, new cost is  3.0\n",
      "child not in explored, new cost is  3.0\n",
      "child not in explored, new cost is  3.0\n",
      "child not in explored, new cost is  4.0\n",
      "child not in explored, new cost is  4.0\n",
      "child not in explored, new cost is  4.0\n",
      "child not in explored, new cost is  5.0\n",
      "child not in explored, new cost is  5.0\n",
      "child not in explored, new cost is  5.0\n",
      "child not in explored, new cost is  5.0\n",
      "child not in explored, new cost is  5.0\n",
      "child not in explored, new cost is  6.0\n",
      "child not in explored, new cost is  6.0\n",
      "child not in explored, new cost is  6.0\n",
      "child not in explored, new cost is  6.0\n",
      "child not in explored, new cost is  6.0\n",
      "child not in explored, new cost is  7.0\n",
      "child not in explored, new cost is  7.0\n",
      "child not in explored, new cost is  7.0\n",
      "child not in explored, new cost is  7.0\n",
      "child not in explored, new cost is  8.0\n",
      "child not in explored, new cost is  8.0\n",
      "child not in explored, new cost is  8.0\n",
      "child not in explored, new cost is  8.0\n",
      "child not in explored, new cost is  9.0\n",
      "child not in explored, new cost is  9.0\n",
      "child not in explored, new cost is  9.0\n",
      "child not in explored, new cost is  9.0\n",
      "child not in explored, new cost is  9.0\n",
      "child not in explored, new cost is  10.0\n",
      "child not in explored, new cost is  10.0\n",
      "explored child:  5.0 new cost:  3.0\n",
      "child not in explored, new cost is  10.0\n",
      "child not in explored, new cost is  10.0\n",
      "child not in explored, new cost is  10.0\n",
      "child not in explored, new cost is  10.0\n",
      "child not in explored, new cost is  11.0\n",
      "child not in explored, new cost is  11.0\n",
      "child not in explored, new cost is  11.0\n",
      "child not in explored, new cost is  11.0\n",
      "child not in explored, new cost is  11.0\n",
      "child not in explored, new cost is  12.0\n",
      "child not in explored, new cost is  12.0\n",
      "child not in explored, new cost is  12.0\n",
      "child not in explored, new cost is  12.0\n",
      "child not in explored, new cost is  12.0\n",
      "child not in explored, new cost is  13.0\n",
      "child not in explored, new cost is  13.0\n",
      "child not in explored, new cost is  13.0\n",
      "child not in explored, new cost is  14.0\n",
      "child not in explored, new cost is  14.0\n",
      "child not in explored, new cost is  14.0\n",
      "child not in explored, new cost is  15.0\n",
      "child not in explored, new cost is  15.0\n",
      "child not in explored, new cost is  15.0\n",
      "child not in explored, new cost is  15.0\n",
      "child not in explored, new cost is  11.0\n",
      "child not in explored, new cost is  16.0\n",
      "child not in explored, new cost is  16.0\n",
      "explored child:  15.0 new cost:  13.0\n",
      "child not in explored, new cost is  12.0\n",
      "child not in explored, new cost is  12.0\n",
      "child not in explored, new cost is  17.0\n",
      "explored child:  8.0 new cost:  6.0\n",
      "explored child:  12.0 new cost:  10.0\n",
      "explored child:  16.0 new cost:  14.0\n",
      "child not in explored, new cost is  13.0\n",
      "child not in explored, new cost is  13.0\n",
      "child not in explored, new cost is  18.0\n",
      "child not in explored, new cost is  18.0\n",
      "child not in explored, new cost is  7.0\n",
      "explored child:  13.0 new cost:  11.0\n",
      "child not in explored, new cost is  11.0\n",
      "child not in explored, new cost is  15.0\n",
      "S   X     \n",
      "*     X   \n",
      "*  X      \n",
      "*X  XX    \n",
      "** X      \n",
      " **  X    \n",
      "  *  X    \n",
      " X** X   X\n",
      "  X****X  \n",
      "X X   ***G\n",
      "\n"
     ]
    }
   ],
   "source": [
    "distance: Callable[[MazeLocation], float] = manhattan_distance(m.goal)\n",
    "\n",
    "solution3: Optional[Node[MazeLocation]] = astar(m.start, m.goal_test, m.successors, distance)\n",
    "\n",
    "if solution3 is None:\n",
    "    print('No solution found using A*!')\n",
    "else:\n",
    "    path3: List[MazeLocation] = node_to_path(solution3)\n",
    "    m.mark(path3)\n",
    "    print(m)"
   ]
  }
 ],
 "metadata": {
  "kernelspec": {
   "display_name": "Python 3",
   "language": "python",
   "name": "python3"
  },
  "language_info": {
   "codemirror_mode": {
    "name": "ipython",
    "version": 3
   },
   "file_extension": ".py",
   "mimetype": "text/x-python",
   "name": "python",
   "nbconvert_exporter": "python",
   "pygments_lexer": "ipython3",
   "version": "3.7.6"
  }
 },
 "nbformat": 4,
 "nbformat_minor": 2
}
