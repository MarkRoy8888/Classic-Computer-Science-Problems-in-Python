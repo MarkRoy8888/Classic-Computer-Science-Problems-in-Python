{
 "cells": [
  {
   "cell_type": "markdown",
   "metadata": {},
   "source": [
    "Each letter represents a different digit. The puzzle is to find the right digits to make a mathematical statement true\n",
    "\n",
    "Constraint:"
   ]
  },
  {
   "cell_type": "code",
   "execution_count": 1,
   "metadata": {},
   "outputs": [],
   "source": [
    "from csp import Constraint, CSP\n",
    "from typing import Dict, List, Optional\n",
    "\n",
    "class SendMoreMoneyConstraint(Constraint[str, int]):\n",
    "    def __init__(self, letters: List[str]) -> None:\n",
    "        super().__init__(letters)\n",
    "        self.letters: List[str] = letters\n",
    "            \n",
    "    def satisfied(self, assignment: Dict[str, int]) -> bool:\n",
    "        # if there are duplicate values, then it is not a solution\n",
    "        if len(set(assignment.values())) < len(assignment):\n",
    "            return False\n",
    "        \n",
    "        # if all variables have been assigned, check if they add up correctly\n",
    "        if len(assignment) == len(self.letters):\n",
    "            s: int = assignment['S']\n",
    "            e: int = assignment['E']\n",
    "            n: int = assignment['N']\n",
    "            d: int = assignment['D']\n",
    "            m: int = assignment['M']\n",
    "            o: int = assignment['O']\n",
    "            r: int = assignment['R']\n",
    "            y: int = assignment['Y']\n",
    "            send: int = s * 1000 + e * 100 + n * 10 + d\n",
    "            more: int = m * 1000 + o * 100 + r * 10 + e\n",
    "            money: int = m * 10000 + o * 1000 + n * 100 + e * 10 + y\n",
    "            return send + more == money\n",
    "        return True # when all these conditions are satisfied"
   ]
  },
  {
   "cell_type": "markdown",
   "metadata": {},
   "source": [
    "Solution"
   ]
  },
  {
   "cell_type": "code",
   "execution_count": 2,
   "metadata": {},
   "outputs": [
    {
     "name": "stdout",
     "output_type": "stream",
     "text": [
      "{'S': 9, 'E': 5, 'N': 6, 'D': 7, 'M': 1, 'O': 0, 'R': 8, 'Y': 2}\n"
     ]
    }
   ],
   "source": [
    "# variables\n",
    "letters: List[str] = ['S', 'E', 'N', 'D', 'M', 'O', 'R', 'Y']\n",
    "\n",
    "# domains\n",
    "possible_digits: Dict[str, List[int]] = {}\n",
    "for letter in letters:\n",
    "    possible_digits[letter] = [i for i in range(0, 10)] #0-9\n",
    "possible_digits['M'] = [1] # so we don't get an answer starting with 0; we can't get a 2 for 'M'\n",
    "\n",
    "# initiate csp\n",
    "csp: CSP[str, int] = CSP(letters, possible_digits)\n",
    "\n",
    "# add constraints\n",
    "csp.add_constraint(SendMoreMoneyConstraint(letters))\n",
    "\n",
    "# solve\n",
    "solution: Optional[Dict[str, int]] = csp.backtracking_search()\n",
    "    \n",
    "if solution is None:\n",
    "    print('No solution found!')\n",
    "else:\n",
    "    print(solution)"
   ]
  }
 ],
 "metadata": {
  "kernelspec": {
   "display_name": "Python 3",
   "language": "python",
   "name": "python3"
  },
  "language_info": {
   "codemirror_mode": {
    "name": "ipython",
    "version": 3
   },
   "file_extension": ".py",
   "mimetype": "text/x-python",
   "name": "python",
   "nbconvert_exporter": "python",
   "pygments_lexer": "ipython3",
   "version": "3.7.6"
  }
 },
 "nbformat": 4,
 "nbformat_minor": 2
}
