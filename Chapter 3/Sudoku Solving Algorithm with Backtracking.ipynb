{
 "cells": [
  {
   "cell_type": "markdown",
   "metadata": {},
   "source": [
    "Video tutorial (Part1): https://www.youtube.com/watch?v=NuodN41aK3g\n",
    "\n",
    "Video tutorial (Part2): https://www.youtube.com/watch?v=QI0diwmx3OY"
   ]
  },
  {
   "cell_type": "markdown",
   "metadata": {},
   "source": [
    "Printing the board"
   ]
  },
  {
   "cell_type": "code",
   "execution_count": 1,
   "metadata": {},
   "outputs": [],
   "source": [
    "# returns a string variable with the board info\n",
    "def printFileBoard(board):\n",
    "    string = \"\"\n",
    "    string = string + \"*********************\\n\"\n",
    "    for x in range(0, 9):\n",
    "        if x == 3 or x == 6:\n",
    "            string = string + \"*********************\\n\"\n",
    "        for y in range(0, 9):\n",
    "            if y == 3 or y == 6:\n",
    "                string = string + \" * \"\n",
    "            string = string + str(board[x][y]) + \" \"\n",
    "        string = string + \"\\n\"\n",
    "    string = string + \"*********************\\n\"\n",
    "    return string\n",
    "\n",
    "# function to print the board on to the console\n",
    "def printBoard(board):\n",
    "    print(\"*********************\")\n",
    "    for x in range(0, 9):\n",
    "        if x == 3 or x == 6:\n",
    "            print(\"*********************\")\n",
    "        for y in range(0, 9):\n",
    "            if y == 3 or y == 6:\n",
    "                print(\"*\", end=\" \")\n",
    "            print(board[x][y], end=\" \")\n",
    "        print()\n",
    "    print(\"*********************\")"
   ]
  },
  {
   "cell_type": "markdown",
   "metadata": {},
   "source": [
    "- The first function we want to define is a function that returns false if any square is a zero."
   ]
  },
  {
   "cell_type": "code",
   "execution_count": 2,
   "metadata": {},
   "outputs": [],
   "source": [
    "def isFull(board):\n",
    "    for x in range(0,9):\n",
    "        for y in range(0,9):\n",
    "            if board[x][y] == 0:\n",
    "                return False\n",
    "    return True"
   ]
  },
  {
   "cell_type": "markdown",
   "metadata": {},
   "source": [
    "- A function that find all the possible numbers which can be put in a specific square by checking the horizontal and vertical, and the three by three square(unit) in which the numbers are housed.\n",
    "\n",
    "- Whatever that is 1 is already there on the board and whatever that is 0 is a possible entry."
   ]
  },
  {
   "cell_type": "code",
   "execution_count": 3,
   "metadata": {},
   "outputs": [],
   "source": [
    "# This function will apply to each square/field\n",
    "def possibleEntries(board, i, j):\n",
    "    possibilityArray = {}\n",
    "    for x in range(1, 10):\n",
    "        # initialise all entries to 0\n",
    "        possibilityArray[x] = 0\n",
    "        \n",
    "    # for horizontal entries\n",
    "    for y in range(0, 9):\n",
    "        if not board[i][y] == 0:\n",
    "            possibilityArray[board[i][y]] = 1\n",
    "            \n",
    "    # for vertical entries\n",
    "    for x in range(0, 9):\n",
    "        if not board[x][j] == 0:\n",
    "            possibilityArray[board[x][j]] = 1\n",
    "            \n",
    "    # for squares of 3 x 3\n",
    "    k = 0\n",
    "    l = 0\n",
    "    if i >= 0 and i <= 2:\n",
    "        k = 0\n",
    "    k = 0\n",
    "    l = 0\n",
    "    if i >= 0 and i <= 2:\n",
    "        k = 0\n",
    "    elif i >= 3 and i <= 5:\n",
    "        k = 3\n",
    "    else:\n",
    "        k = 6\n",
    "    if j >= 0 and j <= 2:\n",
    "        l = 0\n",
    "    elif j >= 3 and j <= 5:\n",
    "        l = 3\n",
    "    else:\n",
    "        l = 6\n",
    "    for x in range (k, k + 3):\n",
    "        for y in range (l, l + 3):\n",
    "            if not board[x][y] == 0:\n",
    "                possibilityArray[board[x][y]] = 1          \n",
    "    \n",
    "    for x in range (1, 10):\n",
    "        if possibilityArray[x] == 0:\n",
    "            possibilityArray[x] = x\n",
    "        else:\n",
    "            possibilityArray[x] = 0\n",
    "    \n",
    "    return possibilityArray   \n",
    "            "
   ]
  },
  {
   "cell_type": "code",
   "execution_count": 4,
   "metadata": {},
   "outputs": [
    {
     "name": "stdout",
     "output_type": "stream",
     "text": [
      "{1: 0, 2: 0, 3: 0, 4: 0, 5: 0, 6: 0, 7: 0, 8: 0, 9: 0}\n"
     ]
    }
   ],
   "source": [
    "# demo for clarity\n",
    "SudokuBoard = [[0 for x in range(9)] for x in range(9)] \n",
    "SudokuBoard[0][0] = 0\n",
    "SudokuBoard[0][1] = 0\n",
    "SudokuBoard[0][2] = 0\n",
    "SudokuBoard[0][3] = 3\n",
    "SudokuBoard[0][4] = 0\n",
    "SudokuBoard[0][5] = 0\n",
    "SudokuBoard[0][6] = 2\n",
    "SudokuBoard[0][7] = 0\n",
    "SudokuBoard[0][8] = 0\n",
    "SudokuBoard[1][0] = 0\n",
    "SudokuBoard[1][1] = 0\n",
    "SudokuBoard[1][2] = 0\n",
    "SudokuBoard[1][3] = 0\n",
    "SudokuBoard[1][4] = 0\n",
    "SudokuBoard[1][5] = 8\n",
    "SudokuBoard[1][6] = 0\n",
    "SudokuBoard[1][7] = 0\n",
    "SudokuBoard[1][8] = 0\n",
    "SudokuBoard[2][0] = 0\n",
    "SudokuBoard[2][1] = 7\n",
    "SudokuBoard[2][2] = 8\n",
    "SudokuBoard[2][3] = 0\n",
    "SudokuBoard[2][4] = 6\n",
    "SudokuBoard[2][5] = 0\n",
    "SudokuBoard[2][6] = 3\n",
    "SudokuBoard[2][7] = 4\n",
    "SudokuBoard[2][8] = 0\n",
    "SudokuBoard[3][0] = 0\n",
    "SudokuBoard[3][1] = 4\n",
    "SudokuBoard[3][2] = 2\n",
    "SudokuBoard[3][3] = 5\n",
    "SudokuBoard[3][4] = 1\n",
    "SudokuBoard[3][5] = 0\n",
    "SudokuBoard[3][6] = 0\n",
    "SudokuBoard[3][7] = 0\n",
    "SudokuBoard[3][8] = 0\n",
    "SudokuBoard[4][0] = 1\n",
    "SudokuBoard[4][1] = 0\n",
    "SudokuBoard[4][2] = 6\n",
    "SudokuBoard[4][3] = 0\n",
    "SudokuBoard[4][4] = 0\n",
    "SudokuBoard[4][5] = 0\n",
    "SudokuBoard[4][6] = 4\n",
    "SudokuBoard[4][7] = 0\n",
    "SudokuBoard[4][8] = 9\n",
    "SudokuBoard[5][0] = 0\n",
    "SudokuBoard[5][1] = 0\n",
    "SudokuBoard[5][2] = 0\n",
    "SudokuBoard[5][3] = 0\n",
    "SudokuBoard[5][4] = 8\n",
    "SudokuBoard[5][5] = 6\n",
    "SudokuBoard[5][6] = 1\n",
    "SudokuBoard[5][7] = 5\n",
    "SudokuBoard[5][8] = 0\n",
    "SudokuBoard[6][0] = 0\n",
    "SudokuBoard[6][1] = 3\n",
    "SudokuBoard[6][2] = 5\n",
    "SudokuBoard[6][3] = 0\n",
    "SudokuBoard[6][4] = 9\n",
    "SudokuBoard[6][5] = 0\n",
    "SudokuBoard[6][6] = 7\n",
    "SudokuBoard[6][7] = 6\n",
    "SudokuBoard[6][8] = 0\n",
    "SudokuBoard[7][0] = 0\n",
    "SudokuBoard[7][1] = 0\n",
    "SudokuBoard[7][2] = 0\n",
    "SudokuBoard[7][3] = 7\n",
    "SudokuBoard[7][4] = 0\n",
    "SudokuBoard[7][5] = 0\n",
    "SudokuBoard[7][6] = 0\n",
    "SudokuBoard[7][7] = 0\n",
    "SudokuBoard[7][8] = 0\n",
    "SudokuBoard[8][0] = 0\n",
    "SudokuBoard[8][1] = 0\n",
    "SudokuBoard[8][2] = 9\n",
    "SudokuBoard[8][3] = 0\n",
    "SudokuBoard[8][4] = 0\n",
    "SudokuBoard[8][5] = 5\n",
    "SudokuBoard[8][6] = 0\n",
    "SudokuBoard[8][7] = 0\n",
    "SudokuBoard[8][8] = 0\n",
    "\n",
    "possibilityArray = {}\n",
    "for x in range(1, 10):\n",
    "    # initialise all entries to 0\n",
    "    possibilityArray[x] = 0\n",
    "print(possibilityArray)\n"
   ]
  },
  {
   "cell_type": "code",
   "execution_count": 5,
   "metadata": {},
   "outputs": [
    {
     "name": "stdout",
     "output_type": "stream",
     "text": [
      "{1: 0, 2: 0, 3: 0, 4: 0, 5: 1, 6: 0, 7: 0, 8: 0, 9: 1, 0: 1}\n"
     ]
    }
   ],
   "source": [
    "# demo for clarity of the SudokuBoard\n",
    "# for Row8, we can see that the numbers 5 and 9 have already been taken\n",
    "for y in range(0, 9):\n",
    "    if not SudokuBoard[8][5] == 0:\n",
    "        possibilityArray[SudokuBoard[8][y]] = 1\n",
    "print(possibilityArray)"
   ]
  },
  {
   "cell_type": "markdown",
   "metadata": {},
   "source": [
    "The solver function:"
   ]
  },
  {
   "cell_type": "code",
   "execution_count": 6,
   "metadata": {},
   "outputs": [],
   "source": [
    "def sudokuSolver(board):\n",
    "    \n",
    "    i = 0\n",
    "    j = 0\n",
    "    possibilities = {}\n",
    "    \n",
    "    # if the board is full, there is no need to solve it any further\n",
    "    # This is our base case of the recursive function\n",
    "    if isFull(board):\n",
    "        print(\"Board solved successfully!\")\n",
    "        printBoard(board)\n",
    "        return\n",
    "    else:\n",
    "        # find the first vacant spot\n",
    "        for x in range(0, 9):\n",
    "            for y in range(0, 9):\n",
    "                if board[x][y] == 0:\n",
    "                    i = x\n",
    "                    j = y\n",
    "                    break\n",
    "            else:\n",
    "                continue\n",
    "            break\n",
    "    # get all the possibilities for i, j\n",
    "    possibilities = possibleEntries(board, i, j) # function defined earlier\n",
    "    \n",
    "    # go through all the possibilities and call the function again and again\n",
    "    ######### The recursion #############\n",
    "    for x in range(1, 10):\n",
    "        if not possibilities[x] == 0:\n",
    "            board[i][j] = possibilities[x]\n",
    "            sudokuSolver(board)\n",
    "    # when there are no possibilities to try (possibilites[x] is empty)\n",
    "    # the for loop breaks\n",
    "    # the backtracking step reset the value of square (i,j) to zero\n",
    "    board[i][j] = 0"
   ]
  },
  {
   "cell_type": "code",
   "execution_count": 7,
   "metadata": {},
   "outputs": [
    {
     "data": {
      "text/plain": [
       "[[0, 0, 0, 3, 0, 0, 2, 0, 0],\n",
       " [0, 0, 0, 0, 0, 8, 0, 0, 0],\n",
       " [0, 7, 8, 0, 6, 0, 3, 4, 0],\n",
       " [0, 4, 2, 5, 1, 0, 0, 0, 0],\n",
       " [1, 0, 6, 0, 0, 0, 4, 0, 9],\n",
       " [0, 0, 0, 0, 8, 6, 1, 5, 0],\n",
       " [0, 3, 5, 0, 9, 0, 7, 6, 0],\n",
       " [0, 0, 0, 7, 0, 0, 0, 0, 0],\n",
       " [0, 0, 9, 0, 0, 5, 0, 0, 0]]"
      ]
     },
     "execution_count": 7,
     "metadata": {},
     "output_type": "execute_result"
    }
   ],
   "source": [
    "SudokuBoard"
   ]
  },
  {
   "cell_type": "code",
   "execution_count": 8,
   "metadata": {
    "scrolled": true
   },
   "outputs": [
    {
     "data": {
      "text/plain": [
       "'*********************\\n0 0 0  * 3 0 0  * 2 0 0 \\n0 0 0  * 0 0 8  * 0 0 0 \\n0 7 8  * 0 6 0  * 3 4 0 \\n*********************\\n0 4 2  * 5 1 0  * 0 0 0 \\n1 0 6  * 0 0 0  * 4 0 9 \\n0 0 0  * 0 8 6  * 1 5 0 \\n*********************\\n0 3 5  * 0 9 0  * 7 6 0 \\n0 0 0  * 7 0 0  * 0 0 0 \\n0 0 9  * 0 0 5  * 0 0 0 \\n*********************\\n'"
      ]
     },
     "execution_count": 8,
     "metadata": {},
     "output_type": "execute_result"
    }
   ],
   "source": [
    "printFileBoard(SudokuBoard)"
   ]
  },
  {
   "cell_type": "code",
   "execution_count": 9,
   "metadata": {},
   "outputs": [
    {
     "name": "stdout",
     "output_type": "stream",
     "text": [
      "*********************\n",
      "0 0 0 * 3 0 0 * 2 0 0 \n",
      "0 0 0 * 0 0 8 * 0 0 0 \n",
      "0 7 8 * 0 6 0 * 3 4 0 \n",
      "*********************\n",
      "0 4 2 * 5 1 0 * 0 0 0 \n",
      "1 0 6 * 0 0 0 * 4 0 9 \n",
      "0 0 0 * 0 8 6 * 1 5 0 \n",
      "*********************\n",
      "0 3 5 * 0 9 0 * 7 6 0 \n",
      "0 0 0 * 7 0 0 * 0 0 0 \n",
      "0 0 9 * 0 0 5 * 0 0 0 \n",
      "*********************\n"
     ]
    }
   ],
   "source": [
    "printBoard(SudokuBoard)"
   ]
  },
  {
   "cell_type": "code",
   "execution_count": 10,
   "metadata": {},
   "outputs": [
    {
     "name": "stdout",
     "output_type": "stream",
     "text": [
      "Board solved successfully!\n",
      "*********************\n",
      "9 6 1 * 3 5 4 * 2 7 8 \n",
      "4 2 3 * 1 7 8 * 5 9 6 \n",
      "5 7 8 * 9 6 2 * 3 4 1 \n",
      "*********************\n",
      "8 4 2 * 5 1 9 * 6 3 7 \n",
      "1 5 6 * 2 3 7 * 4 8 9 \n",
      "3 9 7 * 4 8 6 * 1 5 2 \n",
      "*********************\n",
      "2 3 5 * 8 9 1 * 7 6 4 \n",
      "6 8 4 * 7 2 3 * 9 1 5 \n",
      "7 1 9 * 6 4 5 * 8 2 3 \n",
      "*********************\n"
     ]
    }
   ],
   "source": [
    "sudokuSolver(SudokuBoard)"
   ]
  },
  {
   "cell_type": "code",
   "execution_count": null,
   "metadata": {},
   "outputs": [],
   "source": []
  }
 ],
 "metadata": {
  "kernelspec": {
   "display_name": "Python 3",
   "language": "python",
   "name": "python3"
  },
  "language_info": {
   "codemirror_mode": {
    "name": "ipython",
    "version": 3
   },
   "file_extension": ".py",
   "mimetype": "text/x-python",
   "name": "python",
   "nbconvert_exporter": "python",
   "pygments_lexer": "ipython3",
   "version": "3.7.6"
  }
 },
 "nbformat": 4,
 "nbformat_minor": 2
}
