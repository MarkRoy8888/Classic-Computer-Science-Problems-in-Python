{
 "cells": [
  {
   "cell_type": "markdown",
   "metadata": {},
   "source": [
    "- We are going to build an abstract base class that can't be instantiated, but instead, used as a base to build subclasses. The methods in an abstract class are only accessible by its subclasses.\n",
    "\n",
    "- Each Constraint class will have variables and a method that checks whether the constraint is satisfied.\n",
    "\n",
    "- To make an abstract class, we pass in __ABC__ from the module abc as a parameter and put the decorator __@abstractmethod__ on top of methods (other than init) of the abstract class.\n",
    "\n",
    "- The abstract methods are inherited and we need to define them in full in our subclasses.\n",
    "\n",
    "A quick video on abstract classes: https://www.youtube.com/watch?v=PDMe3wgAsWg"
   ]
  },
  {
   "cell_type": "code",
   "execution_count": 1,
   "metadata": {},
   "outputs": [],
   "source": [
    "from typing import Generic, TypeVar, Dict, List, Optional\n",
    "from abc import ABC, abstractmethod\n",
    "\n",
    "V = TypeVar('V') # variable type\n",
    "D = TypeVar('D') # domain type\n",
    "\n",
    "# Base class for all constraints\n",
    "class Constraint(Generic[V, D], ABC):\n",
    "    def __init__(self, variabls: List[V]) -> None:\n",
    "        self.variables: variables\n",
    "    \n",
    "    # Must be overriden by subclass\n",
    "    @abstractmethod\n",
    "    def satisfied(self, assignment: Dict[V, D]) -> bool:\n",
    "        pass"
   ]
  },
  {
   "cell_type": "markdown",
   "metadata": {},
   "source": [
    "\"The centerpiece of our constraint-satisfaction framework will be a class called __CSP__. __CSP__ is the gathering point for variables, domains, and constraints. In terms of its type hints, it uses generics to make itself flexible enough to work with any kind of variables and domain values (V keys and D domain values). Within __CSP__, the __variables__, __domains__, and __constraints__ collections are of types that you would expect. The __variables__ collection is a __list__ of variables, domains is a __dict__ mapping variables to lists of possible values (the domains of those variables), and __constraints__ is a __dict__ that maps each variable to a __list__ of the constraints imposed on it.\""
   ]
  },
  {
   "cell_type": "code",
   "execution_count": 2,
   "metadata": {},
   "outputs": [],
   "source": [
    "# A constraint satisfaction problem consists of variables of type V\n",
    "# that have ranges of values known as domains of type D and constraints\n",
    "# that determine whether a particular variable's domain selection is valid\n",
    "class CSP(Generic[V,D]):\n",
    "    def __init__(self, variables: List[V], domains: Dict[V, List[D]]) -> None:\n",
    "        self.variables: List[V] = variables # variables to be constrained\n",
    "        self.constraints: Dict[V, List[Constraint[V,D]]] = {}\n",
    "        for variable in self.variables:\n",
    "            self.constraints[variable] = []\n",
    "            if variable not in self.domains:\n",
    "                raise LookupError('Every variable should have a domain assigned to it')\n",
    "    \n",
    "    def add_constraint(self, constraint: Constraint[V,D]) -> None:\n",
    "        for variable in constraint.variables:\n",
    "            if variable not in self.variables:\n",
    "                raise LookupError('Variable in constraint not in CSP')\n",
    "            else:\n",
    "                self.constraints[variable].append(constraint)\n",
    "\n",
    "    # Check if the value assignment is consistent by checking all constraints\n",
    "    # for the given variable against it\n",
    "    def consistent(self, variable: V, assignment: Dict[V,D]) -> bool:\n",
    "        for constraint in self.constraints[variable]:\n",
    "            if not constraint.satisfied(assignment):\n",
    "                return False\n",
    "            return True"
   ]
  },
  {
   "cell_type": "markdown",
   "metadata": {},
   "source": [
    "We will use something called \"backtracking\" for our search. Backtracking is like depth-first search in that it goes back to the last known point where you made a decision before you hit a wall, and it choose a different path."
   ]
  },
  {
   "cell_type": "code",
   "execution_count": 3,
   "metadata": {},
   "outputs": [],
   "source": [
    "# A constraint satisfaction problem consists of variables of type V\n",
    "# that have ranges of values known as domains of type D and constraints\n",
    "# that determine whether a particular variable's domain selection is valid\n",
    "class CSP(Generic[V,D]):\n",
    "    def __init__(self, variables: List[V], domains: Dict[V, List[D]]) -> None:\n",
    "        self.variables: List[V] = variables # variables to be constrained\n",
    "        self.constraints: Dict[V, List[Constraint[V,D]]] = {}\n",
    "        for variable in self.variables:\n",
    "            self.constraints[variable] = []\n",
    "            if variable not in self.domains:\n",
    "                raise LookupError('Every variable should have a domain assigned to it')\n",
    "    \n",
    "    def add_constraint(self, constraint: Constraint[V,D]) -> None:\n",
    "        for variable in constraint.variables:\n",
    "            if variable not in self.variables:\n",
    "                raise LookupError('Variable in constraint not in CSP')\n",
    "            else:\n",
    "                self.constraints[variable].append(constraint)\n",
    "\n",
    "    # Check if the value assignment is consistent by checking all constraints\n",
    "    # for the given variable against it\n",
    "    def consistent(self, variable: V, assignment: Dict[V,D]) -> bool:\n",
    "        for constraint in self.constraints[variable]:\n",
    "            if not constraint.satisfied(assignment):\n",
    "                return False\n",
    "            return True\n",
    "    ####### backtracking method ##########  \n",
    "    def backtracking_search(self, assignment: Dict[V, D] = {}) -> Optional[Dict[V, D]]:\n",
    "        # assignment is complete if every variable is assigned (our base case)\n",
    "        if len(assignment) == len(self.variables):\n",
    "            return assignment\n",
    "        \n",
    "        # get all variables in the CSP but not in the assignment\n",
    "        unassigned: List[V] = [v for v in self.variables if v not in assignment]\n",
    "            \n",
    "        # get the every possible domain value of the first unassigned variable\n",
    "        first: V = unassigned[0]\n",
    "        for value in self.domains[first]:\n",
    "            local_assignment = assignment.copy() # copy the assignment dictionary\n",
    "            local_assignment[first] = value\n",
    "            # if we're still consistent, we recurse (continue)\n",
    "            if self.consistent(first, local_assignment):\n",
    "                result: Optional[Dict[V, D]] = self.backtracking_search(local_assignment)\n",
    "            # if we can't find a result\n",
    "            if result is not None:\n",
    "                return result\n",
    "        return None"
   ]
  },
  {
   "cell_type": "markdown",
   "metadata": {},
   "source": [
    "These codes are saved in a file called csp.py"
   ]
  },
  {
   "cell_type": "code",
   "execution_count": 4,
   "metadata": {},
   "outputs": [],
   "source": [
    "# testing to make sure the .py file works\n",
    "import csp"
   ]
  }
 ],
 "metadata": {
  "kernelspec": {
   "display_name": "Python 3",
   "language": "python",
   "name": "python3"
  },
  "language_info": {
   "codemirror_mode": {
    "name": "ipython",
    "version": 3
   },
   "file_extension": ".py",
   "mimetype": "text/x-python",
   "name": "python",
   "nbconvert_exporter": "python",
   "pygments_lexer": "ipython3",
   "version": "3.7.6"
  }
 },
 "nbformat": 4,
 "nbformat_minor": 2
}
