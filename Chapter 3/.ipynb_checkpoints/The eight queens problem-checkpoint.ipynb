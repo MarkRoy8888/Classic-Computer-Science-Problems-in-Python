{
 "cells": [
  {
   "cell_type": "markdown",
   "metadata": {},
   "source": [
    "Problem: we want to place 8 queens onto a chess board without anyone queen posing a threat to any other queen.\n",
    "\n",
    "To represent squares on a chess board, we will use two lists:"
   ]
  },
  {
   "cell_type": "code",
   "execution_count": 1,
   "metadata": {},
   "outputs": [
    {
     "name": "stdout",
     "output_type": "stream",
     "text": [
      "[1, 2, 3, 4, 5, 6, 7, 8]\n"
     ]
    }
   ],
   "source": [
    "from csp import Constraint, CSP\n",
    "from typing import Dict, List, Optional\n",
    "\n",
    "columns: List[int] = [i for i in range(1,9)]\n",
    "print(columns)"
   ]
  },
  {
   "cell_type": "code",
   "execution_count": 2,
   "metadata": {},
   "outputs": [
    {
     "name": "stdout",
     "output_type": "stream",
     "text": [
      "These are the row-column combinations: \n",
      " {1: [1, 2, 3, 4, 5, 6, 7, 8], 2: [1, 2, 3, 4, 5, 6, 7, 8], 3: [1, 2, 3, 4, 5, 6, 7, 8], 4: [1, 2, 3, 4, 5, 6, 7, 8], 5: [1, 2, 3, 4, 5, 6, 7, 8], 6: [1, 2, 3, 4, 5, 6, 7, 8], 7: [1, 2, 3, 4, 5, 6, 7, 8], 8: [1, 2, 3, 4, 5, 6, 7, 8]}\n"
     ]
    }
   ],
   "source": [
    "rows: Dict[int, List[int]] = {}\n",
    "\n",
    "for column in columns:\n",
    "    rows[column] = [i for i in range(1,9)]\n",
    "print(\"These are the row-column combinations: \\n\", rows)"
   ]
  },
  {
   "cell_type": "code",
   "execution_count": 3,
   "metadata": {},
   "outputs": [],
   "source": [
    "# we add constraints later\n",
    "csp: CSP[int, int] = CSP(columns, rows)"
   ]
  },
  {
   "cell_type": "markdown",
   "metadata": {},
   "source": [
    "Checking for the same row and column is trivial. If two queens are diagonal from each other, the difference between their rows will be the same as the difference between their columns."
   ]
  },
  {
   "cell_type": "code",
   "execution_count": 4,
   "metadata": {},
   "outputs": [],
   "source": [
    "class QueenConstraint(Constraint[int, int]):\n",
    "    def __init__(self, columns: List[int]) -> None:\n",
    "        super().__init__(columns)\n",
    "        self.columns: List[int] = columns\n",
    "    \n",
    "    def satisfied(self, assignment: Dict[int, int]) -> bool:\n",
    "        # q1c = queen 1 column, q1r = queen 1 row\n",
    "        for q1c, q1r in assignment.items():\n",
    "        # q2c = queen 2 column\n",
    "            for q2c in range(q1c + 1, len(self.columns) + 1): # we have 8 queens in 8 columns\n",
    "                if q2c in assignment:\n",
    "                    q2r: int = assignment[q2c] # q2r =  queen 2 row\n",
    "                    if q1r == q2r: # same row\n",
    "                        return False\n",
    "                    if abs(q1r - q2r) == abs(q1c - q2c): # same diagonal\n",
    "                        return False\n",
    "        return True # No conflict"
   ]
  },
  {
   "cell_type": "markdown",
   "metadata": {},
   "source": [
    "Run the search:"
   ]
  },
  {
   "cell_type": "code",
   "execution_count": 5,
   "metadata": {},
   "outputs": [
    {
     "name": "stdout",
     "output_type": "stream",
     "text": [
      "{1: 1, 2: 5, 3: 8, 4: 6, 5: 3, 6: 7, 7: 2, 8: 4}\n"
     ]
    }
   ],
   "source": [
    "csp.add_constraint(QueenConstraint(columns))\n",
    "\n",
    "solution: Optional[Dict[int, int]] = csp.backtracking_search()\n",
    "\n",
    "if solution is None:\n",
    "    print('No solution found!')\n",
    "else:\n",
    "    print(solution)"
   ]
  }
 ],
 "metadata": {
  "kernelspec": {
   "display_name": "Python 3",
   "language": "python",
   "name": "python3"
  },
  "language_info": {
   "codemirror_mode": {
    "name": "ipython",
    "version": 3
   },
   "file_extension": ".py",
   "mimetype": "text/x-python",
   "name": "python",
   "nbconvert_exporter": "python",
   "pygments_lexer": "ipython3",
   "version": "3.7.6"
  }
 },
 "nbformat": 4,
 "nbformat_minor": 2
}
