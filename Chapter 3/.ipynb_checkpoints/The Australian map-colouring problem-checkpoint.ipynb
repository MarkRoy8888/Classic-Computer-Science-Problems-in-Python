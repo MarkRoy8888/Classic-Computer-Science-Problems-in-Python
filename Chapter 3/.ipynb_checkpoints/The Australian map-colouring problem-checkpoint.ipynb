{
 "cells": [
  {
   "cell_type": "markdown",
   "metadata": {},
   "source": [
    "- Goal: trying to colour a map of Australia with just 3 colours and no 2 adjacent state/territory having the same colour.\n",
    "- variables: 7 states/territories.\n",
    "- domain: the 3 colours available - red, green and blue.\n",
    "- constraint: no to adjacent state/territory can be coloured the same colour. This is a binary constraint problem.\n",
    "\n",
    "We will use a subclass of __Constraint__ in __csp.py__ called MapColoringConstraint."
   ]
  },
  {
   "cell_type": "code",
   "execution_count": 1,
   "metadata": {},
   "outputs": [],
   "source": [
    "from csp import Constraint, CSP\n",
    "from typing import Dict, List, Optional\n",
    "\n",
    "# pass in the parent abstract class Constraint\n",
    "class MapColoringConstraint(Constraint[str, str]):\n",
    "    def __init__(self, place1: str, place2: str) -> None:\n",
    "        super().__init__([place1, place2])\n",
    "        self.place1: str = place1\n",
    "        self.place2: str = place2\n",
    "    \n",
    "    def satisfied(self, assignment: Dict[str, str]) -> bool:\n",
    "        # If either place is not in the assignment, then it is not\n",
    "        # yet possible for their colors to be conflicting\n",
    "        if self.place1 not in assignment or self.place2 not in assignment:\n",
    "            return True\n",
    "        # check the color assigned to place1 is not the same as the\n",
    "        # color assigned to place2\n",
    "        return assignment[self.place1] != assignment[self.place2]"
   ]
  },
  {
   "cell_type": "markdown",
   "metadata": {},
   "source": [
    "Applying the CSP solver:"
   ]
  },
  {
   "cell_type": "code",
   "execution_count": 2,
   "metadata": {},
   "outputs": [],
   "source": [
    "variables: List[str] = ['Western Australia', 'Northern Territory', 'South \\\n",
    "Australia', 'Queensland', 'New South Wales', 'Victoria', 'Tasmania']\n",
    "\n",
    "domains: Dict[str, List[str]] = {}\n",
    "    \n",
    "for variable in variables:\n",
    "        domains[variable] = ['red', 'green', 'blue']\n",
    "        \n"
   ]
  },
  {
   "cell_type": "code",
   "execution_count": 3,
   "metadata": {},
   "outputs": [
    {
     "name": "stdout",
     "output_type": "stream",
     "text": [
      "These are the variables:\n",
      "Western Australia\n",
      "Northern Territory\n",
      "South Australia\n",
      "Queensland\n",
      "New South Wales\n",
      "Victoria\n",
      "Tasmania\n",
      "\n",
      "These are the domains:\n",
      "{'Western Australia': ['red', 'green', 'blue'], 'Northern Territory': ['red', 'green', 'blue'], 'South Australia': ['red', 'green', 'blue'], 'Queensland': ['red', 'green', 'blue'], 'New South Wales': ['red', 'green', 'blue'], 'Victoria': ['red', 'green', 'blue'], 'Tasmania': ['red', 'green', 'blue']}\n"
     ]
    }
   ],
   "source": [
    "csp: CSP[str, str] = CSP(variables, domains)\n",
    "print('These are the variables:')\n",
    "for i in csp.variables:\n",
    "    print(i)\n",
    "print('\\nThese are the domains:')  \n",
    "print(domains)"
   ]
  },
  {
   "cell_type": "code",
   "execution_count": 4,
   "metadata": {},
   "outputs": [
    {
     "name": "stdout",
     "output_type": "stream",
     "text": [
      "{'Western Australia': 'red', 'Northern Territory': 'green', 'South Australia': 'green', 'Queensland': 'red', 'New South Wales': 'green', 'Victoria': 'red', 'Tasmania': 'green'}\n"
     ]
    }
   ],
   "source": [
    "# adding constraints - listing pairs of states/territories that are next to each other\n",
    "csp.add_constraint(MapColoringConstraint('Western Australia', 'Northern \\\n",
    "Territory'))\n",
    "csp.add_constraint(MapColoringConstraint('Western Australia', 'South \\\n",
    "Australia'))\n",
    "csp.add_constraint(MapColoringConstraint('South Australia', 'Northern \\\n",
    "Territory'))\n",
    "csp.add_constraint(MapColoringConstraint('Queensland', 'Northern \\\n",
    "Territory'))\n",
    "csp.add_constraint(MapColoringConstraint('Queensland', 'South \\\n",
    "Australia'))\n",
    "csp.add_constraint(MapColoringConstraint('Queensland', 'New South \\\n",
    "Wales'))\n",
    "csp.add_constraint(MapColoringConstraint('New South Wales', 'South \\\n",
    "Australia'))\n",
    "csp.add_constraint(MapColoringConstraint('Victoria', 'South Australia'))\n",
    "csp.add_constraint(MapColoringConstraint('Victoria', 'New South Wales'))\n",
    "csp.add_constraint(MapColoringConstraint('Victoria', 'Tasmania'))\n",
    "\n",
    "\n",
    "# applying csp.backtracking_search\n",
    "solution: Optional[Dict[str, str]] = csp.backtracking_search()\n",
    "\n",
    "if solution is None:\n",
    "    print('No solution is found')\n",
    "else:\n",
    "    print(solution)"
   ]
  },
  {
   "cell_type": "markdown",
   "metadata": {},
   "source": [
    "The backtracking algorithm is a brute force algorithm that just try out solutions within constraints. Western Australia is assigned the colour red because they are both first in the list of variables and domain mapping respectively."
   ]
  }
 ],
 "metadata": {
  "kernelspec": {
   "display_name": "Python 3",
   "language": "python",
   "name": "python3"
  },
  "language_info": {
   "codemirror_mode": {
    "name": "ipython",
    "version": 3
   },
   "file_extension": ".py",
   "mimetype": "text/x-python",
   "name": "python",
   "nbconvert_exporter": "python",
   "pygments_lexer": "ipython3",
   "version": "3.7.6"
  }
 },
 "nbformat": 4,
 "nbformat_minor": 2
}
