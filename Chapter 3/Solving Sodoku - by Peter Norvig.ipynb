{
 "cells": [
  {
   "cell_type": "markdown",
   "metadata": {},
   "source": [
    "Original Essay/Tutorial: https://norvig.com/sudoku.html\n",
    "\n",
    "Every square in a sodoku puzzle has 3 units: the smaller square, row, and column. With these 3 units, this square has 20 peers. e.g. the square C2:\n",
    "\n",
    "        A2   |         |                    |         |            A1 A2 A3|         |         \n",
    "        B2   |         |                    |         |            B1 B2 B3|         |         \n",
    "        C2   |         |            C1 C2 C3| C4 C5 C6| C7 C8 C9   C1 C2 C3|         |         \n",
    "    ---------+---------+---------  ---------+---------+---------  ---------+---------+---------\n",
    "        D2   |         |                    |         |                    |         |         \n",
    "        E2   |         |                    |         |                    |         |         \n",
    "        F2   |         |                    |         |                    |         |         \n",
    "    ---------+---------+---------  ---------+---------+---------  ---------+---------+---------\n",
    "        G2   |         |                    |         |                    |         |         \n",
    "        H2   |         |                    |         |                    |         |         \n",
    "        I2   |         |                    |         |                    |         |         \n",
    "    \n",
    " "
   ]
  },
  {
   "cell_type": "code",
   "execution_count": 1,
   "metadata": {},
   "outputs": [
    {
     "name": "stdout",
     "output_type": "stream",
     "text": [
      "['A1', 'A2', 'A3', 'A4', 'A5', 'A6', 'A7', 'A8', 'A9', 'B1', 'B2', 'B3', 'B4', 'B5', 'B6', 'B7', 'B8', 'B9', 'C1', 'C2', 'C3', 'C4', 'C5', 'C6', 'C7', 'C8', 'C9', 'D1', 'D2', 'D3', 'D4', 'D5', 'D6', 'D7', 'D8', 'D9', 'E1', 'E2', 'E3', 'E4', 'E5', 'E6', 'E7', 'E8', 'E9', 'F1', 'F2', 'F3', 'F4', 'F5', 'F6', 'F7', 'F8', 'F9', 'G1', 'G2', 'G3', 'G4', 'G5', 'G6', 'G7', 'G8', 'G9', 'H1', 'H2', 'H3', 'H4', 'H5', 'H6', 'H7', 'H8', 'H9', 'I1', 'I2', 'I3', 'I4', 'I5', 'I6', 'I7', 'I8', 'I9']\n"
     ]
    }
   ],
   "source": [
    "def cross(A, B):\n",
    "    \"Cross product of elements in A and elements in B\"\n",
    "    return [a + b for a in A for b in B]\n",
    "\n",
    "digits = '123456789'\n",
    "rows = 'ABCDEFGHI'\n",
    "cols = digits\n",
    "squares = cross(rows,cols)\n",
    "print(squares)"
   ]
  },
  {
   "cell_type": "code",
   "execution_count": 2,
   "metadata": {},
   "outputs": [
    {
     "name": "stdout",
     "output_type": "stream",
     "text": [
      "[['A1', 'B1', 'C1', 'D1', 'E1', 'F1', 'G1', 'H1', 'I1'], ['A1', 'A2', 'A3', 'A4', 'A5', 'A6', 'A7', 'A8', 'A9'], ['A1', 'A2', 'A3', 'B1', 'B2', 'B3', 'C1', 'C2', 'C3']]\n"
     ]
    }
   ],
   "source": [
    "unitlist = ([cross(rows, c) for c in cols]+\n",
    "           [cross(r,cols) for r in rows]+\n",
    "           [cross(rs, cs) for rs in ('ABC', 'DEF', 'GHI') for cs in ('123', '456', '789')])\n",
    "\n",
    "#  \"units is a dictionary where each square maps to the list of units that contain the square\"\n",
    "units = dict((s, [u for u in unitlist if s in u])\n",
    "            for s in squares)\n",
    "print(units['A1'])"
   ]
  },
  {
   "cell_type": "markdown",
   "metadata": {},
   "source": [
    "\"peers is a dictionary where each square s maps to the set of squares formed by the union of the squares in the units of s, but not s itself\""
   ]
  },
  {
   "cell_type": "code",
   "execution_count": 3,
   "metadata": {},
   "outputs": [],
   "source": [
    "peers = dict((s, set(sum(units[s], [])) - set([s])) for s in squares)"
   ]
  },
  {
   "cell_type": "markdown",
   "metadata": {},
   "source": [
    "### Tests"
   ]
  },
  {
   "cell_type": "code",
   "execution_count": 4,
   "metadata": {},
   "outputs": [
    {
     "name": "stdout",
     "output_type": "stream",
     "text": [
      "All tests pass.\n"
     ]
    }
   ],
   "source": [
    "def test():\n",
    "    \"A set of unit tests.\"\n",
    "    assert len(squares) == 81\n",
    "    assert len(unitlist) == 27\n",
    "    assert all(len(units[s]) == 3 for s in squares)\n",
    "    assert all(len(peers[s]) == 20 for s in squares)\n",
    "    assert units['C2'] == [['A2', 'B2', 'C2', 'D2', 'E2', 'F2', 'G2', 'H2', 'I2'],\n",
    "                           ['C1', 'C2', 'C3', 'C4', 'C5', 'C6', 'C7', 'C8', 'C9'],\n",
    "                           ['A1', 'A2', 'A3', 'B1', 'B2', 'B3', 'C1', 'C2', 'C3']]\n",
    "    assert peers['C2'] == set(['A2', 'B2', 'D2', 'E2', 'F2', 'G2', 'H2', 'I2',\n",
    "                               'C1', 'C3', 'C4', 'C5', 'C6', 'C7', 'C8', 'C9',\n",
    "                               'A1', 'A3', 'B1', 'B3'])\n",
    "    print('All tests pass.')\n",
    "\n",
    "test()"
   ]
  },
  {
   "cell_type": "markdown",
   "metadata": {},
   "source": [
    "\"Now that we have squares, units, and peers, the next step is to define the Sudoku playing grid. Actually we need two representations: First, a textual format used to specify the initial state of a puzzle; we will reserve the name grid for this. Second, an internal representation of any state of a puzzle, partially solved or complete; this we will call a values collection because it will give all the remaining possible values for each square. For the textual format (grid) we'll allow a string of characters with 1-9 indicating a digit, and a 0 or period specifying an empty square. All other characters are ignored (including spaces, newlines, dashes, and bars). So each of the following three grid strings represent the same puzzle: \"\n",
    "\n"
   ]
  },
  {
   "cell_type": "code",
   "execution_count": 5,
   "metadata": {},
   "outputs": [
    {
     "data": {
      "text/plain": [
       "'\\n4 . . |. . . |8 . 5 \\n. 3 . |. . . |. . . \\n. . . |7 . . |. . . \\n------+------+------\\n. 2 . |. . . |. 6 . \\n. . . |. 8 . |4 . . \\n. . . |. 1 . |. . . \\n------+------+------\\n. . . |6 . 3 |. 7 . \\n5 . . |2 . . |. . . \\n1 . 4 |. . . |. . . \\n'"
      ]
     },
     "execution_count": 5,
     "metadata": {},
     "output_type": "execute_result"
    }
   ],
   "source": [
    "\"4.....8.5.3..........7......2.....6.....8.4......1.......6.3.7.5..2.....1.4......\"\n",
    "\n",
    "\"\"\"\n",
    "400000805\n",
    "030000000\n",
    "000700000\n",
    "020000060\n",
    "000080400\n",
    "000010000\n",
    "000603070\n",
    "500200000\n",
    "104000000\"\"\"\n",
    "\n",
    "\"\"\"\n",
    "4 . . |. . . |8 . 5 \n",
    ". 3 . |. . . |. . . \n",
    ". . . |7 . . |. . . \n",
    "------+------+------\n",
    ". 2 . |. . . |. 6 . \n",
    ". . . |. 8 . |4 . . \n",
    ". . . |. 1 . |. . . \n",
    "------+------+------\n",
    ". . . |6 . 3 |. 7 . \n",
    "5 . . |2 . . |. . . \n",
    "1 . 4 |. . . |. . . \n",
    "\"\"\""
   ]
  },
  {
   "cell_type": "markdown",
   "metadata": {},
   "source": [
    "\"The value of each key will be the possible digits for that square: a single digit if it was given as part of the puzzle definition or if we have figured out what it must be, and a collection of several digits if we are still uncertain.... A grid where A1 is 7 and C7 is empty would be represented as {'A1': '7', 'C7': '123456789', ...}\"\n",
    "\n",
    "\"The function __assign(values, s, d)__ will return the updated _values_ (including the updates from constraint propagation), but if there is a contradiction--if the assignment cannot be made consistently--then __assign__ returns __False__. For example, if a grid starts with the digits '77...' then when we try to assign the 7 to A2, __assign__ would notice that 7 is not a possibility for A2, because it was eliminated by the peer, A1.\n",
    "\n",
    "It turns out that the fundamental operation is not assigning a value, but rather eliminating one of the possible values for a square, which we implement with __eliminate(values, s, d)__. Once we have __eliminate__, then __assign(values, s, d)__ can be defined as \"eliminate all the values from s except __d__\". \""
   ]
  },
  {
   "cell_type": "code",
   "execution_count": 6,
   "metadata": {},
   "outputs": [],
   "source": [
    "def parse_grid(grid):\n",
    "    ''' Convert grid to a dict of possible values, (square: digits), or\n",
    "    return False if a contraction is detected\n",
    "    '''\n",
    "    # To start, every square can be any digit; then assign values from the grid.\n",
    "    values = dict((s, digits) for s in squares)\n",
    "    for s, d in grid_values(grid).items():\n",
    "        if d in digits and not assign(values, s, d):\n",
    "            return False ## Fail if we can't assign d to square s\n",
    "    return values\n",
    "\n",
    "def grid_values(grid):\n",
    "    \"Convert grid into a dict  of (square: char) with '0' or '.' for empties.\"\n",
    "    chars = [c for c in grid if c in digits or c in '0.']\n",
    "    assert len(chars) == 81\n",
    "    return dict(zip(squares, chars))\n",
    "\n",
    "def assign(values, s, d):\n",
    "    '''\n",
    "    Eliminate all the other values (except d) from values[s] and propagate.\n",
    "    Returns values, except return False if a contracdiction is detected.\n",
    "    '''\n",
    "    other_values = values[s].replace(d, '')\n",
    "    if all(eliminate(values, s, d2) for d2 in other_values):\n",
    "        return values\n",
    "    else:\n",
    "        return False\n",
    "    \n",
    "def eliminate(values, s, d):\n",
    "    '''\n",
    "    Eliminate d from from values[s]; propagate when values or places <= 2.\n",
    "    Return values, except return False if a contradiction is detected.\n",
    "    '''\n",
    "    \n",
    "    if d not in values[s]:\n",
    "        return values ## d is already eliminated\n",
    "    # otherwise eliminate d\n",
    "    values[s] = values[s].replace(d, '')\n",
    "    ## (1) If a square s is reduced to one value d2, then eliminate d2 from the peers.\n",
    "    if len(values[s]) == 0:\n",
    "        return False ## Contradiction: remove last value\n",
    "    elif len(values[s]) == 1:\n",
    "        d2 = values[s]\n",
    "        # return false if d2 is not available as a value for peers\n",
    "        if not all(eliminate(values, s2, d2) for s2 in peers[s]):\n",
    "            return False\n",
    "    ## (2) If a unit is reduced to only one place for a value d, then put it there.\n",
    "    for u in units[s]:\n",
    "        dplace = [s for s in u if d in values[s]]\n",
    "        if len(dplace) == 0:\n",
    "            return False ## Contraction: no place for this value\n",
    "        elif len(dplace) == 1:\n",
    "            # d can only be in one place in unit; assign it there\n",
    "            if not assign(values, dplace[0], d):\n",
    "                return False\n",
    "    return values"
   ]
  },
  {
   "cell_type": "code",
   "execution_count": 7,
   "metadata": {},
   "outputs": [
    {
     "name": "stdout",
     "output_type": "stream",
     "text": [
      "{'A1': '0', 'A2': '0', 'A3': '3', 'A4': '0', 'A5': '2', 'A6': '0', 'A7': '6', 'A8': '0', 'A9': '0', 'B1': '9', 'B2': '0', 'B3': '0', 'B4': '3', 'B5': '0', 'B6': '5', 'B7': '0', 'B8': '0', 'B9': '1', 'C1': '0', 'C2': '0', 'C3': '1', 'C4': '8', 'C5': '0', 'C6': '6', 'C7': '4', 'C8': '0', 'C9': '0', 'D1': '0', 'D2': '0', 'D3': '8', 'D4': '1', 'D5': '0', 'D6': '2', 'D7': '9', 'D8': '0', 'D9': '0', 'E1': '7', 'E2': '0', 'E3': '0', 'E4': '0', 'E5': '0', 'E6': '0', 'E7': '0', 'E8': '0', 'E9': '8', 'F1': '0', 'F2': '0', 'F3': '6', 'F4': '7', 'F5': '0', 'F6': '8', 'F7': '2', 'F8': '0', 'F9': '0', 'G1': '0', 'G2': '0', 'G3': '2', 'G4': '6', 'G5': '0', 'G6': '9', 'G7': '5', 'G8': '0', 'G9': '0', 'H1': '8', 'H2': '0', 'H3': '0', 'H4': '2', 'H5': '0', 'H6': '3', 'H7': '0', 'H8': '0', 'H9': '9', 'I1': '0', 'I2': '0', 'I3': '5', 'I4': '0', 'I5': '1', 'I6': '0', 'I7': '3', 'I8': '0', 'I9': '0'}\n"
     ]
    }
   ],
   "source": [
    "grid1 = '003020600900305001001806400008102900700000008006708200002609500800203009005010300'\n",
    "print(grid_values(grid1))"
   ]
  },
  {
   "cell_type": "code",
   "execution_count": null,
   "metadata": {},
   "outputs": [],
   "source": []
  },
  {
   "cell_type": "markdown",
   "metadata": {},
   "source": [
    "Displaying the puzzle:"
   ]
  },
  {
   "cell_type": "code",
   "execution_count": 8,
   "metadata": {},
   "outputs": [],
   "source": [
    "def display(values):\n",
    "    \"Display these values as a 2-D grid.\"\n",
    "    width = 1+max(len(values[s]) for s in squares)\n",
    "    line = '+'.join(['-'*(width*3)]*3)\n",
    "    for r in rows:\n",
    "        print(''.join(values[r+c].center(width)+('|' if c in '36' else '')\n",
    "                      for c in cols))\n",
    "        if r in 'CF': print(line)\n"
   ]
  },
  {
   "cell_type": "code",
   "execution_count": 9,
   "metadata": {},
   "outputs": [
    {
     "name": "stdout",
     "output_type": "stream",
     "text": [
      "4 8 3 |9 2 1 |6 5 7 \n",
      "9 6 7 |3 4 5 |8 2 1 \n",
      "2 5 1 |8 7 6 |4 9 3 \n",
      "------+------+------\n",
      "5 4 8 |1 3 2 |9 7 6 \n",
      "7 2 9 |5 6 4 |1 3 8 \n",
      "1 3 6 |7 9 8 |2 4 5 \n",
      "------+------+------\n",
      "3 7 2 |6 8 9 |5 1 4 \n",
      "8 1 4 |2 5 3 |7 6 9 \n",
      "6 9 5 |4 1 7 |3 8 2 \n"
     ]
    }
   ],
   "source": [
    "grid1 = '003020600900305001001806400008102900700000008006708200002609500800203009005010300'\n",
    "\n",
    "display(parse_grid(grid1))"
   ]
  },
  {
   "cell_type": "markdown",
   "metadata": {},
   "source": [
    "Sometimes rote application of the above Constraint application is not enough with a really hard problem:"
   ]
  },
  {
   "cell_type": "code",
   "execution_count": 10,
   "metadata": {},
   "outputs": [
    {
     "name": "stdout",
     "output_type": "stream",
     "text": [
      "   4      1679   12679  |  139     2369    269   |   8      1239     5    \n",
      " 26789     3    1256789 | 14589   24569   245689 | 12679    1249   124679 \n",
      "  2689   15689   125689 |   7     234569  245689 | 12369   12349   123469 \n",
      "------------------------+------------------------+------------------------\n",
      "  3789     2     15789  |  3459   34579    4579  | 13579     6     13789  \n",
      "  3679   15679   15679  |  359      8     25679  |   4     12359   12379  \n",
      " 36789     4     56789  |  359      1     25679  | 23579   23589   23789  \n",
      "------------------------+------------------------+------------------------\n",
      "  289      89     289   |   6      459      3    |  1259     7     12489  \n",
      "   5      6789     3    |   2      479      1    |   69     489     4689  \n",
      "   1      6789     4    |  589     579     5789  | 23569   23589   23689  \n"
     ]
    }
   ],
   "source": [
    "grid2 = '4.....8.5.3..........7......2.....6.....8.4......1.......6.3.7.5..2.....1.4......'\n",
    "display(parse_grid(grid2))"
   ]
  },
  {
   "cell_type": "markdown",
   "metadata": {},
   "source": [
    "## Search \n",
    "\"What is the search algorithm? Simple: first make sure we haven't already found a solution or a contradiction, and if not, choose one unfilled square and consider all its possible values. One at a time, try assigning the square each value, and searching from the resulting position. In other words, we search for a value d such that we can successfully search for a solution from the result of assigning square s to d. If the search leads to an failed position, go back and consider another value of d. This is a recursive search, and we call it a depth-first search because we (recursively) consider all possibilities under __values[s] = d__ before we consider a different value for s. \"\n",
    "\n",
    "Using depth first search and a heuristic called minimum remaining value:"
   ]
  },
  {
   "cell_type": "code",
   "execution_count": 11,
   "metadata": {},
   "outputs": [],
   "source": [
    "def solve(grid): return search(parse_grid(grid))\n",
    "\n",
    "def search(values):\n",
    "    \"Using depth-first search and propagation, try all possible values.\"\n",
    "    if values is False:\n",
    "        return False ## Failed earlier\n",
    "    if all(len(values[s]) == 1 for s in squares): \n",
    "        return values ## Solved!\n",
    "    ## Chose the unfilled square s with the fewest possibilities\n",
    "    n,s = min((len(values[s]), s) for s in squares if len(values[s]) > 1)\n",
    "    return some(search(assign(values.copy(), s, d)) for d in values[s])\n",
    "\n",
    "def some(seq):\n",
    "    \"Return some element of seq that is true.\"\n",
    "    for e in seq:\n",
    "        if e: return e\n",
    "    return False"
   ]
  },
  {
   "cell_type": "code",
   "execution_count": 12,
   "metadata": {},
   "outputs": [
    {
     "data": {
      "text/plain": [
       "{'A1': '4',\n",
       " 'A2': '3',\n",
       " 'A3': '8',\n",
       " 'A4': '7',\n",
       " 'A5': '9',\n",
       " 'A6': '6',\n",
       " 'A7': '2',\n",
       " 'A8': '1',\n",
       " 'A9': '5',\n",
       " 'B1': '6',\n",
       " 'B2': '5',\n",
       " 'B3': '9',\n",
       " 'B4': '1',\n",
       " 'B5': '3',\n",
       " 'B6': '2',\n",
       " 'B7': '4',\n",
       " 'B8': '7',\n",
       " 'B9': '8',\n",
       " 'C1': '2',\n",
       " 'C2': '7',\n",
       " 'C3': '1',\n",
       " 'C4': '4',\n",
       " 'C5': '5',\n",
       " 'C6': '8',\n",
       " 'C7': '6',\n",
       " 'C8': '9',\n",
       " 'C9': '3',\n",
       " 'D1': '8',\n",
       " 'D2': '4',\n",
       " 'D3': '5',\n",
       " 'D4': '2',\n",
       " 'D5': '1',\n",
       " 'D6': '9',\n",
       " 'D7': '3',\n",
       " 'D8': '6',\n",
       " 'D9': '7',\n",
       " 'E1': '7',\n",
       " 'E2': '1',\n",
       " 'E3': '3',\n",
       " 'E4': '5',\n",
       " 'E5': '6',\n",
       " 'E6': '4',\n",
       " 'E7': '8',\n",
       " 'E8': '2',\n",
       " 'E9': '9',\n",
       " 'F1': '9',\n",
       " 'F2': '2',\n",
       " 'F3': '6',\n",
       " 'F4': '8',\n",
       " 'F5': '7',\n",
       " 'F6': '3',\n",
       " 'F7': '1',\n",
       " 'F8': '5',\n",
       " 'F9': '4',\n",
       " 'G1': '1',\n",
       " 'G2': '9',\n",
       " 'G3': '4',\n",
       " 'G4': '3',\n",
       " 'G5': '2',\n",
       " 'G6': '5',\n",
       " 'G7': '7',\n",
       " 'G8': '8',\n",
       " 'G9': '6',\n",
       " 'H1': '3',\n",
       " 'H2': '6',\n",
       " 'H3': '2',\n",
       " 'H4': '9',\n",
       " 'H5': '8',\n",
       " 'H6': '7',\n",
       " 'H7': '5',\n",
       " 'H8': '4',\n",
       " 'H9': '1',\n",
       " 'I1': '5',\n",
       " 'I2': '8',\n",
       " 'I3': '7',\n",
       " 'I4': '6',\n",
       " 'I5': '4',\n",
       " 'I6': '1',\n",
       " 'I7': '9',\n",
       " 'I8': '3',\n",
       " 'I9': '2'}"
      ]
     },
     "execution_count": 12,
     "metadata": {},
     "output_type": "execute_result"
    }
   ],
   "source": [
    "hard1  = '.....6....59.....82....8....45........3........6..3.54...325..6..................'\n",
    "solve(hard1)"
   ]
  },
  {
   "cell_type": "code",
   "execution_count": null,
   "metadata": {},
   "outputs": [],
   "source": []
  }
 ],
 "metadata": {
  "kernelspec": {
   "display_name": "Python 3",
   "language": "python",
   "name": "python3"
  },
  "language_info": {
   "codemirror_mode": {
    "name": "ipython",
    "version": 3
   },
   "file_extension": ".py",
   "mimetype": "text/x-python",
   "name": "python",
   "nbconvert_exporter": "python",
   "pygments_lexer": "ipython3",
   "version": "3.7.6"
  }
 },
 "nbformat": 4,
 "nbformat_minor": 2
}
