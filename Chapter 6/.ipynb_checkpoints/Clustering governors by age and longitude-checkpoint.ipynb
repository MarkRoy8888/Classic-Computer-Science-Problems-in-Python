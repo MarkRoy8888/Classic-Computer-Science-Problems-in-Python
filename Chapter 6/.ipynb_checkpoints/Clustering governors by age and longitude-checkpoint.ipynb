{
 "cells": [
  {
   "cell_type": "markdown",
   "metadata": {},
   "source": [
    "- Clustering US state governors in 2017 by age and longitude.\n",
    "\n",
    "- We first need to create a class called \"Governor\" to represent each governor, with attributes like state, longitude and age. This can be done by creating a subclass of DataPoint.\n",
    "\n",
    "- A __Governor__ has two named and stored dimensions: __longitude__ and __age__. Other than that, Governor makes no modifications to the machinery of its superclass, DataPoint, other than an overridden ____ repr __ ()__ for pretty printing.\n",
    "- We use the super(). __ init __ method to pass on the extra two data points for clustering, __longitude__ and __age__ into list acceptable in the parent class __DataPoint__"
   ]
  },
  {
   "cell_type": "code",
   "execution_count": 1,
   "metadata": {},
   "outputs": [],
   "source": [
    "from __future__ import annotations\n",
    "from typing import List\n",
    "\n",
    "# import from our .py files done in previous section\n",
    "from data_point import DataPoint\n",
    "from kmeans import KMeans\n",
    "\n",
    "class Governor(DataPoint):\n",
    "    def __init__(self, longitude: float, age: float, state: str) -> None:\n",
    "        super().__init__([longitude, age])\n",
    "        self.longitude = longitude\n",
    "        self.age = age\n",
    "        self.state = state\n",
    "        \n",
    "    def __repr__(self) -> str:\n",
    "        return f'{self.state}: (longitude: {self.longitude}, age: {self.age})'"
   ]
  },
  {
   "cell_type": "markdown",
   "metadata": {},
   "source": [
    "Entering the data (copy and paste)"
   ]
  },
  {
   "cell_type": "code",
   "execution_count": 2,
   "metadata": {},
   "outputs": [],
   "source": [
    "governors: List[Governor] = [Governor(-86.79113, 72, \"Alabama\"), Governor(-152.404419, 66, \"Alaska\"),\n",
    "                 Governor(-111.431221, 53, \"Arizona\"), Governor(-92.373123, 66, \"Arkansas\"),\n",
    "                 Governor(-119.681564, 79, \"California\"), Governor(-105.311104, 65, \"Colorado\"),\n",
    "                 Governor(-72.755371, 61, \"Connecticut\"), Governor(-75.507141, 61, \"Delaware\"),\n",
    "                 Governor(-81.686783, 64, \"Florida\"), Governor(-83.643074, 74, \"Georgia\"),\n",
    "                 Governor(-157.498337, 60, \"Hawaii\"), Governor(-114.478828, 75, \"Idaho\"),\n",
    "                 Governor(-88.986137, 60, \"Illinois\"), Governor(-86.258278, 49, \"Indiana\"),\n",
    "                 Governor(-93.210526, 57, \"Iowa\"), Governor(-96.726486, 60, \"Kansas\"),\n",
    "                 Governor(-84.670067, 50, \"Kentucky\"), Governor(-91.867805, 50, \"Louisiana\"),\n",
    "                 Governor(-69.381927, 68, \"Maine\"), Governor(-76.802101, 61, \"Maryland\"),\n",
    "                 Governor(-71.530106, 60, \"Massachusetts\"), Governor(-84.536095, 58, \"Michigan\"),\n",
    "                 Governor(-93.900192, 70, \"Minnesota\"), Governor(-89.678696, 62, \"Mississippi\"),\n",
    "                 Governor(-92.288368, 43, \"Missouri\"), Governor(-110.454353, 51, \"Montana\"),\n",
    "                 Governor(-98.268082, 52, \"Nebraska\"), Governor(-117.055374, 53, \"Nevada\"),\n",
    "                 Governor(-71.563896, 42, \"New Hampshire\"), Governor(-74.521011, 54, \"New Jersey\"),\n",
    "                 Governor(-106.248482, 57, \"New Mexico\"), Governor(-74.948051, 59, \"New York\"),\n",
    "                 Governor(-79.806419, 60, \"North Carolina\"), Governor(-99.784012, 60, \"North Dakota\"),\n",
    "                 Governor(-82.764915, 65, \"Ohio\"), Governor(-96.928917, 62, \"Oklahoma\"),\n",
    "                 Governor(-122.070938, 56, \"Oregon\"), Governor(-77.209755, 68, \"Pennsylvania\"),\n",
    "                 Governor(-71.51178, 46, \"Rhode Island\"), Governor(-80.945007, 70, \"South Carolina\"),\n",
    "                 Governor(-99.438828, 64, \"South Dakota\"), Governor(-86.692345, 58, \"Tennessee\"),\n",
    "                 Governor(-97.563461, 59, \"Texas\"), Governor(-111.862434, 70, \"Utah\"),\n",
    "                 Governor(-72.710686, 58, \"Vermont\"), Governor(-78.169968, 60, \"Virginia\"),\n",
    "                 Governor(-121.490494, 66, \"Washington\"), Governor(-80.954453, 66, \"West Virginia\"),\n",
    "                 Governor(-89.616508, 49, \"Wisconsin\"), Governor(-107.30249, 55, \"Wyoming\")]"
   ]
  },
  {
   "cell_type": "markdown",
   "metadata": {},
   "source": [
    "Run the files, using k = 2"
   ]
  },
  {
   "cell_type": "code",
   "execution_count": 3,
   "metadata": {},
   "outputs": [
    {
     "name": "stdout",
     "output_type": "stream",
     "text": [
      "Converged after 2 iterations\n",
      "Cluster 0: [Alabama: (longitude: -86.79113, age: 72), Arkansas: (longitude: -92.373123, age: 66), California: (longitude: -119.681564, age: 79), Colorado: (longitude: -105.311104, age: 65), Connecticut: (longitude: -72.755371, age: 61), Delaware: (longitude: -75.507141, age: 61), Florida: (longitude: -81.686783, age: 64), Georgia: (longitude: -83.643074, age: 74), Idaho: (longitude: -114.478828, age: 75), Illinois: (longitude: -88.986137, age: 60), Kansas: (longitude: -96.726486, age: 60), Maine: (longitude: -69.381927, age: 68), Maryland: (longitude: -76.802101, age: 61), Massachusetts: (longitude: -71.530106, age: 60), Michigan: (longitude: -84.536095, age: 58), Minnesota: (longitude: -93.900192, age: 70), Mississippi: (longitude: -89.678696, age: 62), New York: (longitude: -74.948051, age: 59), North Carolina: (longitude: -79.806419, age: 60), North Dakota: (longitude: -99.784012, age: 60), Ohio: (longitude: -82.764915, age: 65), Oklahoma: (longitude: -96.928917, age: 62), Pennsylvania: (longitude: -77.209755, age: 68), South Carolina: (longitude: -80.945007, age: 70), South Dakota: (longitude: -99.438828, age: 64), Tennessee: (longitude: -86.692345, age: 58), Utah: (longitude: -111.862434, age: 70), Vermont: (longitude: -72.710686, age: 58), Virginia: (longitude: -78.169968, age: 60), Washington: (longitude: -121.490494, age: 66), West Virginia: (longitude: -80.954453, age: 66)]\n",
      "\n",
      "\n",
      "Cluster 1: [Alaska: (longitude: -152.404419, age: 66), Arizona: (longitude: -111.431221, age: 53), Hawaii: (longitude: -157.498337, age: 60), Indiana: (longitude: -86.258278, age: 49), Iowa: (longitude: -93.210526, age: 57), Kentucky: (longitude: -84.670067, age: 50), Louisiana: (longitude: -91.867805, age: 50), Missouri: (longitude: -92.288368, age: 43), Montana: (longitude: -110.454353, age: 51), Nebraska: (longitude: -98.268082, age: 52), Nevada: (longitude: -117.055374, age: 53), New Hampshire: (longitude: -71.563896, age: 42), New Jersey: (longitude: -74.521011, age: 54), New Mexico: (longitude: -106.248482, age: 57), Oregon: (longitude: -122.070938, age: 56), Rhode Island: (longitude: -71.51178, age: 46), Texas: (longitude: -97.563461, age: 59), Wisconsin: (longitude: -89.616508, age: 49), Wyoming: (longitude: -107.30249, age: 55)]\n",
      "\n",
      "\n"
     ]
    }
   ],
   "source": [
    "kmeans: KMeans[Governor] = KMeans(2, governors)\n",
    "\n",
    "gov_clusters: List[KMeans.Cluster] = kmeans.run()\n",
    "    \n",
    "for index, cluster in enumerate(gov_clusters):\n",
    "    print(f'Cluster {index}: {cluster.points}\\n\\n')"
   ]
  }
 ],
 "metadata": {
  "kernelspec": {
   "display_name": "Python 3",
   "language": "python",
   "name": "python3"
  },
  "language_info": {
   "codemirror_mode": {
    "name": "ipython",
    "version": 3
   },
   "file_extension": ".py",
   "mimetype": "text/x-python",
   "name": "python",
   "nbconvert_exporter": "python",
   "pygments_lexer": "ipython3",
   "version": "3.7.6"
  }
 },
 "nbformat": 4,
 "nbformat_minor": 2
}
