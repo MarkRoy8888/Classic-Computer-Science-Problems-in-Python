{
 "cells": [
  {
   "cell_type": "markdown",
   "metadata": {},
   "source": [
    "- Clustering algorithms are not guided by any foreknowledge, so it is described as unsupervised machine learning.\n",
    "- \"Clustering is a useful technique when you want to learn about the structure of a data set but you do not know ahead of time its constituent parts\".\n",
    "\n",
    "# Preliminaries\n",
    "\n",
    "- __pstdev()__ finds the standard deviation of a population, and __stdev()__, finds the stardard deviation of a sample.\n",
    "\n",
    "Our __zscores()__ function converts a sequence (list, tuples, string etc) of floats into z-scores, relative to all the numbers in the sequence.\n",
    "\n",
    "We will create a file called __kmeans.py__"
   ]
  },
  {
   "cell_type": "code",
   "execution_count": 1,
   "metadata": {},
   "outputs": [
    {
     "data": {
      "text/plain": [
       "' to go into kmeans.py\\nfrom __future__ import annotations\\nfrom typing import TypeVar, Generic, List, Sequence\\nfrom copy import deepcopy\\nfrom functools import partial\\nfrom random import uniform\\nfrom statistics import mean, pstdev\\nfrom dataclasses import dataclass\\n\\n# data_point.py to be defined\\nfrom data_point import DataPoint\\n\\ndef zscores(original: Sequence[float]) ->List[float]:\\n    avg: float = mean(original)\\n    std: float = pstdev(original)\\n    if std == 0: # return all zeros if ther is no variation\\n        return[0] * len(original)\\n    return [(x - avg) / std for x in original]\\n'"
      ]
     },
     "execution_count": 1,
     "metadata": {},
     "output_type": "execute_result"
    }
   ],
   "source": [
    "''' to go into kmeans.py\n",
    "from __future__ import annotations\n",
    "from typing import TypeVar, Generic, List, Sequence\n",
    "from copy import deepcopy\n",
    "from functools import partial\n",
    "from random import uniform\n",
    "from statistics import mean, pstdev\n",
    "from dataclasses import dataclass\n",
    "\n",
    "# data_point.py to be defined\n",
    "from data_point import DataPoint\n",
    "\n",
    "def zscores(original: Sequence[float]) ->List[float]:\n",
    "    avg: float = mean(original)\n",
    "    std: float = pstdev(original)\n",
    "    if std == 0: # return all zeros if ther is no variation\n",
    "        return[0] * len(original)\n",
    "    return [(x - avg) / std for x in original]\n",
    "'''"
   ]
  },
  {
   "cell_type": "markdown",
   "metadata": {},
   "source": [
    "We will create a class called __DataPoint__ and save it in a file called __data_point.py__.\n",
    "\n",
    "- The reason why we have two tuples, __._ originals__ and __.dimensions__ is because we later want to replace the dimensions with z-scores by k-means."
   ]
  },
  {
   "cell_type": "code",
   "execution_count": 2,
   "metadata": {},
   "outputs": [
    {
     "data": {
      "text/plain": [
       "' to go into data_point.py\\nfrom __future__ import annotations\\nfrom typing import Iterator, Tuple, List, Iterable\\nfrom math import sqrt\\n\\n\\nclass DataPoint:\\n    def __init__(self, initial: Iterable[float]) -> None:\\n        self._originals: Tuple[float, ...] = tuple(initial)\\n        self.dimensions: Tuple[float, ...] = tuple(initial)\\n\\n    @property\\n    def num_dimensions(self) -> int:\\n        return len(self.dimensions)\\n    \\n    # Euclidean distance\\n    def distance(self, other: DataPoint) -> float:\\n        combined: Iterator[Tuple[float, float]] = zip(self.dimensions, other.dimensions)\\n        differences: List[float] = [(x - y) ** 2 for x, y in combined]\\n        return sqrt(sum(differences))\\n\\n    def __eq__(self, other: object) -> bool:\\n        if not isinstance(other, DataPoint):\\n            return NotImplemented\\n        return self.dimensions == other.dimensions\\n\\n    def __repr__(self) -> str:\\n        return self._originals.__repr__()\\n'"
      ]
     },
     "execution_count": 2,
     "metadata": {},
     "output_type": "execute_result"
    }
   ],
   "source": [
    "''' to go into data_point.py\n",
    "from __future__ import annotations\n",
    "from typing import Iterator, Tuple, List, Iterable\n",
    "from math import sqrt\n",
    "\n",
    "\n",
    "class DataPoint:\n",
    "    def __init__(self, initial: Iterable[float]) -> None:\n",
    "        self._originals: Tuple[float, ...] = tuple(initial)\n",
    "        self.dimensions: Tuple[float, ...] = tuple(initial)\n",
    "\n",
    "    @property\n",
    "    def num_dimensions(self) -> int:\n",
    "        return len(self.dimensions)\n",
    "    \n",
    "    # Euclidean distance\n",
    "    def distance(self, other: DataPoint) -> float:\n",
    "        combined: Iterator[Tuple[float, float]] = zip(self.dimensions, other.dimensions)\n",
    "        differences: List[float] = [(x - y) ** 2 for x, y in combined]\n",
    "        return sqrt(sum(differences))\n",
    "\n",
    "    def __eq__(self, other: object) -> bool:\n",
    "        if not isinstance(other, DataPoint):\n",
    "            return NotImplemented\n",
    "        return self.dimensions == other.dimensions\n",
    "\n",
    "    def __repr__(self) -> str:\n",
    "        return self._originals.__repr__()\n",
    "'''"
   ]
  },
  {
   "cell_type": "code",
   "execution_count": null,
   "metadata": {},
   "outputs": [],
   "source": []
  }
 ],
 "metadata": {
  "kernelspec": {
   "display_name": "Python 3",
   "language": "python",
   "name": "python3"
  },
  "language_info": {
   "codemirror_mode": {
    "name": "ipython",
    "version": 3
   },
   "file_extension": ".py",
   "mimetype": "text/x-python",
   "name": "python",
   "nbconvert_exporter": "python",
   "pygments_lexer": "ipython3",
   "version": "3.7.6"
  }
 },
 "nbformat": 4,
 "nbformat_minor": 2
}
