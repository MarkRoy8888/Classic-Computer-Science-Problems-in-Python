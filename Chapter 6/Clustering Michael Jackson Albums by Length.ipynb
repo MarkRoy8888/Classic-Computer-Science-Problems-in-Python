{
 "cells": [
  {
   "cell_type": "markdown",
   "metadata": {},
   "source": [
    "- In this example we are going to attempt to cluster Michael Jackson's by album length (in minutes) and number of tracks."
   ]
  },
  {
   "cell_type": "code",
   "execution_count": 1,
   "metadata": {},
   "outputs": [],
   "source": [
    "from __future__ import annotations\n",
    "from typing import List\n",
    "\n",
    "# from the .py files in the same folder\n",
    "from data_point import DataPoint\n",
    "from kmeans import KMeans\n",
    "\n",
    "class Album(DataPoint):\n",
    "    def __init__(self, name: str, year: int, length: float, tracks: float) -> None:\n",
    "        super().__init__([length, tracks])\n",
    "        self.name = name\n",
    "        self.year = year\n",
    "        self.length = length\n",
    "        self.tracks = tracks\n",
    "    \n",
    "    def __repr__(self) -> str:\n",
    "        return f'{self.name}, year: {self.year}'"
   ]
  },
  {
   "cell_type": "markdown",
   "metadata": {},
   "source": [
    "Add albums:"
   ]
  },
  {
   "cell_type": "code",
   "execution_count": 2,
   "metadata": {},
   "outputs": [],
   "source": [
    "albums: List[Album] = [Album('Got to Be There', 1972, 35.45, 10),\n",
    "    Album('Ben', 1972, 31.31, 10), Album('Music & Me', 1973, 32.09, 10),\n",
    "    Album('Forever, Michael', 1975, 33.36, 10),\n",
    "    Album('Off the Wall', 1979, 42.28, 10),\n",
    "    Album('Thriller', 1982, 42.19, 9), \n",
    "    Album('Bad', 1987, 48.16, 10),\n",
    "    Album('Dangerous', 1991, 77.03, 14),\n",
    "    Album('HIStory: Past, Present and Future, Book I',1995, 148.58, 30), \n",
    "    Album('Invincible', 2001, 77.05, 16)]"
   ]
  },
  {
   "cell_type": "markdown",
   "metadata": {},
   "source": [
    "Clustering:\n",
    "\n",
    "Note the reported averages are z-scores:"
   ]
  },
  {
   "cell_type": "code",
   "execution_count": 3,
   "metadata": {},
   "outputs": [
    {
     "name": "stdout",
     "output_type": "stream",
     "text": [
      "Converged after 1 iterations\n",
      "Cluster 0 Avg Length (z-score) 2.650089954976951     Avg Tracks (z-score) 2.815410868288747: [HIStory: Past, Present and Future, Book I, year: 1995]\n",
      "\n",
      "\n",
      "Cluster 1 Avg Length (z-score) -0.29445443944188343     Avg Tracks (z-score) -0.31282342980986083: [Got to Be There, year: 1972, Ben, year: 1972, Music & Me, year: 1973, Forever, Michael, year: 1975, Off the Wall, year: 1979, Thriller, year: 1982, Bad, year: 1987, Dangerous, year: 1991, Invincible, year: 2001]\n",
      "\n",
      "\n"
     ]
    }
   ],
   "source": [
    "kmeans: KMeans[Album] = KMeans(2, albums)\n",
    "clusters: List[KMeans.Cluster] = kmeans.run()\n",
    "    \n",
    "for index, cluster in enumerate(clusters):\n",
    "    print(f'Cluster {index} Avg Length (z-score) {cluster.centroid.dimensions[0]} \\\n",
    "    Avg Tracks (z-score) {cluster.centroid.dimensions[1]}: {cluster.points}\\n\\n')"
   ]
  }
 ],
 "metadata": {
  "kernelspec": {
   "display_name": "Python 3",
   "language": "python",
   "name": "python3"
  },
  "language_info": {
   "codemirror_mode": {
    "name": "ipython",
    "version": 3
   },
   "file_extension": ".py",
   "mimetype": "text/x-python",
   "name": "python",
   "nbconvert_exporter": "python",
   "pygments_lexer": "ipython3",
   "version": "3.7.6"
  }
 },
 "nbformat": 4,
 "nbformat_minor": 2
}
