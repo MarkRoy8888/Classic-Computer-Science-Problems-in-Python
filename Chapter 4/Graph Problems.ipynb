{
 "cells": [
  {
   "cell_type": "markdown",
   "metadata": {},
   "source": [
    "- A graph is a mathematical construct where we have a set of object (called nodes) in which some pairs are related.\n",
    "\n",
    "- \"We call each of the nodes a _vertex_ and each of the connections an _edge_.\n",
    "\n",
    "- Graphs help us to think abstractly about a problem.\n",
    "\n",
    "# Building a graph framework\n",
    "\n",
    "We will build an edge class that is flexible.\n",
    "\n",
    "Note: The __Edge__ class uses a new feature in Python 3.7: dataclasses. A class marked with the decorator @dataclass saves us the trouble of creating an __init()__ method that instantiates instance variables for any variables declared with type annotations in the class's body."
   ]
  },
  {
   "cell_type": "code",
   "execution_count": 1,
   "metadata": {},
   "outputs": [],
   "source": [
    "from __future__ import annotations\n",
    "from dataclasses import dataclass\n",
    "\n",
    "@dataclass\n",
    "class Edge:\n",
    "    u: int # the 'from' vertex\n",
    "    v: int # the 'to' vertex\n",
    "    \n",
    "    # the reversed method is meant to return an Edge that travels the opposite direction\n",
    "    def reversed(self) -> Edge:\n",
    "        return Edge(self.v, self.u)\n",
    "    \n",
    "    def __str__(self) -> str:\n",
    "        return f'{self.u} -> {self.u}'"
   ]
  },
  {
   "cell_type": "markdown",
   "metadata": {},
   "source": [
    "## Graph class"
   ]
  },
  {
   "cell_type": "code",
   "execution_count": 2,
   "metadata": {},
   "outputs": [],
   "source": [
    "from typing import TypeVar, Generic, List, Optional\n",
    "\n",
    "V = TypeVar('V') # type of the vertices in the graph\n",
    "\n",
    "# We initialise a list of vertices with edges to be added later\n",
    "class Graph(Generic[V]):\n",
    "    def __init__(self, vertices: List[V] = []) -> None:\n",
    "        self._vertices: List[V] = vertices\n",
    "        self._edges: List[List[Edge]] = [[] for _ in vertices] #initialised to a list of blank lists\n",
    "        \n",
    "    @property\n",
    "    def vertex_count(self) -> int:\n",
    "        return len(self._vertices) # number of vertices\n",
    "\n",
    "    @property\n",
    "    def edge_count(self) -> int:\n",
    "        return sum(map(len, self._edges))\n",
    "\n",
    "    # add a vertex to the graph and return its index\n",
    "    def add_vertex(self, vertex: V)-> int:\n",
    "        self._vertices.append(vertex)\n",
    "        self._edges.append([]) # add empty list for containing edges\n",
    "        return self.vertex_count - 1 # return index of added vertex\n",
    "\n",
    "    # This is an undirected graph,\n",
    "    # so we always add edges in both directions\n",
    "    def add_edge(self, edge: Edge) -> None:\n",
    "        self._edges[edge.u].append(edge)\n",
    "        self._edges[edge.v].append(edge.reversed())\n",
    "    \n",
    "    # Add an edge using vertex indices (convenience method)\n",
    "    def add_edge_by_indices(self, u: int, v: int) -> None:\n",
    "        edge: Edge = Edge(u, v)\n",
    "        self.add_edge(edge)\n",
    "    \n",
    "    # Add an edge by looking up (existing) vertex indices (convenience method)\n",
    "    def add_edge_by_vertices(self, first: V, second: V) -> None:\n",
    "        u: int = self._vertices.index(first)\n",
    "        v: int = self._vertices.index(second)\n",
    "        self.add_edge_by_indices(u, v)\n",
    "    \n",
    "    # Find the vertex at a specific index\n",
    "    def vertex_at(self, index: int) -> V:\n",
    "        return self._vertices[index]\n",
    "    \n",
    "    # Find the index of a vertex in the graph\n",
    "    def index_of(self, vertex: V) -> int:\n",
    "        return self._vertices.index(vertex)\n",
    "\n",
    "    # Find the vertices that a vertex t some index is connected to:\n",
    "    def neighbors_for_index(self, index: int) -> List[V]:\n",
    "        return list(map(self.vertex_at, [e.v for e in self._edges[index]]))\n",
    "\n",
    "    # Look up a vertice's index and find its neighbours (convience method)\n",
    "    def neighbors_for_vertex(self, vertex: V) -> List[V]:\n",
    "        return self.neighbors_for_index(self.index_of(vertex))\n",
    "    \n",
    "    # Return all of the edges associated with a vertex at some index\n",
    "    def edges_for_index(self, index: int) -> List[Edge]:\n",
    "        return self._edges[index]\n",
    "\n",
    "    # Return all of the edges associated with a vertex at some index\n",
    "    def edges_for_vertex(self, vertex: V) -> List[Edge]:\n",
    "        return self.edges_for_index(self.index_of(vertex))\n",
    "\n",
    "    # make sure it is easy to pretty-print a Graph\n",
    "    def __str__(self) -> str:\n",
    "        desc: str = ''\n",
    "        for i in range(self.vertex_count):\n",
    "            desc += f'{self.vertex_at(i)} -> {self.neighbors_for_index(i)} \\n'\n",
    "        return desc"
   ]
  },
  {
   "cell_type": "markdown",
   "metadata": {},
   "source": [
    "# Working with Edge and Graph (4.2.1)"
   ]
  },
  {
   "cell_type": "code",
   "execution_count": 3,
   "metadata": {},
   "outputs": [
    {
     "name": "stdout",
     "output_type": "stream",
     "text": [
      "Seattle -> ['Chicago', 'San Francisco'] \n",
      "San Francisco -> ['Seattle', 'Riverside', 'Los Angeles'] \n",
      "Los Angeles -> ['San Francisco', 'Riverside', 'Phoenix'] \n",
      "Riverside -> ['San Francisco', 'Los Angeles', 'Phoenix', 'Chicago'] \n",
      "Phoenix -> ['Los Angeles', 'Riverside', 'Dallas', 'Houston'] \n",
      "Chicago -> ['Seattle', 'Riverside', 'Dallas', 'Atlanta', 'Detroit'] \n",
      "Boston -> ['Detroit', 'New York'] \n",
      "New York -> ['Detroit', 'Boston', 'Philadelphia'] \n",
      "Atlanta -> ['Dallas', 'Houston', 'Chicago', 'Washington', 'Miami'] \n",
      "Miami -> ['Houston', 'Atlanta', 'Washington'] \n",
      "Dallas -> ['Phoenix', 'Chicago', 'Atlanta', 'Houston'] \n",
      "Houston -> ['Phoenix', 'Dallas', 'Atlanta', 'Miami'] \n",
      "Detroit -> ['Chicago', 'Boston', 'Washington', 'New York'] \n",
      "Philadelphia -> ['New York', 'Washington'] \n",
      "Washington -> ['Atlanta', 'Miami', 'Detroit', 'Philadelphia'] \n",
      "\n"
     ]
    }
   ],
   "source": [
    "# test basic Graph construction\n",
    "city_graph: Graph[str] = Graph(['Seattle', 'San Francisco', 'Los Angeles', \n",
    "                                'Riverside', 'Phoenix', 'Chicago', 'Boston',\n",
    "                                'New York','Atlanta', 'Miami', 'Dallas', \n",
    "                                'Houston', 'Detroit', 'Philadelphia',\n",
    "                                'Washington'])\n",
    "city_graph.add_edge_by_vertices('Seattle', 'Chicago')\n",
    "city_graph.add_edge_by_vertices('Seattle', 'San Francisco')\n",
    "city_graph.add_edge_by_vertices('San Francisco', 'Riverside')\n",
    "city_graph.add_edge_by_vertices('San Francisco', 'Los Angeles')\n",
    "city_graph.add_edge_by_vertices('Los Angeles', 'Riverside')\n",
    "city_graph.add_edge_by_vertices('Los Angeles', 'Phoenix')\n",
    "city_graph.add_edge_by_vertices('Riverside', 'Phoenix')\n",
    "city_graph.add_edge_by_vertices('Riverside', 'Chicago')\n",
    "city_graph.add_edge_by_vertices('Phoenix', 'Dallas')\n",
    "city_graph.add_edge_by_vertices('Phoenix', 'Houston')\n",
    "city_graph.add_edge_by_vertices('Dallas', 'Chicago')\n",
    "city_graph.add_edge_by_vertices('Dallas', 'Atlanta')\n",
    "city_graph.add_edge_by_vertices('Dallas', 'Houston')\n",
    "city_graph.add_edge_by_vertices('Houston', 'Atlanta')\n",
    "city_graph.add_edge_by_vertices('Houston', 'Miami')\n",
    "city_graph.add_edge_by_vertices('Atlanta', 'Chicago')\n",
    "city_graph.add_edge_by_vertices('Atlanta', 'Washington')\n",
    "city_graph.add_edge_by_vertices('Atlanta', 'Miami')\n",
    "city_graph.add_edge_by_vertices('Miami', 'Washington')\n",
    "city_graph.add_edge_by_vertices('Chicago', 'Detroit')\n",
    "city_graph.add_edge_by_vertices('Detroit', 'Boston')\n",
    "city_graph.add_edge_by_vertices('Detroit', 'Washington')\n",
    "city_graph.add_edge_by_vertices('Detroit', 'New York')\n",
    "city_graph.add_edge_by_vertices('Boston', 'New York')\n",
    "city_graph.add_edge_by_vertices('New York', 'Philadelphia')\n",
    "city_graph.add_edge_by_vertices('Philadelphia', 'Washington')\n",
    "print(city_graph)"
   ]
  },
  {
   "cell_type": "markdown",
   "metadata": {},
   "source": [
    "# Revisiting Breadth-first search (BFS)\n",
    "\n",
    "“What is the shortest path between Boston and Miami?”\n",
    "\n",
    "We can reuse the generic code in Chapter 2.\n",
    "\n",
    "Note: https://stackoverflow.com/questions/4383571/importing-files-from-different-folder"
   ]
  },
  {
   "cell_type": "code",
   "execution_count": 4,
   "metadata": {},
   "outputs": [
    {
     "name": "stdout",
     "output_type": "stream",
     "text": [
      "Path from Boston to Miami \n",
      "\n",
      "['Boston', 'Detroit', 'Washington', 'Miami']\n"
     ]
    }
   ],
   "source": [
    "import sys\n",
    "sys.path.append('../Chapter 2/')\n",
    "from generic_search import bfs, Node, node_to_path\n",
    "\n",
    "# bfs takes 3 arguments: starting point, a callable that returns a boolean value, and a callable that returns\n",
    "# a list of lists\n",
    "bfs_result: Optional[Node[V]] = bfs('Boston', lambda x: x == 'Miami', city_graph.neighbors_for_vertex)\n",
    "\n",
    "if bfs_result is None:\n",
    "    print('No solution found using breadth first search!')\n",
    "else:\n",
    "    path: List[V] = node_to_path(bfs_result)\n",
    "    print('Path from Boston to Miami \\n')\n",
    "    print(path)"
   ]
  },
  {
   "cell_type": "markdown",
   "metadata": {},
   "source": [
    "# Minimising the cost of building the network\n",
    "\n",
    "In the previous breadth first search, we looked at the path with the fewest steps. However, in practice, edges have weights representing some kind of cost of travelling from one vertex to another. In the current example, we will add weights that represent the distances in miles between the cities (vertices).\n",
    "\n",
    "To handle weights, we need a subclass of __Edge__ - __WeightedEdge__ and a subclass of __Graph__ - __WeightedGraph__."
   ]
  },
  {
   "cell_type": "code",
   "execution_count": 5,
   "metadata": {},
   "outputs": [],
   "source": [
    "from __future__ import annotations\n",
    "from dataclasses import dataclass\n",
    "\n",
    "@dataclass\n",
    "class WeightedEdge(Edge):\n",
    "    weight: float\n",
    "    \n",
    "    def reversed(self) -> WeightedEdge:\n",
    "        return WeightedEdge(self.v, self.u, self.weight)\n",
    "    \n",
    "    # include comparison dunder method\n",
    "    def __lt__(self, other: WeightedEdge) -> bool:\n",
    "        return self.weight < other.weight\n",
    "    \n",
    "    def __str__(self) -> str:\n",
    "        return f'{self.u} {self.v} {self.v}'"
   ]
  },
  {
   "cell_type": "code",
   "execution_count": 6,
   "metadata": {},
   "outputs": [],
   "source": [
    "from typing import TypeVar, Generic, List, Tuple\n",
    "\n",
    "V = TypeVar('V') # type of the vertices in the graph\n",
    "\n",
    "# Generic[V] indicates the class can take any data types\n",
    "# The second argument Graph[V] indicates it is a subclass\n",
    "class WeightedGraph(Generic[V], Graph[V]):\n",
    "    def __init__(self, vertices: List[V] = []) -> None:\n",
    "        self._vertices: List[V] = vertices\n",
    "        self._edges: List[List[WeightedEdge]] = [[] for _ in vertices]\n",
    "    \n",
    "    def add_edge_by_indices(self, u: int, v: int, weight: float) -> None:\n",
    "        edge: WeightedEdge = WeightedEdge(u, v, weight)\n",
    "        self.add_edge(edge) # call superclass version\n",
    "            \n",
    "    def add_edge_by_vertices(self, first: V, second: V, weight: float) -> None:\n",
    "        u: int = self._vertices.index(first)\n",
    "        v: int = self._vertices.index(second)\n",
    "        self.add_edge_by_indices(u, v, weight)\n",
    "        \n",
    "    def neighbors_for_index_with_weights(self, index: int) -> List[Tuple[V, float]]:\n",
    "        distance_tuples: List[Tuple[V, float]] = []\n",
    "        for edge in self.edges_for_index(index):\n",
    "            distance_tuples.append((self.vertex_at(edge.v), edge.weight))\n",
    "        return distance_tuples\n",
    "    \n",
    "    def __str__(self) -> str:\n",
    "        desc: str = ''\n",
    "        for i in range(self.vertex_count):\n",
    "            desc += f'{self.vertex_at(i)} -> {self.neighbors_for_index_with_weights(i)} \\n'\n",
    "        return desc"
   ]
  },
  {
   "cell_type": "code",
   "execution_count": 7,
   "metadata": {},
   "outputs": [
    {
     "name": "stdout",
     "output_type": "stream",
     "text": [
      "Seattle -> [('Chicago', 1737), ('San Francisco', 678)] \n",
      "San Francisco -> [('Seattle', 678), ('Riverside', 386), ('Los Angeles', 348)] \n",
      "Los Angeles -> [('San Francisco', 348), ('Riverside', 50), ('Phoenix', 357)] \n",
      "Riverside -> [('San Francisco', 386), ('Los Angeles', 50), ('Phoenix', 307), ('Chicago', 1704)] \n",
      "Phoenix -> [('Los Angeles', 357), ('Riverside', 307), ('Dallas', 887), ('Houston', 1015)] \n",
      "Chicago -> [('Seattle', 1737), ('Riverside', 1704), ('Dallas', 805), ('Atlanta', 588), ('Detroit', 238)] \n",
      "Boston -> [('Detroit', 613), ('New York', 190)] \n",
      "New York -> [('Detroit', 482), ('Boston', 190), ('Philadelphia', 81)] \n",
      "Atlanta -> [('Dallas', 721), ('Houston', 702), ('Chicago', 588), ('Washington', 543), ('Miami', 604)] \n",
      "Miami -> [('Houston', 968), ('Atlanta', 604), ('Washington', 923)] \n",
      "Dallas -> [('Phoenix', 887), ('Chicago', 805), ('Atlanta', 721), ('Houston', 225)] \n",
      "Houston -> [('Phoenix', 1015), ('Dallas', 225), ('Atlanta', 702), ('Miami', 968)] \n",
      "Detroit -> [('Chicago', 238), ('Boston', 613), ('Washington', 396), ('New York', 482)] \n",
      "Philadelphia -> [('New York', 81), ('Washington', 123)] \n",
      "Washington -> [('Atlanta', 543), ('Miami', 923), ('Detroit', 396), ('Philadelphia', 123)] \n",
      "\n"
     ]
    }
   ],
   "source": [
    "city_graph2: WeightedGraph[str] = WeightedGraph(['Seattle', 'San Francisco',\n",
    "                                                 'Los Angeles', 'Riverside', \n",
    "                                                 'Phoenix', 'Chicago', 'Boston',\n",
    "                                                 'New York', 'Atlanta', 'Miami', \n",
    "                                                 'Dallas', 'Houston', 'Detroit',\n",
    "                                                 'Philadelphia', 'Washington'])\n",
    "    \n",
    "city_graph2.add_edge_by_vertices('Seattle', 'Chicago', 1737)\n",
    "city_graph2.add_edge_by_vertices('Seattle', 'San Francisco', 678)\n",
    "city_graph2.add_edge_by_vertices('San Francisco', 'Riverside', 386)\n",
    "city_graph2.add_edge_by_vertices('San Francisco', 'Los Angeles', 348)\n",
    "city_graph2.add_edge_by_vertices('Los Angeles', 'Riverside', 50)\n",
    "city_graph2.add_edge_by_vertices('Los Angeles', 'Phoenix', 357)\n",
    "city_graph2.add_edge_by_vertices('Riverside', 'Phoenix', 307)\n",
    "city_graph2.add_edge_by_vertices('Riverside', 'Chicago', 1704)\n",
    "city_graph2.add_edge_by_vertices('Phoenix', 'Dallas', 887)\n",
    "city_graph2.add_edge_by_vertices('Phoenix', 'Houston', 1015)\n",
    "city_graph2.add_edge_by_vertices('Dallas', 'Chicago', 805)\n",
    "city_graph2.add_edge_by_vertices('Dallas', 'Atlanta', 721)\n",
    "city_graph2.add_edge_by_vertices('Dallas', 'Houston', 225)\n",
    "city_graph2.add_edge_by_vertices('Houston', 'Atlanta', 702)\n",
    "city_graph2.add_edge_by_vertices('Houston', 'Miami', 968)\n",
    "city_graph2.add_edge_by_vertices('Atlanta', 'Chicago', 588)\n",
    "city_graph2.add_edge_by_vertices('Atlanta', 'Washington', 543)\n",
    "city_graph2.add_edge_by_vertices('Atlanta', 'Miami', 604)\n",
    "city_graph2.add_edge_by_vertices('Miami', 'Washington', 923)\n",
    "city_graph2.add_edge_by_vertices('Chicago', 'Detroit', 238)\n",
    "city_graph2.add_edge_by_vertices('Detroit', 'Boston', 613)\n",
    "city_graph2.add_edge_by_vertices('Detroit', 'Washington', 396)\n",
    "city_graph2.add_edge_by_vertices('Detroit', 'New York', 482)\n",
    "city_graph2.add_edge_by_vertices('Boston', 'New York', 190)\n",
    "city_graph2.add_edge_by_vertices('New York', 'Philadelphia', 81)\n",
    "city_graph2.add_edge_by_vertices('Philadelphia', 'Washington', 123)\n",
    "\n",
    "print(city_graph2)"
   ]
  },
  {
   "cell_type": "markdown",
   "metadata": {},
   "source": [
    "### Finding the minimum spanning tree\n",
    "\n",
    "\"A tree is a special kind of graph that has one, and only one, path between any two vertices. This implies that there are no cycles in a tree (which is sometimes called acyclic). A cycle can be thought of as a loop: if it is possible to traverse a graph from a starting vertex, never repeat any edges, and get back to the same starting vertex, then it has a cycle. Any graph that is not a tree can become a tree by pruning edges.\n",
    "\n",
    "A connected graph is a graph that has some way of getting from any vertex to any other vertex. (All of the graphs we are looking at in this chapter are connected.) A spanning tree is a tree that connects every vertex in a graph. A minimum spanning tree is a tree that connects every vertex in a weighted graph with the minimum total weight (compared to other spanning trees). For every weighted graph, it is possible to efficiently find its minimum spanning tree. \"\n",
    "\n",
    "We will create another priority queue using the heap queue (__heapq__) methods to keep our priority queue data structure. The data passed in the list must have the __ __lt__ __ method defined for it to work."
   ]
  },
  {
   "cell_type": "code",
   "execution_count": 8,
   "metadata": {},
   "outputs": [],
   "source": [
    "from typing import TypeVar, Generic, List\n",
    "from heapq import heappush, heappop\n",
    "\n",
    "T = TypeVar('T')\n",
    "\n",
    "class PriorityQueue(Generic[T]):\n",
    "    def __init__(self) -> None:\n",
    "        self._container: List[T] = []\n",
    "\n",
    "    @property\n",
    "    def empty(self) -> bool:\n",
    "        return not self._container  # not is true for empty container\n",
    "\n",
    "    def push(self, item: T) -> None:\n",
    "        heappush(self._container, item)  # in by priority\n",
    "\n",
    "    def pop(self) -> T:\n",
    "        return heappop(self._container)  # out by priority\n",
    "\n",
    "    def __repr__(self) -> str:\n",
    "        return repr(self._container)"
   ]
  },
  {
   "cell_type": "markdown",
   "metadata": {},
   "source": [
    "We also want a way to find the total weight of the edges in a path:"
   ]
  },
  {
   "cell_type": "code",
   "execution_count": 9,
   "metadata": {},
   "outputs": [],
   "source": [
    "from typing import TypeVar, List, Optional\n",
    "\n",
    "\n",
    "V = TypeVar('V') # type of the vertices in the graph\n",
    "WeightedPath = List[WeightedEdge] # type alias for paths\n",
    "\n",
    "def total_weight(wp: WeightedPath) -> float:\n",
    "    return sum([e.weight for e in wp])"
   ]
  },
  {
   "cell_type": "markdown",
   "metadata": {},
   "source": [
    "## Jarnik's Algorithm\n",
    "\n",
    "Jarnik's Algorithm works by dividing a graph into two parts:\n",
    "\n",
    "1) the vertices in the still-being-assembed minimum spanning tree (MST).\n",
    "\n",
    "2) the vertices not yet in the minimum spanning tree.\n",
    "\n",
    "These are the steps:\n",
    "\n",
    "1. Pick a starting vertex to be in the MST.\n",
    "2. Find the lowest-weight edge (minimum edge) connecting the MST to the vertices not yet in the MST.\n",
    "3. Add the vertex at the end of that minimum edge to the MST.\n",
    "4. Repeat steps 2 and 3 until every vertex in the graph is in the MST.\n",
    "\n",
    "\"To run Jarník’s algorithm efficiently, a priority queue is used. Every time a new vertex is added to the minimum spanning tree, all of its outgoing edges that link to vertices outside the tree are added to the priority queue. The lowest-weight edge is always popped off the priority queue, and the algorithm keeps executing until the priority queue is empty. This ensures that the lowest-weight edges are always added to the tree first. Edges that connect to vertices already in the tree are ignored when they are popped. \n",
    "\n",
    "Warning\n",
    "\n",
    "Jarnik's algorithm will not necessarily work correctly in a graph with directed edges. It also will not work in a graph that is not connected.\n",
    "\""
   ]
  },
  {
   "cell_type": "code",
   "execution_count": 10,
   "metadata": {},
   "outputs": [],
   "source": [
    "def mst(wg: WeightedGraph[V], start: int = 0) -> Optional[WeightedPath]:\n",
    "    if start >(wg.vertex_count - 1) or start < 0:\n",
    "        return None\n",
    "    result: WeightedPath = [] # holds the final MST\n",
    "    pq: PriorityQueue[WeightedEdge] = PriorityQueue() # for adding edges of the new vertex\n",
    "    visited: [bool] = [False] * wg.vertex_count # where we've been\n",
    "    # This could also have been accomplished with a Set, similar to explored in bfs()\n",
    "    \n",
    "    def visit(index: int):\n",
    "        visited[index] = True # mark as visited\n",
    "        for edge in wg.edges_for_index(index):\n",
    "            # add all edges coming from here to pq\n",
    "            if not visited[edge.v]:\n",
    "                pq.push(edge)\n",
    "    \n",
    "    # the first vertex is where everything begins\n",
    "    # visit() is an inner convenience function that marks \n",
    "    # a vertex as visited and adds all of its edges that \n",
    "    # connect to vertices not yet visited to pq\n",
    "    visit(start)\n",
    "\n",
    "    while not pq.empty: # keep going while there are edges to process\n",
    "        edge = pq.pop()\n",
    "        if visited[edge.v]:\n",
    "            continue # don't ever revisit\n",
    "        # this s the current smallest, so add it to solution\n",
    "        result.append(edge)\n",
    "        visit(edge.v) # visit where this connects\n",
    "    \n",
    "    return result\n",
    "\n",
    "def print_weighted_path(wg: WeightedGraph, wp: WeightedPath) -> None:\n",
    "    for edge in wp:\n",
    "        print(f'{wg.vertex_at(edge.u)} {edge.weight}> {wg.vertex_at(edge.v)}')\n",
    "        \n",
    "    print(f'Total Weight: {total_weight(wp)}')"
   ]
  },
  {
   "cell_type": "markdown",
   "metadata": {},
   "source": [
    "Solving __city_graph2__"
   ]
  },
  {
   "cell_type": "code",
   "execution_count": 11,
   "metadata": {},
   "outputs": [
    {
     "name": "stdout",
     "output_type": "stream",
     "text": [
      "Seattle 678> San Francisco\n",
      "San Francisco 348> Los Angeles\n",
      "Los Angeles 50> Riverside\n",
      "Riverside 307> Phoenix\n",
      "Phoenix 887> Dallas\n",
      "Dallas 225> Houston\n",
      "Houston 702> Atlanta\n",
      "Atlanta 543> Washington\n",
      "Washington 123> Philadelphia\n",
      "Philadelphia 81> New York\n",
      "New York 190> Boston\n",
      "Washington 396> Detroit\n",
      "Detroit 238> Chicago\n",
      "Atlanta 604> Miami\n",
      "Total Weight: 5372\n"
     ]
    }
   ],
   "source": [
    "result: Optional[WeightedPath] = mst(city_graph2)\n",
    "if result is None:\n",
    "    print('No solution found!')\n",
    "else:\n",
    "    print_weighted_path(city_graph2, result)"
   ]
  },
  {
   "cell_type": "markdown",
   "metadata": {},
   "source": [
    "\"In other words, this is the cumulatively shortest collection of edges that connects all of the MSAs in the weighted graph. The minimum length of track needed to connect all of them is 5,372 miles.\""
   ]
  },
  {
   "cell_type": "code",
   "execution_count": null,
   "metadata": {},
   "outputs": [],
   "source": []
  }
 ],
 "metadata": {
  "kernelspec": {
   "display_name": "Python 3",
   "language": "python",
   "name": "python3"
  },
  "language_info": {
   "codemirror_mode": {
    "name": "ipython",
    "version": 3
   },
   "file_extension": ".py",
   "mimetype": "text/x-python",
   "name": "python",
   "nbconvert_exporter": "python",
   "pygments_lexer": "ipython3",
   "version": "3.7.6"
  }
 },
 "nbformat": 4,
 "nbformat_minor": 2
}
