{
 "cells": [
  {
   "cell_type": "markdown",
   "metadata": {},
   "source": [
    "- A graph is a mathematical construct where we have a set of object (called nodes) in which some pairs are related.\n",
    "\n",
    "- \"We call each of the nodes a _vertex_ and each of the connections an _edge_.\n",
    "\n",
    "- Graphs help us to think abstractly about a problem.\n",
    "\n",
    "# Building a graph framework\n",
    "\n",
    "We will build an edge class that is flexible.\n",
    "\n",
    "Note: The __Edge__ class uses a new feature in Python 3.7: dataclasses. A class marked with the decorator @dataclass saves us the trouble of creating an __init()__ method that instantiates instance variables for any variables declared with type annotations in the class's body."
   ]
  },
  {
   "cell_type": "code",
   "execution_count": 1,
   "metadata": {},
   "outputs": [],
   "source": [
    "from __future__ import annotations\n",
    "from dataclasses import dataclass\n",
    "\n",
    "@dataclass\n",
    "class Edge:\n",
    "    u: int # the 'from' vertex\n",
    "    v: int # the 'to' vertex\n",
    "    \n",
    "    # the reversed method is meant to return an Edge that travels the opposite direction\n",
    "    def reversed(self) -> Edge:\n",
    "        return Edge(self.v, self.u)\n",
    "    \n",
    "    def __str__(self) -> str:\n",
    "        return f'{self.u} -> {self.u}'"
   ]
  },
  {
   "cell_type": "markdown",
   "metadata": {},
   "source": [
    "## Graph class"
   ]
  },
  {
   "cell_type": "code",
   "execution_count": 2,
   "metadata": {},
   "outputs": [],
   "source": [
    "from typing import TypeVar, Generic, List, Optional\n",
    "\n",
    "V = TypeVar('V') # type of the vertices in the graph\n",
    "\n",
    "# We initialise a list of vertices with edges to be added later\n",
    "class Graph(Generic[V]):\n",
    "    def __init__(self, vertices: List[V] = []) -> None:\n",
    "        self._vertices: List[V] = vertices\n",
    "        self._edges: List[List[Edge]] = [[] for _ in vertices] #initialised to a list of blank lists\n",
    "        \n",
    "    @property\n",
    "    def vertex_count(self) -> int:\n",
    "        return len(self._vertices) # number of vertices\n",
    "\n",
    "    @property\n",
    "    def edge_count(self) -> int:\n",
    "        return sum(map(len, self._edges))\n",
    "\n",
    "    # add a vertex to the graph and return its index\n",
    "    def add_vertex(self, vertex: V)-> int:\n",
    "        self._vertices.append(vertex)\n",
    "        self._edges.append([]) # add empty list for containing edges\n",
    "        return self.vertex_count - 1 # return index of added vertex\n",
    "\n",
    "    # This is an undirected graph,\n",
    "    # so we always add edges in both directions\n",
    "    def add_edge(self, edge: Edge) -> None:\n",
    "        self._edges[edge.u].append(edge)\n",
    "        self._edges[edge.v].append(edge.reversed())\n",
    "    \n",
    "    # Add an edge using vertex indices (convenience method)\n",
    "    def add_edge_by_indices(self, u: int, v: int) -> None:\n",
    "        edge: Edge = Edge(u, v)\n",
    "        self.add_edge(edge)\n",
    "    \n",
    "    # Add an edge by looking up (existing) vertex indices (convenience method)\n",
    "    def add_edge_by_vertices(self, first: V, second: V) -> None:\n",
    "        u: int = self._vertices.index(first)\n",
    "        v: int = self._vertices.index(second)\n",
    "        self.add_edge_by_indices(u, v)\n",
    "    \n",
    "    # Find the vertex at a specific index\n",
    "    def vertex_at(self, index: int) -> V:\n",
    "        return self._vertices[index]\n",
    "    \n",
    "    # Find the index of a vertex in the graph\n",
    "    def index_of(self, vertex: V) -> int:\n",
    "        return self._vertices.index(vertex)\n",
    "\n",
    "    # Find the vertices that a vertex t some index is connected to:\n",
    "    def neighbors_for_index(self, index: int) -> List[V]:\n",
    "        return list(map(self.vertex_at, [e.v for e in self._edges[index]]))\n",
    "\n",
    "    # Look up a vertice's index and find its neighbours (convience method)\n",
    "    def neighbors_for_vertex(self, vertex: V) -> List[V]:\n",
    "        return self.neighbors_for_index(self.index_of(vertex))\n",
    "\n",
    "    # Return all of the edges associated with a vertex at some index\n",
    "    def edges_for_vertex(self, vertex: V) -> List[Edge]:\n",
    "        return self.edges_for_index(self.index_of(vertex))\n",
    "\n",
    "    # make sure it is easy to pretty-print a Graph\n",
    "    def __str__(self) -> str:\n",
    "        desc: str = ''\n",
    "        for i in range(self.vertex_count):\n",
    "            desc += f'{self.vertex_at(i)} -> {self.neighbors_for_index(i)} \\n'\n",
    "        return desc"
   ]
  },
  {
   "cell_type": "markdown",
   "metadata": {},
   "source": [
    "# Working with Edge and Graph (4.2.1)"
   ]
  },
  {
   "cell_type": "code",
   "execution_count": 3,
   "metadata": {},
   "outputs": [],
   "source": [
    "# test basic Graph construction\n",
    "city_graph: Graph[str] = Graph(['Seattle', 'San Francisco', 'Los Angeles', \n",
    "                                'Riverside', 'Phoenix', 'Chicago', 'Boston',\n",
    "                                'New York','Atlanta', 'Miami', 'Dallas', \n",
    "                                'Houston', 'Detroit', 'Philadelphia',\n",
    "                                'Washington'])\n",
    "city_graph.add_edge_by_vertices('Seattle', 'Chicago')\n",
    "city_graph.add_edge_by_vertices('Seattle', 'San Francisco')\n",
    "city_graph.add_edge_by_vertices('San Francisco', 'Riverside')\n",
    "city_graph.add_edge_by_vertices('San Francisco', 'Los Angeles')\n",
    "city_graph.add_edge_by_vertices('Los Angeles', 'Riverside')\n",
    "city_graph.add_edge_by_vertices('Los Angeles', 'Phoenix')\n",
    "city_graph.add_edge_by_vertices('Riverside', 'Phoenix')\n",
    "city_graph.add_edge_by_vertices('Riverside', 'Chicago')\n",
    "city_graph.add_edge_by_vertices('Phoenix', 'Dallas')\n",
    "city_graph.add_edge_by_vertices('Phoenix', 'Houston')\n",
    "city_graph.add_edge_by_vertices('Dallas', 'Chicago')\n",
    "city_graph.add_edge_by_vertices('Dallas', 'Atlanta')\n",
    "city_graph.add_edge_by_vertices('Dallas', 'Houston')\n",
    "city_graph.add_edge_by_vertices('Houston', 'Atlanta')\n",
    "city_graph.add_edge_by_vertices('Houston', 'Miami')\n",
    "city_graph.add_edge_by_vertices('Atlanta', 'Chicago')\n",
    "city_graph.add_edge_by_vertices('Atlanta', 'Washington')\n",
    "city_graph.add_edge_by_vertices('Atlanta', 'Miami')\n",
    "city_graph.add_edge_by_vertices('Miami', 'Washington')\n",
    "city_graph.add_edge_by_vertices('Chicago', 'Detroit')\n",
    "city_graph.add_edge_by_vertices('Detroit', 'Boston')\n",
    "city_graph.add_edge_by_vertices('Detroit', 'Washington')\n",
    "city_graph.add_edge_by_vertices('Detroit', 'New York')\n",
    "city_graph.add_edge_by_vertices('Boston', 'New York')\n",
    "city_graph.add_edge_by_vertices('New York', 'Philadelphia')\n",
    "city_graph.add_edge_by_vertices('Philadelphia', 'Washington')\n",
    "print(city_graph)"
   ]
  },
  {
   "cell_type": "markdown",
   "metadata": {},
   "source": [
    "# Revisiting Breadth-first search (BFS)\n",
    "\n",
    "“What is the shortest path between Boston and Miami?”\n",
    "\n",
    "We can reuse the generic code in Chapter 2.\n",
    "\n",
    "Note: https://stackoverflow.com/questions/4383571/importing-files-from-different-folder"
   ]
  },
  {
   "cell_type": "code",
   "execution_count": 4,
   "metadata": {},
   "outputs": [
    {
     "name": "stdout",
     "output_type": "stream",
     "text": [
      "Path from Boston to Miami \n",
      "\n",
      "['Boston', 'Detroit', 'Washington', 'Miami']\n"
     ]
    }
   ],
   "source": [
    "import sys\n",
    "sys.path.append('../Chapter 2/')\n",
    "from generic_search import bfs, Node, node_to_path\n",
    "\n",
    "# bfs takes 3 arguments: starting point, a callable that returns a boolean value, and a callable that returns\n",
    "# a list of lists\n",
    "bfs_result: Optional[Node[V]] = bfs('Boston', lambda x: x == 'Miami', city_graph.neighbors_for_vertex)\n",
    "\n",
    "if bfs_result is None:\n",
    "    print('No solution found using breadth first search!')\n",
    "else:\n",
    "    path: List[V] = node_to_path(bfs_result)\n",
    "    print('Path from Boston to Miami \\n')\n",
    "    print(path)"
   ]
  },
  {
   "cell_type": "markdown",
   "metadata": {},
   "source": [
    "# Minimising the cost of building the network\n",
    "\n",
    "In the previous breadth first search, we looked at the path with the fewest steps. However, in practice, edges have weights representing some kind of cost of travelling from one vertex to another. In the current example, we will add weights that represent the distances in miles between the cities (vertices).\n",
    "\n",
    "To handle weights, we need a subclass of __Edge__ - __WeightedEdge__"
   ]
  },
  {
   "cell_type": "code",
   "execution_count": null,
   "metadata": {},
   "outputs": [],
   "source": []
  }
 ],
 "metadata": {
  "kernelspec": {
   "display_name": "Python 3",
   "language": "python",
   "name": "python3"
  },
  "language_info": {
   "codemirror_mode": {
    "name": "ipython",
    "version": 3
   },
   "file_extension": ".py",
   "mimetype": "text/x-python",
   "name": "python",
   "nbconvert_exporter": "python",
   "pygments_lexer": "ipython3",
   "version": "3.7.6"
  }
 },
 "nbformat": 4,
 "nbformat_minor": 2
}
